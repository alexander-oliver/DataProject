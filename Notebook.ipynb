{
 "cells": [
  {
   "cell_type": "code",
   "execution_count": 1,
   "metadata": {},
   "outputs": [],
   "source": [
    "from model import Gmail\n",
    "G = Gmail()"
   ]
  },
  {
   "cell_type": "code",
   "execution_count": 2,
   "metadata": {},
   "outputs": [
    {
     "data": {
      "text/plain": [
       "'Do you believe in making every day a great day for each of our students? Tomorrow, we’ll celebrate YOUR reason.View this email in your browser (https://mailchi.mp/a762617c1e6e/are-you-ready-to-celebrate-givingtuesday?e=273b951d55)Are you looking forward to tomorrow?There’s a feeling of anticipation ... like the night before your first day at a new school.One of our students remembers being nervous about coming to Flint Hill as a new ninth grader, wondering if he would be welcomed from a rival school.Now a senior, he feels fortunate to have been embraced by our kind and close-knit Flint Hill family. He’s grown into the role of a student leader. He’s discovered a new confidence and been inspired by teachers, administrators, coaches and friends who believe in him.And, we know he’s destined for great things beyond our School walls.Do you believe in making every day a great day for each of our students? Tomorrow, we’ll celebrate YOUR reason.Don’t want to wait to celebrate? Make your gift now (https://www.givecampus.com/efwe6d) and share why you think it’s always a great day to be a Husky!https://www.givecampus.com/efwe6d============================================================** Flint Hill School (http://www.flinthill.org/)Upper School Campus 3320 Jermantown RoadLower and Middle School Campus 10409 Academic Drive Oakton, VA 22124This email was sent to royceschultz1@gmail.com (mailto:royceschultz1@gmail.com)why did I get this? (https://flinthill.us19.list-manage.com/about?u=21e5d7cf12097b99809ea32c3&id=970e8ea23f&e=273b951d55&c=c2de2ba8c3) unsubscribe from this list (https://flinthill.us19.list-manage.com/unsubscribe?u=21e5d7cf12097b99809ea32c3&id=970e8ea23f&e=273b951d55&c=c2de2ba8c3) update subscription preferences (https://flinthill.us19.list-manage.com/profile?u=21e5d7cf12097b99809ea32c3&id=970e8ea23f&e=273b951d55)Flint Hill School . 3320 Jermantown Rd . Flint Hill School . Oakton, VA 22124-2405 . USA 96 Are you Ready to Celebrate #GivingTuesday? ptableh1,h2,h3,h4,h5,h6img,a imgbody,#bodyTable,#bodyCell.mcnPreviewText#outlook aimgtable.ReadMsgBody.ExternalClassp,a,li,td,blockquotea[href^=tel],a[href^=sms]p,a,li,td,body,table,blockquote.ExternalClass,.ExternalClass p,.ExternalClass td,.ExternalClass div,.ExternalClass span,.ExternalClass fonta[x-apple-data-detectors]#bodyCell.templateContainera.mcnButton.mcnImage,.mcnRetinaImage.mcnTextContent.mcnTextContent img.mcnDividerBlockbody,#bodyTable#bodyCell.templateContainerh1h2h3h4#templatePreheader#templatePreheader .mcnTextContent,#templatePreheader .mcnTextContent p#templatePreheader .mcnTextContent a,#templatePreheader .mcnTextContent p a#templateHeader#templateHeader .mcnTextContent,#templateHeader .mcnTextContent p#templateHeader .mcnTextContent a,#templateHeader .mcnTextContent p a#templateBody#templateBody .mcnTextContent,#templateBody .mcnTextContent p#templateBody .mcnTextContent a,#templateBody .mcnTextContent p a#templateFooter#templateFooter .mcnTextContent,#templateFooter .mcnTextContent p#templateFooter .mcnTextContent a,#templateFooter .mcnTextContent p a@media only screen and (min-width:768px)}@media only screen and (max-width: 480px)}@media only screen and (max-width: 480px)}@media only screen and (max-width: 480px)}@media only screen and (max-width: 480px)}@media only screen and (max-width: 480px)}@media only screen and (max-width: 480px)}@media only screen and (max-width: 480px)}@media only screen and (max-width: 480px)}@media only screen and (max-width: 480px)}@media only screen and (max-width: 480px)}@media only screen and (max-width: 480px)}@media only screen and (max-width: 480px)}@media only screen and (max-width: 480px)}@media only screen and (max-width: 480px)}@media only screen and (max-width: 480px)}@media only screen and (max-width: 480px)}@media only screen and (max-width: 480px)}@media only screen and (max-width: 480px)}@media only screen and (max-width: 480px)}@media only screen and (max-width: 480px)}@media only screen and (max-width: 480px)}@media only screen and (max-width: 480px)}@media only screen and (max-width: 480px)}@media only screen and (max-width: 480px)}@media only screen and (max-width: 480px)}@media only screen and (max-width: 480px)} Do you believe in making every day a great day for each of our students? Tomorrow, we’ll celebrate YOUR reason. View this email in your browser Are you looking forward to tomorrow?There’s a feeling of anticipation ... like the night before your first day at a new school.One of our students remembers being nervous about coming to Flint Hill as a new ninth grader, wondering if he would be welcomed from a rival school.Now a senior, he feels fortunate to have been embraced by our kind and close-knit Flint Hill family. He’s grown into the role of a student leader. He’s discovered a new confidence and been inspired by teachers, administrators, coaches and friends who believe in him.And, we know he’s destined for great things beyond our School walls.Do you believe in making every day a great day for each of our students? Tomorrow, we’ll celebrate YOUR reason.Don’t want to wait to celebrate? Make your gift now and share why you think it’s always a great day to be a Husky! Flint Hill SchoolUpper School Campus 3320 Jermantown RoadLower and Middle School Campus 10409 Academic Drive Oakton, VA 22124 This email was sent to royceschultz1@gmail.com why did I get this?unsubscribe from this listupdate subscription preferences Flint Hill School &middot; 3320 Jermantown Rd &middot; Flint Hill School &middot; Oakton, VA 22124-2405 &middot; USA @media only screen and (max-width: 480px) table#canspamBar td a } '"
      ]
     },
     "execution_count": 2,
     "metadata": {},
     "output_type": "execute_result"
    }
   ],
   "source": [
    "G.popMessage()"
   ]
  },
  {
   "cell_type": "code",
   "execution_count": 6,
   "metadata": {},
   "outputs": [],
   "source": [
    "for i in range(10):\n",
    "    m = G.popMessage()\n",
    "    with open(f'Output/parse{i}.txt','w') as file:\n",
    "        file.write(m)"
   ]
  },
  {
   "cell_type": "code",
   "execution_count": 9,
   "metadata": {},
   "outputs": [],
   "source": [
    "defaultLabels = ['INBOX',\n",
    "                 'SPAM',\n",
    "                 'TRASH',\n",
    "                 'UNREAD',\n",
    "                 'STARRED',\n",
    "                 'IMPORTANT',\n",
    "                 'SENT',\n",
    "                 'DRAFT',\n",
    "                 'CATEGORY_PERSONAL',\n",
    "                 'CATEGORY_SOCIAL',\n",
    "                 'CATEGORY_PROMOTIONS',\n",
    "                 'CATEGORY_UPDATES',\n",
    "                 'CATEGORY_FORUMS'\n",
    "                ]"
   ]
  },
  {
   "cell_type": "code",
   "execution_count": 10,
   "metadata": {},
   "outputs": [
    {
     "name": "stdout",
     "output_type": "stream",
     "text": [
      "Bills/Utilities\n",
      "Bills\n",
      "Bills/Apartment\n",
      "Bills/Recipts\n",
      "CHAT\n"
     ]
    }
   ],
   "source": [
    "labels = G.getLabels()\n",
    "for l in labels:\n",
    "    if l['name'] not in defaultLabels:\n",
    "        print(l['name'])"
   ]
  },
  {
   "cell_type": "code",
   "execution_count": null,
   "metadata": {},
   "outputs": [],
   "source": []
  }
 ],
 "metadata": {
  "kernelspec": {
   "display_name": "Python 3",
   "language": "python",
   "name": "python3"
  },
  "language_info": {
   "codemirror_mode": {
    "name": "ipython",
    "version": 3
   },
   "file_extension": ".py",
   "mimetype": "text/x-python",
   "name": "python",
   "nbconvert_exporter": "python",
   "pygments_lexer": "ipython3",
   "version": "3.7.5"
  }
 },
 "nbformat": 4,
 "nbformat_minor": 2
}

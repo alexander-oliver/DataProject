{
 "cells": [
  {
   "cell_type": "code",
   "execution_count": 1,
   "metadata": {},
   "outputs": [],
   "source": [
    "from model import Gmail\n",
    "G = Gmail()\n",
    "\n",
    "from shingles import *"
   ]
  },
  {
   "cell_type": "code",
   "execution_count": 2,
   "metadata": {},
   "outputs": [],
   "source": [
    "x = G.popMessage()\n",
    "y = G.popMessage()"
   ]
  },
  {
   "cell_type": "code",
   "execution_count": 3,
   "metadata": {},
   "outputs": [
    {
     "data": {
      "text/plain": [
       "0.011898173768677366"
      ]
     },
     "execution_count": 3,
     "metadata": {},
     "output_type": "execute_result"
    }
   ],
   "source": [
    "JaccardSim(shingles(5,x),shingles(5,y))"
   ]
  },
  {
   "cell_type": "code",
   "execution_count": 4,
   "metadata": {},
   "outputs": [
    {
     "data": {
      "text/plain": [
       "'CU Boulder presents the best in the performing arts.CU Presents logohttp://email.wordfly.com/click?sid=MzM2XzkxMzFfMTMzNjgxXzcxMTY&l=9d731a8e-8b0c-ea11-a31f-e61f134a8c87&utm_source=wordfly&utm_medium=email&utm_campaign=CUP20%20ACE%20eblast%20-%20%22Holidays%22%20followup%202&utm_content=version_ATrouble loading? Try thishttp://email.wordfly.com/view?sid=MzM2XzkxMzFfMTMzNjgxXzcxMTY&l=8f731a8e-8b0c-ea11-a31f-e61f134a8c87&utm_source=wordfly&utm_medium=email&utm_campaign=CUP20%20ACE%20eblast%20-%20%22Holidays%22%20followup%202&utm_content=version_Ahttp://email.wordfly.com/click?sid=MzM2XzkxMzFfMTMzNjgxXzcxMTY&l=9e731a8e-8b0c-ea11-a31f-e61f134a8c87&utm_source=wordfly&utm_medium=email&utm_campaign=CUP20%20ACE%20eblast%20-%20%22Holidays%22%20followup%202&utm_content=version_AScenes from the CU Boulder summer campusCU students get 25% off tickets CU Presents is the best in the performing arts on the CU Boulder campus. As a CU Student, you get 25% off tickets to the Artist Series at Macky Auditorium, Takács Quartet, CU Theatre & Dance, CU College of Music\\'s Eklund Opera program and the Colorado Shakespeare Festival.Don\\'t miss this year\\'s headliners like the Grammy-winning Chick Corea Trilogy, Mozart\\'s \"The Marriage of Figaro\" and audience favorite Pilobolus. Plus, ring in the holidays with anything from our irreverent, \"A Broadway Christmas Carol\" to Heggie and Scheer\\'s nostalgic \"It\\'s a Wonderful Life.\"*Choose \"CU Student\" when selecting your seat.Buy Ticketshttp://email.wordfly.com/click?sid=MzM2XzkxMzFfMTMzNjgxXzcxMTY&l=9f731a8e-8b0c-ea11-a31f-e61f134a8c87&utm_source=wordfly&utm_medium=email&utm_campaign=CUP20%20ACE%20eblast%20-%20%22Holidays%22%20followup%202&utm_content=version_ALearn morehttp://email.wordfly.com/click?sid=MzM2XzkxMzFfMTMzNjgxXzcxMTY&l=a0731a8e-8b0c-ea11-a31f-e61f134a8c87&utm_source=wordfly&utm_medium=email&utm_campaign=CUP20%20ACE%20eblast%20-%20%22Holidays%22%20followup%202&utm_content=version_AJoin our email listTell us what you\\'re interested in, and we\\'ll keep you up to date on the hundreds of performances happening at CU Boulder.Sign Uphttp://email.wordfly.com/click?sid=MzM2XzkxMzFfMTMzNjgxXzcxMTY&l=96731a8e-8b0c-ea11-a31f-e61f134a8c87&utm_source=wordfly&utm_medium=email&utm_campaign=CUP20%20ACE%20eblast%20-%20%22Holidays%22%20followup%202&utm_content=version_AExplore free events and live streamingFrom Faculty Tuesdays to the CU Symphony Orchestra to Acting Studio Productions, don\\'t miss out on dozens of free professional and academic performances in music, theatre and dance. Can\\'t make it in-person? Watch performances from the comfort of your home with select Livestream performances.Free Eventshttp://email.wordfly.com/click?sid=MzM2XzkxMzFfMTMzNjgxXzcxMTY&l=a1731a8e-8b0c-ea11-a31f-e61f134a8c87&utm_source=wordfly&utm_medium=email&utm_campaign=CUP20%20ACE%20eblast%20-%20%22Holidays%22%20followup%202&utm_content=version_ALivestreamhttp://email.wordfly.com/click?sid=MzM2XzkxMzFfMTMzNjgxXzcxMTY&l=a2731a8e-8b0c-ea11-a31f-e61f134a8c87&utm_source=wordfly&utm_medium=email&utm_campaign=CUP20%20ACE%20eblast%20-%20%22Holidays%22%20followup%202&utm_content=version_ADon\\'t want emails from CU Presents?Parting is such sweet sorrow, but please unsubscribe. All of us here at CU Presents hope you enjoy everything CU Boulder has to offer while you\\'re here!Unsubscribehttp://email.wordfly.com/unsubscribe?sid=MzM2XzkxMzFfMTMzNjgxXzcxMTYGet in touchCU Presents303-492-8008cupresents@colorado.edu972 Broadway, Boulder, CO 80309Contact preferencesYou are receiving this email as a payer of the CU Boulder Arts & Cultural Enrichment Fee.Unsubscribehttp://email.wordfly.com/unsubscribe?sid=MzM2XzkxMzFfMTMzNjgxXzcxMTYCU logohttp://email.wordfly.com/click?sid=MzM2XzkxMzFfMTMzNjgxXzcxMTY&l=9c731a8e-8b0c-ea11-a31f-e61f134a8c87&utm_source=wordfly&utm_medium=email&utm_campaign=CUP20%20ACE%20eblast%20-%20%22Holidays%22%20followup%202&utm_content=version_ACU Presents logohttp://email.wordfly.com/click?sid=MzM2XzkxMzFfMTMzNjgxXzcxMTY&l=9d731a8e-8b0c-ea11-a31f-e61f134a8c87&utm_source=wordfly&utm_medium=email&utm_campaign=CUP20%20ACE%20eblast%20-%20%22Holidays%22%20followup%202&utm_content=version_ATrouble loading? Try thishttp://email.wordfly.com/view?sid=MzM2XzkxMzFfMTMzNjgxXzcxMTY&l=8f731a8e-8b0c-ea11-a31f-e61f134a8c87&utm_source=wordfly&utm_medium=email&utm_campaign=CUP20%20ACE%20eblast%20-%20%22Holidays%22%20followup%202&utm_content=version_Ahttp://email.wordfly.com/click?sid=MzM2XzkxMzFfMTMzNjgxXzcxMTY&l=9e731a8e-8b0c-ea11-a31f-e61f134a8c87&utm_source=wordfly&utm_medium=email&utm_campaign=CUP20%20ACE%20eblast%20-%20%22Holidays%22%20followup%202&utm_content=version_A@cupresentsCU students get 25% off tickets CU Presents is the best in the performing arts on the CU Boulder campus. As a CU Student, you get 25% off tickets to the Artist Series at Macky Auditorium, Takács Quartet, CU Theatre & Dance, CU College of Music\\'s Eklund Opera program and the Colorado Shakespeare Festival.Don\\'t miss this year\\'s headliners like the Grammy-winning Chick Corea Trilogy, Mozart\\'s \"The Marriage of Figaro\" and audience favorite Pilobolus. Plus, ring in the holidays with anything from our irreverent, \"A Broadway Christmas Carol\" to Heggie and Scheer\\'s nostalgic \"It\\'s a Wonderful Life.\"*Choose \"CU Student\" when selecting your seat.Buy Ticketshttp://email.wordfly.com/click?sid=MzM2XzkxMzFfMTMzNjgxXzcxMTY&l=9f731a8e-8b0c-ea11-a31f-e61f134a8c87&utm_source=wordfly&utm_medium=email&utm_campaign=CUP20%20ACE%20eblast%20-%20%22Holidays%22%20followup%202&utm_content=version_ALearn morehttp://email.wordfly.com/click?sid=MzM2XzkxMzFfMTMzNjgxXzcxMTY&l=a0731a8e-8b0c-ea11-a31f-e61f134a8c87&utm_source=wordfly&utm_medium=email&utm_campaign=CUP20%20ACE%20eblast%20-%20%22Holidays%22%20followup%202&utm_content=version_AJoin our email listTell us what you\\'re interested in, and we\\'ll keep you up to date on the hundreds of performances happening at CU Boulder.Sign Uphttp://email.wordfly.com/click?sid=MzM2XzkxMzFfMTMzNjgxXzcxMTY&l=96731a8e-8b0c-ea11-a31f-e61f134a8c87&utm_source=wordfly&utm_medium=email&utm_campaign=CUP20%20ACE%20eblast%20-%20%22Holidays%22%20followup%202&utm_content=version_AExplore free and livestream eventsFrom Faculty Tuesdays to the CU Symphony Orchestra to Acting Studio Productions, don\\'t miss out on dozens of free professional and academic performances in music, theatre and dance. Can\\'t make it in-person? Watch performances from the comfort of your home with select Livestream performances.Free Eventshttp://email.wordfly.com/click?sid=MzM2XzkxMzFfMTMzNjgxXzcxMTY&l=a1731a8e-8b0c-ea11-a31f-e61f134a8c87&utm_source=wordfly&utm_medium=email&utm_campaign=CUP20%20ACE%20eblast%20-%20%22Holidays%22%20followup%202&utm_content=version_ALivestreamhttp://email.wordfly.com/click?sid=MzM2XzkxMzFfMTMzNjgxXzcxMTY&l=a2731a8e-8b0c-ea11-a31f-e61f134a8c87&utm_source=wordfly&utm_medium=email&utm_campaign=CUP20%20ACE%20eblast%20-%20%22Holidays%22%20followup%202&utm_content=version_ADon\\'t want emails from CU Presents?Parting is such sweet sorrow, but please unsubscribe. All of us here at CU Presents hope you enjoy everything CU Boulder has to offer while you\\'re here!Unsubscribehttp://email.wordfly.com/unsubscribe?sid=MzM2XzkxMzFfMTMzNjgxXzcxMTYGet in touchCU Presents303-492-8008cupresents@colorado.edu972 Broadway, Boulder, CO 80309Contact preferencesYou are receiving this email as a payer of the CU Boulder Arts & Cultural Enrichment Fee.Unsubscribehttp://email.wordfly.com/unsubscribe?sid=MzM2XzkxMzFfMTMzNjgxXzcxMTYCU logohttp://email.wordfly.com/click?sid=MzM2XzkxMzFfMTMzNjgxXzcxMTY&l=9c731a8e-8b0c-ea11-a31f-e61f134a8c87&utm_source=wordfly&utm_medium=email&utm_campaign=CUP20%20ACE%20eblast%20-%20%22Holidays%22%20followup%202&utm_content=version_A/* device width specific (e.g. iPhone-ish) */@media only screen and (max-width: 480px) /* mobile scale rules */.mobile-scale > .column .mobile-scale.desktop-reverse .mobile-scale.desktop-reverse > .column .mobile-scale.two-columns-block .column .mobile-scale.three-columns-block .column [class*=mobile-scale].two-columns-block.split-33-66 .column:first-child [class*=mobile-scale].two-columns-block.split-33-66 .column [class*=mobile-scale].two-columns-block.split-66-33 .column:first-child [class*=mobile-scale].two-columns-block.split-66-33 .column [class*=mobile-scale].two-columns-block.split-25-75 .column:first-child [class*=mobile-scale].two-columns-block.split-25-75 .column [class*=mobile-scale].two-columns-block.split-75-25 .column:first-child [class*=mobile-scale].two-columns-block.split-75-25 .column [class*=mobile-scale].two-columns-block.split-20-80 .column:first-child [class*=mobile-scale].two-columns-block.split-20-80 .column [class*=mobile-scale].two-columns-block.split-80-20 .column:first-child [class*=mobile-scale].two-columns-block.split-80-20 .column [class*=mobile-scale].three-columns-block.split-50-25-25 .column:first-child [class*=mobile-scale].three-columns-block.split-50-25-25 .column [class*=mobile-scale].three-columns-block.split-25-25-50 .column [class*=mobile-scale].three-columns-block.split-25-25-50 .column:nth-child(3) /* hide on desktop */.desktop-hide /* hide on mobile */.mobile-hide }@media only screen and (max-width: 480px) p .preheader-block p .footer-block h1 .footer-block p #text-block-1495483942656 p #image-block-1495483942658 #text-block-1495483942660 #two-columns-block-1495483942676 #text-block-1495484034783 p #image-block-1495484034785 #text-block-1495484034787 #two-columns-block-1495484034803 #text-block-1553632305335 #text-block-1559847771986 #two-columns-block-1559847942312 #text-block-1559847942324 #text-block-1495483942660 h1 .text-block h1 #text-block-1559849814112 #button-block-1559850402617 #button-block-1559850402617 div.button div #button-block-1559850540135 #button-block-1559850540135 div.button div #button-block-1559850402617 div.button a #button-block-1559850598492 #button-block-1559850598492 div.button div #button-block-1559850658470 #button-block-1559850658470 div.button div #text-block-1559850671869 #text-block-1495483942656 a #divider-block-1560279026534 #image-block-1495483942658 p.caption #text-block-1564602987669 #two-columns-block-1564603059084 #two-columns-block-1564610570113 #button-block-1564610833252 #button-block-1564610833252 div.button div #text-block-1565036317550 #text-block-1565036401768 #text-block-1565036521470 #text-block-1495483942660 p.fine-print #text-block-1495483942660 h2 #text-block-1565036521470 h2 #text-block-1559849814112 h2 #text-block-1573618782526 #text-block-1573618989090 #button-block-1559847942322 #button-block-1559847942322 div.button div #image-block-1573619465679 #text-block-1573619473382 #button-block-1573619478330 #button-block-1573619478330 div.button div #image-block-1573619638858 #text-block-1573619643364 #button-block-1573619647878 #button-block-1573619647878 div.button div #image-block-1573619980947 #text-block-1573619987136 #button-block-1573619994086 #button-block-1573619994086 div.button div #button-block-1573619478330 div.button #button-block-1564610570116 #button-block-1573688679307 #button-block-1573688679307 div.button div #button-block-1573688694359 #button-block-1573688694359 div.button div }/* Outlook specific duct tape styles */table td, th CU Presents96The holidays at CU Boulder!Trouble loading? Try thisCelebrate the holidays at CU Boulder this season!From Christmas favorites to irreverent holiday fun, CU Boulder is the place to be this season—and it\\'s all happening right now.@cupresentsA Broadway Christmas CarolA musical created by Kathy FeiningerIn this satirical mash-up of Dickens with Broadway, his famous holiday tale gets roasted.Now playing through Dec. 8, University Theatre25% off for CU Boulder studentsBuy Tickets@cupresentsHoliday FestivalBoulder\\'s beloved holiday traditionDelight in twinkling lights, seasonal greenery and enchanting, beautiful holiday music.Dec. 6-8, Macky AuditoriumBuy Tickets@cupresentsNatalie MacMaster and Donnell LeahyA Celtic Family ChristmasCelebrate the season with married fiddle icons MacMaster and Leahy—and their children.Dec. 17, Macky Auditorium25% off for CU Boulder studentsBuy TicketsJoin our regular email listAs a CU Boulder student, you get 25% off tickets to performances for the Artist Series at Macky Auditorium, Takács Quartet, CU Theatre &amp; Dance, CU College of Music\\'s Eklund Opera program and the Colorado Shakespeare Festival. Plus, enjoy dozens of free and live streamed events from the College of Music. There\\'s something for everyone.Sign UpFollow us on Instagram, FacebookandTwitter, @cupresents.Don\\'t want emails from CU Presents?Parting is such sweet sorrow, but please unsubscribe. All of us here at CU Presents hope you enjoy everything CU Boulder has to offer while you\\'re here!UnsubscribeGet in touchCU Presents303-492-8008cupresents@colorado.edu972 Broadway, Boulder, CO 80309Contact preferencesYou are receiving this email as a payer of the CU Boulder Arts &amp; Cultural Enrichment Fee.UnsubscribeThe holidays at CU Boulder!Trouble loading? Try thisCelebrate the holidays at CU Boulder this season!From Christmas favorites to irreverent holiday fun, CU Boulder is the place to be this season—and it\\'s all happening right now.@cupresentsA Broadway Christmas CarolA musical created by Kathy FeiningerIn this satirical mash-up of Dickens with Broadway, his famous holiday tale gets roasted.Now playing through Dec. 8, University Theatre25% off for CU Boulder studentsBuy Tickets@cupresentsHoliday FestivalBoulder\\'s beloved holiday traditionDelight in twinkling lights, seasonal greenery and enchanting, beautiful holiday music.Dec. 6-8, Macky AuditoriumBuy Tickets@cupresentsNatalie MacMaster and Donnell LeahyA Celtic Family ChristmasCelebrate the season with married fiddle icons MacMaster and Leahy—and their children.Dec. 17, Macky Auditorium25% off for CU Boulder studentsBuy TicketsJoin our regular email listAs a CU Boulder student, you get 25% off tickets to performances for the Artist Series at Macky Auditorium, Takács Quartet, CU Theatre &amp; Dance, CU College of Music\\'s Eklund Opera program and the Colorado Shakespeare Festival. Plus, enjoy dozens of free and live streamed events from the College of Music. There\\'s something for everyone.Sign UpFollow us on Instagram, FacebookandTwitter, @cupresents.Don\\'t want emails from CU Presents?Parting is such sweet sorrow, but please unsubscribe. All of us here at CU Presents hope you enjoy everything CU Boulder has to offer while you\\'re here!UnsubscribeGet in touchCU Presents303-492-8008cupresents@colorado.edu972 Broadway, Boulder, CO 80309Contact preferencesYou are receiving this email as a payer of the CU Boulder Arts &amp; Cultural Enrichment Fee.Unsubscribe'"
      ]
     },
     "execution_count": 4,
     "metadata": {},
     "output_type": "execute_result"
    }
   ],
   "source": [
    "x"
   ]
  },
  {
   "cell_type": "code",
   "execution_count": 5,
   "metadata": {},
   "outputs": [
    {
     "data": {
      "text/plain": [
       "[{'id': 'CATEGORY_PERSONAL',\n",
       "  'name': 'CATEGORY_PERSONAL',\n",
       "  'messageListVisibility': 'hide',\n",
       "  'labelListVisibility': 'labelHide',\n",
       "  'type': 'system'},\n",
       " {'id': 'CATEGORY_SOCIAL',\n",
       "  'name': 'CATEGORY_SOCIAL',\n",
       "  'messageListVisibility': 'hide',\n",
       "  'labelListVisibility': 'labelHide',\n",
       "  'type': 'system'},\n",
       " {'id': 'Label_1280582742757164775',\n",
       "  'name': 'College/Fall 19',\n",
       "  'type': 'user'},\n",
       " {'id': 'CATEGORY_FORUMS',\n",
       "  'name': 'CATEGORY_FORUMS',\n",
       "  'messageListVisibility': 'hide',\n",
       "  'labelListVisibility': 'labelHide',\n",
       "  'type': 'system'},\n",
       " {'id': 'Label_2438748114816781986',\n",
       "  'name': 'College',\n",
       "  'messageListVisibility': 'show',\n",
       "  'labelListVisibility': 'labelShow',\n",
       "  'type': 'user'},\n",
       " {'id': 'IMPORTANT',\n",
       "  'name': 'IMPORTANT',\n",
       "  'messageListVisibility': 'hide',\n",
       "  'labelListVisibility': 'labelHide',\n",
       "  'type': 'system'},\n",
       " {'id': 'CATEGORY_UPDATES',\n",
       "  'name': 'CATEGORY_UPDATES',\n",
       "  'messageListVisibility': 'hide',\n",
       "  'labelListVisibility': 'labelHide',\n",
       "  'type': 'system'},\n",
       " {'id': 'CHAT',\n",
       "  'name': 'CHAT',\n",
       "  'messageListVisibility': 'hide',\n",
       "  'labelListVisibility': 'labelHide',\n",
       "  'type': 'system'},\n",
       " {'id': 'SENT', 'name': 'SENT', 'type': 'system'},\n",
       " {'id': 'INBOX', 'name': 'INBOX', 'type': 'system'},\n",
       " {'id': 'TRASH',\n",
       "  'name': 'TRASH',\n",
       "  'messageListVisibility': 'hide',\n",
       "  'labelListVisibility': 'labelHide',\n",
       "  'type': 'system'},\n",
       " {'id': 'CATEGORY_PROMOTIONS',\n",
       "  'name': 'CATEGORY_PROMOTIONS',\n",
       "  'messageListVisibility': 'hide',\n",
       "  'labelListVisibility': 'labelHide',\n",
       "  'type': 'system'},\n",
       " {'id': 'DRAFT', 'name': 'DRAFT', 'type': 'system'},\n",
       " {'id': 'SPAM',\n",
       "  'name': 'SPAM',\n",
       "  'messageListVisibility': 'hide',\n",
       "  'labelListVisibility': 'labelHide',\n",
       "  'type': 'system'},\n",
       " {'id': 'STARRED', 'name': 'STARRED', 'type': 'system'},\n",
       " {'id': 'UNREAD', 'name': 'UNREAD', 'type': 'system'}]"
      ]
     },
     "execution_count": 5,
     "metadata": {},
     "output_type": "execute_result"
    }
   ],
   "source": [
    "G.getLabels()"
   ]
  },
  {
   "cell_type": "code",
   "execution_count": 6,
   "metadata": {},
   "outputs": [
    {
     "name": "stdout",
     "output_type": "stream",
     "text": [
      "{'id': 'Label_29', 'name': 'test', 'messageListVisibility': 'show', 'labelListVisibility': 'labelShow'}\n"
     ]
    },
    {
     "data": {
      "text/plain": [
       "{'id': 'Label_29',\n",
       " 'name': 'test',\n",
       " 'messageListVisibility': 'show',\n",
       " 'labelListVisibility': 'labelShow'}"
      ]
     },
     "execution_count": 6,
     "metadata": {},
     "output_type": "execute_result"
    }
   ],
   "source": [
    "G.createLabel('test')"
   ]
  },
  {
   "cell_type": "code",
   "execution_count": 7,
   "metadata": {},
   "outputs": [
    {
     "data": {
      "text/plain": [
       "[{'id': 'CATEGORY_PERSONAL',\n",
       "  'name': 'CATEGORY_PERSONAL',\n",
       "  'messageListVisibility': 'hide',\n",
       "  'labelListVisibility': 'labelHide',\n",
       "  'type': 'system'},\n",
       " {'id': 'CATEGORY_SOCIAL',\n",
       "  'name': 'CATEGORY_SOCIAL',\n",
       "  'messageListVisibility': 'hide',\n",
       "  'labelListVisibility': 'labelHide',\n",
       "  'type': 'system'},\n",
       " {'id': 'Label_1280582742757164775',\n",
       "  'name': 'College/Fall 19',\n",
       "  'type': 'user'},\n",
       " {'id': 'Label_29',\n",
       "  'name': 'test',\n",
       "  'messageListVisibility': 'show',\n",
       "  'labelListVisibility': 'labelShow',\n",
       "  'type': 'user'},\n",
       " {'id': 'CATEGORY_FORUMS',\n",
       "  'name': 'CATEGORY_FORUMS',\n",
       "  'messageListVisibility': 'hide',\n",
       "  'labelListVisibility': 'labelHide',\n",
       "  'type': 'system'},\n",
       " {'id': 'Label_2438748114816781986',\n",
       "  'name': 'College',\n",
       "  'messageListVisibility': 'show',\n",
       "  'labelListVisibility': 'labelShow',\n",
       "  'type': 'user'},\n",
       " {'id': 'IMPORTANT',\n",
       "  'name': 'IMPORTANT',\n",
       "  'messageListVisibility': 'hide',\n",
       "  'labelListVisibility': 'labelHide',\n",
       "  'type': 'system'},\n",
       " {'id': 'CATEGORY_UPDATES',\n",
       "  'name': 'CATEGORY_UPDATES',\n",
       "  'messageListVisibility': 'hide',\n",
       "  'labelListVisibility': 'labelHide',\n",
       "  'type': 'system'},\n",
       " {'id': 'CHAT',\n",
       "  'name': 'CHAT',\n",
       "  'messageListVisibility': 'hide',\n",
       "  'labelListVisibility': 'labelHide',\n",
       "  'type': 'system'},\n",
       " {'id': 'SENT', 'name': 'SENT', 'type': 'system'},\n",
       " {'id': 'INBOX', 'name': 'INBOX', 'type': 'system'},\n",
       " {'id': 'TRASH',\n",
       "  'name': 'TRASH',\n",
       "  'messageListVisibility': 'hide',\n",
       "  'labelListVisibility': 'labelHide',\n",
       "  'type': 'system'},\n",
       " {'id': 'CATEGORY_PROMOTIONS',\n",
       "  'name': 'CATEGORY_PROMOTIONS',\n",
       "  'messageListVisibility': 'hide',\n",
       "  'labelListVisibility': 'labelHide',\n",
       "  'type': 'system'},\n",
       " {'id': 'DRAFT', 'name': 'DRAFT', 'type': 'system'},\n",
       " {'id': 'SPAM',\n",
       "  'name': 'SPAM',\n",
       "  'messageListVisibility': 'hide',\n",
       "  'labelListVisibility': 'labelHide',\n",
       "  'type': 'system'},\n",
       " {'id': 'STARRED', 'name': 'STARRED', 'type': 'system'},\n",
       " {'id': 'UNREAD', 'name': 'UNREAD', 'type': 'system'}]"
      ]
     },
     "execution_count": 7,
     "metadata": {},
     "output_type": "execute_result"
    }
   ],
   "source": [
    "G.getLabels()"
   ]
  },
  {
   "cell_type": "code",
   "execution_count": null,
   "metadata": {},
   "outputs": [],
   "source": [
    "set(y.lower())"
   ]
  },
  {
   "cell_type": "code",
   "execution_count": null,
   "metadata": {},
   "outputs": [],
   "source": [
    "for i in range(10):\n",
    "    m = G.popMessage()\n",
    "    with open(f'Output/parse{i}.txt','w') as file:\n",
    "        file.write(m)"
   ]
  },
  {
   "cell_type": "code",
   "execution_count": 14,
   "metadata": {},
   "outputs": [],
   "source": [
    "defaultLabels = ['INBOX',\n",
    "                 'SPAM',\n",
    "                 'TRASH',\n",
    "                 'UNREAD',\n",
    "                 'STARRED',\n",
    "                 'IMPORTANT',\n",
    "                 'SENT',\n",
    "                 'DRAFT',\n",
    "                 'CATEGORY_PERSONAL',\n",
    "                 'CATEGORY_SOCIAL',\n",
    "                 'CATEGORY_PROMOTIONS',\n",
    "                 'CATEGORY_UPDATES',\n",
    "                 'CATEGORY_FORUMS'\n",
    "                ]"
   ]
  },
  {
   "cell_type": "code",
   "execution_count": 13,
   "metadata": {},
   "outputs": [
    {
     "ename": "NameError",
     "evalue": "name 'defaultLabels' is not defined",
     "output_type": "error",
     "traceback": [
      "\u001b[0;31m---------------------------------------------------------------------------\u001b[0m",
      "\u001b[0;31mNameError\u001b[0m                                 Traceback (most recent call last)",
      "\u001b[0;32m<ipython-input-13-052bd9bbf630>\u001b[0m in \u001b[0;36m<module>\u001b[0;34m\u001b[0m\n\u001b[1;32m      1\u001b[0m \u001b[0mlabels\u001b[0m \u001b[0;34m=\u001b[0m \u001b[0mG\u001b[0m\u001b[0;34m.\u001b[0m\u001b[0mgetLabels\u001b[0m\u001b[0;34m(\u001b[0m\u001b[0;34m)\u001b[0m\u001b[0;34m\u001b[0m\u001b[0;34m\u001b[0m\u001b[0m\n\u001b[1;32m      2\u001b[0m \u001b[0;32mfor\u001b[0m \u001b[0ml\u001b[0m \u001b[0;32min\u001b[0m \u001b[0mlabels\u001b[0m\u001b[0;34m:\u001b[0m\u001b[0;34m\u001b[0m\u001b[0;34m\u001b[0m\u001b[0m\n\u001b[0;32m----> 3\u001b[0;31m     \u001b[0;32mif\u001b[0m \u001b[0ml\u001b[0m\u001b[0;34m[\u001b[0m\u001b[0;34m'name'\u001b[0m\u001b[0;34m]\u001b[0m \u001b[0;32mnot\u001b[0m \u001b[0;32min\u001b[0m \u001b[0mdefaultLabels\u001b[0m\u001b[0;34m:\u001b[0m\u001b[0;34m\u001b[0m\u001b[0;34m\u001b[0m\u001b[0m\n\u001b[0m\u001b[1;32m      4\u001b[0m         \u001b[0mprint\u001b[0m\u001b[0;34m(\u001b[0m\u001b[0ml\u001b[0m\u001b[0;34m[\u001b[0m\u001b[0;34m'name'\u001b[0m\u001b[0;34m]\u001b[0m\u001b[0;34m)\u001b[0m\u001b[0;34m\u001b[0m\u001b[0;34m\u001b[0m\u001b[0m\n",
      "\u001b[0;31mNameError\u001b[0m: name 'defaultLabels' is not defined"
     ]
    }
   ],
   "source": [
    "labels = G.getLabels()\n",
    "for l in labels:\n",
    "    if l['name'] not in defaultLabels:\n",
    "        print(l['name'])"
   ]
  },
  {
   "cell_type": "code",
   "execution_count": 8,
   "metadata": {},
   "outputs": [],
   "source": [
    "m = G.currentMessage()"
   ]
  },
  {
   "cell_type": "code",
   "execution_count": 9,
   "metadata": {},
   "outputs": [
    {
     "data": {
      "text/plain": [
       "{'id': '16ecd4ff2f4c501e', 'threadId': '16ecd4ff2f4c501e'}"
      ]
     },
     "execution_count": 9,
     "metadata": {},
     "output_type": "execute_result"
    }
   ],
   "source": [
    "m"
   ]
  },
  {
   "cell_type": "code",
   "execution_count": 10,
   "metadata": {},
   "outputs": [
    {
     "data": {
      "text/plain": [
       "['UNREAD', 'CATEGORY_PERSONAL', 'INBOX']"
      ]
     },
     "execution_count": 10,
     "metadata": {},
     "output_type": "execute_result"
    }
   ],
   "source": [
    "G.getLabels(m['id'])"
   ]
  },
  {
   "cell_type": "code",
   "execution_count": 11,
   "metadata": {},
   "outputs": [
    {
     "ename": "NameError",
     "evalue": "name 'labels' is not defined",
     "output_type": "error",
     "traceback": [
      "\u001b[0;31m---------------------------------------------------------------------------\u001b[0m",
      "\u001b[0;31mNameError\u001b[0m                                 Traceback (most recent call last)",
      "\u001b[0;32m<ipython-input-11-c29832ad6bab>\u001b[0m in \u001b[0;36m<module>\u001b[0;34m\u001b[0m\n\u001b[0;32m----> 1\u001b[0;31m \u001b[0mlabels\u001b[0m\u001b[0;34m[\u001b[0m\u001b[0;36m1\u001b[0m\u001b[0;34m]\u001b[0m\u001b[0;34m\u001b[0m\u001b[0;34m\u001b[0m\u001b[0m\n\u001b[0m",
      "\u001b[0;31mNameError\u001b[0m: name 'labels' is not defined"
     ]
    }
   ],
   "source": [
    "labels[1]"
   ]
  },
  {
   "cell_type": "code",
   "execution_count": null,
   "metadata": {},
   "outputs": [],
   "source": [
    "G.setLabel(m['id'],labels[0])"
   ]
  },
  {
   "cell_type": "code",
   "execution_count": null,
   "metadata": {},
   "outputs": [],
   "source": [
    "G.getLabels(m['id'])"
   ]
  },
  {
   "cell_type": "code",
   "execution_count": null,
   "metadata": {},
   "outputs": [],
   "source": [
    "G.setLabel(m['id'],{'id':''},add=False)"
   ]
  },
  {
   "cell_type": "code",
   "execution_count": null,
   "metadata": {},
   "outputs": [],
   "source": [
    "G.getLabels(m['id'])"
   ]
  },
  {
   "cell_type": "code",
   "execution_count": null,
   "metadata": {},
   "outputs": [],
   "source": [
    "labels[7]"
   ]
  },
  {
   "cell_type": "code",
   "execution_count": null,
   "metadata": {},
   "outputs": [],
   "source": [
    "G.ListMessagesWithLabels(labels[4]['id'])"
   ]
  },
  {
   "cell_type": "code",
   "execution_count": null,
   "metadata": {},
   "outputs": [],
   "source": []
  }
 ],
 "metadata": {
  "kernelspec": {
   "display_name": "Python 3",
   "language": "python",
   "name": "python3"
  },
  "language_info": {
   "codemirror_mode": {
    "name": "ipython",
    "version": 3
   },
   "file_extension": ".py",
   "mimetype": "text/x-python",
   "name": "python",
   "nbconvert_exporter": "python",
   "pygments_lexer": "ipython3",
   "version": "3.7.5"
  }
 },
 "nbformat": 4,
 "nbformat_minor": 2
}

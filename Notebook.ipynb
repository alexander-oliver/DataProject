{
 "cells": [
  {
   "cell_type": "code",
   "execution_count": 1,
   "metadata": {},
   "outputs": [],
   "source": [
    "from model import Gmail\n",
    "G = Gmail()"
   ]
  },
  {
   "cell_type": "code",
   "execution_count": 2,
   "metadata": {},
   "outputs": [
    {
     "data": {
      "text/plain": [
       "'[image: Google]Quickstart was granted access to your Google Accountroyceschultz1@gmail.comIf you did not grant access, you should check this activity and secure youraccount.Check activityYou received this email to let you know about important changes to yourGoogle Account and services.© 2019 Google LLC, 1600 Amphitheatre Parkway, Mountain View, CA 94043, USA.awl a  .abml a  .adgl a  .afal a  @media screen and (min-width: 600px)  .v2rsp } @media screen and (min-width: 600px) } Quickstart was granted access to your GoogleAccountroyceschultz1@gmail.comIf you did not grant access, you should check this activity and secure your account.Check activityYou received this email to let you know about important changes to your Google Account and services.&copy; 2019 Google LLC, 1600 Amphitheatre Parkway, Mountain View, CA 94043, USA'"
      ]
     },
     "execution_count": 2,
     "metadata": {},
     "output_type": "execute_result"
    }
   ],
   "source": [
    "G.popMessage()"
   ]
  },
  {
   "cell_type": "code",
   "execution_count": 3,
   "metadata": {},
   "outputs": [],
   "source": [
    "for i in range(10):\n",
    "    m = G.popMessage()\n",
    "    with open(f'Output/parse{i}.txt','w') as file:\n",
    "        file.write(m)"
   ]
  },
  {
   "cell_type": "code",
   "execution_count": 4,
   "metadata": {},
   "outputs": [],
   "source": [
    "defaultLabels = ['INBOX',\n",
    "                 'SPAM',\n",
    "                 'TRASH',\n",
    "                 'UNREAD',\n",
    "                 'STARRED',\n",
    "                 'IMPORTANT',\n",
    "                 'SENT',\n",
    "                 'DRAFT',\n",
    "                 'CATEGORY_PERSONAL',\n",
    "                 'CATEGORY_SOCIAL',\n",
    "                 'CATEGORY_PROMOTIONS',\n",
    "                 'CATEGORY_UPDATES',\n",
    "                 'CATEGORY_FORUMS'\n",
    "                ]"
   ]
  },
  {
   "cell_type": "code",
   "execution_count": 5,
   "metadata": {},
   "outputs": [
    {
     "name": "stdout",
     "output_type": "stream",
     "text": [
      "Bills/Utilities\n",
      "Bills\n",
      "Bills/Apartment\n",
      "Bills/Recipts\n",
      "CHAT\n"
     ]
    }
   ],
   "source": [
    "labels = G.getLabels()\n",
    "for l in labels:\n",
    "    if l['name'] not in defaultLabels:\n",
    "        print(l['name'])"
   ]
  },
  {
   "cell_type": "code",
   "execution_count": 6,
   "metadata": {},
   "outputs": [],
   "source": [
    "m = G.currentMessage()"
   ]
  },
  {
   "cell_type": "code",
   "execution_count": 7,
   "metadata": {},
   "outputs": [
    {
     "data": {
      "text/plain": [
       "{'id': '16ec055f0bbeab02', 'threadId': '16ec055f0bbeab02'}"
      ]
     },
     "execution_count": 7,
     "metadata": {},
     "output_type": "execute_result"
    }
   ],
   "source": [
    "m"
   ]
  },
  {
   "cell_type": "code",
   "execution_count": 8,
   "metadata": {},
   "outputs": [
    {
     "data": {
      "text/plain": [
       "['UNREAD', 'CATEGORY_PERSONAL', 'INBOX']"
      ]
     },
     "execution_count": 8,
     "metadata": {},
     "output_type": "execute_result"
    }
   ],
   "source": [
    "G.getLabels(m['id'])"
   ]
  },
  {
   "cell_type": "code",
   "execution_count": 9,
   "metadata": {},
   "outputs": [
    {
     "data": {
      "text/plain": [
       "{'id': 'CATEGORY_PERSONAL',\n",
       " 'name': 'CATEGORY_PERSONAL',\n",
       " 'messageListVisibility': 'hide',\n",
       " 'labelListVisibility': 'labelHide',\n",
       " 'type': 'system'}"
      ]
     },
     "execution_count": 9,
     "metadata": {},
     "output_type": "execute_result"
    }
   ],
   "source": [
    "labels[1]"
   ]
  },
  {
   "cell_type": "code",
   "execution_count": 15,
   "metadata": {},
   "outputs": [
    {
     "name": "stdout",
     "output_type": "stream",
     "text": [
      "Label_4\n",
      "{'addLabelIds': ['Label_4'], 'removeLabelIds': []}\n"
     ]
    },
    {
     "data": {
      "text/plain": [
       "{'id': '16ec055f0bbeab02',\n",
       " 'threadId': '16ec055f0bbeab02',\n",
       " 'labelIds': ['UNREAD', 'CATEGORY_PERSONAL', 'Label_4', 'INBOX']}"
      ]
     },
     "execution_count": 15,
     "metadata": {},
     "output_type": "execute_result"
    }
   ],
   "source": [
    "G.setLabel(m['id'],labels[0])"
   ]
  },
  {
   "cell_type": "code",
   "execution_count": 16,
   "metadata": {},
   "outputs": [
    {
     "data": {
      "text/plain": [
       "['UNREAD', 'CATEGORY_PERSONAL', 'Label_4', 'INBOX']"
      ]
     },
     "execution_count": 16,
     "metadata": {},
     "output_type": "execute_result"
    }
   ],
   "source": [
    "G.getLabels(m['id'])"
   ]
  },
  {
   "cell_type": "code",
   "execution_count": 25,
   "metadata": {},
   "outputs": [
    {
     "name": "stdout",
     "output_type": "stream",
     "text": [
      "\n",
      "here\n",
      "{'addLabelIds': [], 'removeLabelIds': ['']}\n"
     ]
    },
    {
     "data": {
      "text/plain": [
       "'error'"
      ]
     },
     "execution_count": 25,
     "metadata": {},
     "output_type": "execute_result"
    }
   ],
   "source": [
    "G.setLabel(m['id'],{'id':''},add=False)"
   ]
  },
  {
   "cell_type": "code",
   "execution_count": 26,
   "metadata": {},
   "outputs": [
    {
     "data": {
      "text/plain": [
       "['CATEGORY_PERSONAL', 'INBOX']"
      ]
     },
     "execution_count": 26,
     "metadata": {},
     "output_type": "execute_result"
    }
   ],
   "source": [
    "G.getLabels(m['id'])"
   ]
  },
  {
   "cell_type": "code",
   "execution_count": null,
   "metadata": {},
   "outputs": [],
   "source": []
  }
 ],
 "metadata": {
  "kernelspec": {
   "display_name": "Python 3",
   "language": "python",
   "name": "python3"
  },
  "language_info": {
   "codemirror_mode": {
    "name": "ipython",
    "version": 3
   },
   "file_extension": ".py",
   "mimetype": "text/x-python",
   "name": "python",
   "nbconvert_exporter": "python",
   "pygments_lexer": "ipython3",
   "version": "3.7.5"
  }
 },
 "nbformat": 4,
 "nbformat_minor": 2
}

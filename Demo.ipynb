{
 "cells": [
  {
   "cell_type": "code",
   "execution_count": 1,
   "metadata": {},
   "outputs": [],
   "source": [
    "from model import Gmail\n",
    "import matplotlib.pyplot as plt\n",
    "import numpy as np\n",
    "import random\n",
    "from hash import Hasher"
   ]
  },
  {
   "cell_type": "code",
   "execution_count": 2,
   "metadata": {},
   "outputs": [],
   "source": [
    "G = Gmail()"
   ]
  },
  {
   "cell_type": "markdown",
   "metadata": {},
   "source": [
    "## Generating a sample dataset\n",
    "This generated dataset picks 400 random messages from my inbox and 100 job application messages that were labeled from previous analysis using this software."
   ]
  },
  {
   "cell_type": "code",
   "execution_count": 3,
   "metadata": {},
   "outputs": [],
   "source": [
    "generate_sample = False\n",
    "if generate_sample:\n",
    "    jobs = G.labels.match(['Job Applications'])\n",
    "    job_samples = random.sample(jobs, 100)\n",
    "\n",
    "    all_msgs = G.labels.match([])\n",
    "    job_ids = set([x['id'] for x in jobs])\n",
    "    rand_samples = []\n",
    "    while len(rand_samples) < 400:\n",
    "        m = random.choice(all_msgs)\n",
    "        if not m['id'] in job_ids:\n",
    "            rand_samples.append(m)\n",
    "    samples = job_samples + rand_samples\n",
    "    for i,m in enumerate(samples):\n",
    "        print(i, end='\\r')\n",
    "        G.labels.setLabel(m, ['Demo'])\n",
    "    print('done')"
   ]
  },
  {
   "cell_type": "code",
   "execution_count": 4,
   "metadata": {},
   "outputs": [],
   "source": [
    "inbox = G.labels.match(['Demo'])\n",
    "jobs = G.labels.match(['Demo','Job Applications'])\n",
    "not_jobs = []\n",
    "for m in inbox:\n",
    "    if not m in jobs:\n",
    "        not_jobs.append(m)\n",
    "false_negatives = G.labels.match(['Job False Negative'])"
   ]
  },
  {
   "cell_type": "code",
   "execution_count": 5,
   "metadata": {},
   "outputs": [
    {
     "name": "stdout",
     "output_type": "stream",
     "text": [
      "inbox: 500\n",
      "jobs: 100\n",
      "not jobs: 400\n",
      "false negatives 15\n"
     ]
    }
   ],
   "source": [
    "print('inbox:', len(inbox))\n",
    "print('jobs:', len(jobs))\n",
    "print('not jobs:', len(not_jobs))\n",
    "print('false negatives', len(false_negatives))"
   ]
  },
  {
   "cell_type": "markdown",
   "metadata": {},
   "source": [
    "The false negative list is a small set of hand-labeled messages that were missed durring initial attempts of sorting messages"
   ]
  },
  {
   "cell_type": "markdown",
   "metadata": {},
   "source": [
    "## Let's analyze the data\n",
    "We will begin using only 10 messages to seed the category"
   ]
  },
  {
   "cell_type": "code",
   "execution_count": 6,
   "metadata": {},
   "outputs": [],
   "source": [
    "H = Hasher(8)\n",
    "for m in random.sample(jobs,10):\n",
    "    content = G.messages.parseMessage(m)\n",
    "    H.add(content)"
   ]
  },
  {
   "cell_type": "code",
   "execution_count": 7,
   "metadata": {},
   "outputs": [
    {
     "data": {
      "text/plain": [
       "19851"
      ]
     },
     "execution_count": 7,
     "metadata": {},
     "output_type": "execute_result"
    }
   ],
   "source": [
    "len(H)"
   ]
  },
  {
   "cell_type": "markdown",
   "metadata": {},
   "source": [
    "Thats a big data structure. Once we identify more jobs, we can filter for only the most common words"
   ]
  },
  {
   "cell_type": "markdown",
   "metadata": {},
   "source": [
    "## Eager learning\n",
    "This structure can easily be modified as more data is processed."
   ]
  },
  {
   "cell_type": "code",
   "execution_count": 8,
   "metadata": {},
   "outputs": [
    {
     "name": "stdout",
     "output_type": "stream",
     "text": [
      "Number of documents in hash: 29\n"
     ]
    }
   ],
   "source": [
    "for m in random.sample(inbox,100):\n",
    "    content = G.messages.parseMessage(m)\n",
    "    s = H.sim(content, .5)\n",
    "    if s > .6: # If we are confident the message is part of the community, add it to the hash\n",
    "        H.add(content)\n",
    "print(f'Number of documents in hash: {H.n}')"
   ]
  },
  {
   "cell_type": "code",
   "execution_count": 9,
   "metadata": {},
   "outputs": [
    {
     "name": "stdout",
     "output_type": "stream",
     "text": [
      "Filtered 32201 elements. 41257 -> 9056\n"
     ]
    }
   ],
   "source": [
    "L = len(H)\n",
    "H.filter(0.1) # Filter words at least 10% common (appears in > 2 docs when hash.n = 25)\n",
    "print(f'Filtered {L-len(H)} elements. {L} -> {len(H)}')"
   ]
  },
  {
   "cell_type": "markdown",
   "metadata": {},
   "source": [
    "## Testing on sample"
   ]
  },
  {
   "cell_type": "code",
   "execution_count": 10,
   "metadata": {},
   "outputs": [],
   "source": [
    "def evalScores(H, messages, freq):\n",
    "    scores = []\n",
    "    for i,m in enumerate(messages):\n",
    "        print(i,end='\\r')\n",
    "        content = G.messages.parseMessage(m)\n",
    "        s = H.sim(content,freq)\n",
    "        scores.append(s)\n",
    "    print('done')\n",
    "    return scores"
   ]
  },
  {
   "cell_type": "code",
   "execution_count": 11,
   "metadata": {
    "scrolled": true
   },
   "outputs": [
    {
     "name": "stdout",
     "output_type": "stream",
     "text": [
      "done\n",
      "done\n",
      "done\n"
     ]
    }
   ],
   "source": [
    "freq = .3\n",
    "job_scores = evalScores(H, jobs, freq)\n",
    "not_scores = evalScores(H, random.sample(not_jobs,100), freq)\n",
    "neg_scores = evalScores(H, false_negatives, freq)"
   ]
  },
  {
   "cell_type": "code",
   "execution_count": 12,
   "metadata": {},
   "outputs": [
    {
     "data": {
      "text/plain": [
       "(array([ 3.84615385,  0.        ,  7.69230769,  7.69230769, 11.53846154,\n",
       "         7.69230769,  7.69230769,  0.        ,  7.69230769,  3.84615385]),\n",
       " array([0.14666667, 0.164     , 0.18133333, 0.19866667, 0.216     ,\n",
       "        0.23333333, 0.25066667, 0.268     , 0.28533333, 0.30266667,\n",
       "        0.32      ]),\n",
       " <a list of 10 Patch objects>)"
      ]
     },
     "execution_count": 12,
     "metadata": {},
     "output_type": "execute_result"
    },
    {
     "data": {
      "image/png": "[encoded data removed]",
      "text/plain": [
       "<Figure size 432x288 with 1 Axes>"
      ]
     },
     "metadata": {
      "needs_background": "light"
     },
     "output_type": "display_data"
    }
   ],
   "source": [
    "plt.hist(job_scores, alpha=0.5, density=True)\n",
    "plt.hist(not_scores, alpha=0.5, density=True)\n",
    "plt.hist(neg_scores, alpha=0.5, density=True)"
   ]
  },
  {
   "cell_type": "markdown",
   "metadata": {},
   "source": [
    "## Let's make a bigger hash"
   ]
  },
  {
   "cell_type": "code",
   "execution_count": 13,
   "metadata": {},
   "outputs": [],
   "source": [
    "H = Hasher(8)\n",
    "for m in jobs:\n",
    "    content = G.messages.parseMessage(m)\n",
    "    H.add(content)"
   ]
  },
  {
   "cell_type": "code",
   "execution_count": 14,
   "metadata": {},
   "outputs": [
    {
     "name": "stdout",
     "output_type": "stream",
     "text": [
      "Filtered 95425 elements. 97391 -> 1966\n"
     ]
    }
   ],
   "source": [
    "L = len(H)\n",
    "H.filter(0.1) # Filter words at least 10% common\n",
    "print(f'Filtered {L-len(H)} elements. {L} -> {len(H)}')"
   ]
  },
  {
   "cell_type": "code",
   "execution_count": 15,
   "metadata": {},
   "outputs": [
    {
     "name": "stdout",
     "output_type": "stream",
     "text": [
      "done\n",
      "done\n",
      "done\n",
      "done\n",
      "done\n",
      "done\n",
      "done\n",
      "done\n",
      "done\n"
     ]
    },
    {
     "data": {
      "image/png": "[encoded data removed]",
      "text/plain": [
       "<Figure size 216x648 with 3 Axes>"
      ]
     },
     "metadata": {
      "needs_background": "light"
     },
     "output_type": "display_data"
    }
   ],
   "source": [
    "legend = []\n",
    "sample_size = 50\n",
    "SJ = random.sample(jobs, sample_size)\n",
    "SNJ = random.sample(not_jobs, sample_size)\n",
    "FN = false_negatives\n",
    "n = 3\n",
    "plt.figure(figsize=[3,9])\n",
    "for i,freq in enumerate(np.linspace(.3,.9,n)):\n",
    "    plt.subplot(3,1,i+1)\n",
    "    scores= evalScores(H, SJ, freq)\n",
    "    plt.hist(scores, alpha=0.5, density=True)\n",
    "    \n",
    "    scores= evalScores(H, SNJ, freq)\n",
    "    plt.hist(scores, alpha=0.5, density=True)\n",
    "    \n",
    "    scores= evalScores(H, FN, freq)\n",
    "    plt.hist(scores, alpha=0.5, density=True)\n",
    "    plt.title(f'{freq:.2f}')\n",
    "    plt.legend(['True','False','FalseNegative'])"
   ]
  },
  {
   "cell_type": "code",
   "execution_count": 21,
   "metadata": {},
   "outputs": [
    {
     "data": {
      "text/plain": [
       "3"
      ]
     },
     "execution_count": 21,
     "metadata": {},
     "output_type": "execute_result"
    }
   ],
   "source": [
    "H.countFilter(.9)"
   ]
  },
  {
   "cell_type": "code",
   "execution_count": 33,
   "metadata": {},
   "outputs": [
    {
     "data": {
      "text/plain": [
       "13"
      ]
     },
     "execution_count": 33,
     "metadata": {},
     "output_type": "execute_result"
    }
   ],
   "source": [
    "H.countFilter(.8)"
   ]
  },
  {
   "cell_type": "code",
   "execution_count": 34,
   "metadata": {
    "scrolled": true
   },
   "outputs": [
    {
     "name": "stdout",
     "output_type": "stream",
     "text": [
      "0.6 To view this email as a web page, go to the link below,  or copy and paste it into your browser's address window.    http://view.communications.cu.edu/?qs=0f4a144d91e32b224224d49abd1259ed2283369d3c523c43afa74c2c4976c595fb47320103674118623ba730fa8632707bc74671380c68048d8ddd799db7165ef5778243a20fccba    May 3, 2017Campus Targeted by Google Docs Phishing EmailsThe campus has recently been targeted by malicious emails that attempt to gain access to a recipient&rsquo;s Google account. The email claim\n",
      "\n",
      "0.7 Dear Colleagues,This is a friendly reminder of the APPM Colloquium this afternoon:  *   Pre-talk for students (2:00-2:40 p.m. @ Newton Lab, ECCR 257).  *   Coffee break for everyone (2:40-3:00 p.m. @ Newton Lab, ECCR 257).  *   Colloquium (3:00-4:00 p.m. @ ECCR 245).Our speaker today is Henry Adams (Department of Mathematics, Colorado State University),with the following title and abstract:An introduction to applied topologyThis talk is an introduction to computational topology, as applied to da\n",
      "\n",
      "0.6 Hi everyone,The Mr. and Mrs. J Tour Scholarship was established for CU seniors and graduate students studying in math, applied math, or the physical sciences. The criteria are financial need (as evidenced by a FAFSA on file) and GPA.  Please send me an email with your name and student ID if you meet the following criteria:1. You will be a senior (by hours) or a graduate student in Applied Math in fall 2018 and won't graduate until May 2019 or later.and2. You have a current FAFSA on file.No other\n",
      "\n",
      "0.9 body, table div img Dear Royce, Thank you for your application and interest in working for BlackBerry. Should your skills and experience match what we are looking for, then a member of our Recruitment team will be in contact with you.Thanks!The BlackBerry Recruitment TeamNote: This is a system generated message. Replies to this message are undelivered.                                                                                                                                                  \n",
      "\n",
      "0.6 Hey rosc1351!A first-party GitHub OAuth application (GitHub Desktop) with repo and user scopes was recently authorized to access your account.Visit https://github.com/settings/connections/applications/de0e3c7e9973e1c4dd77 for more information.To see this and other security events for your account, visit https://github.com/settings/securityIf you run into problems, please contact support by visiting https://github.com/contactThanks,Your friends at GitHub\n",
      "\n",
      "0.9 Department of Applied MathematicsColloquium and SeminarsWeek of March 18th - March 22nd***STATISTICS, OPTIMIZATION, AND MACHINE LEARNING SEMINARSPEAKER: Sophie Giffard-Roisin, Department of Computer Science, University of Colorado BoulderTITLE: Hurricane forecasting using fused deep learningTIME: 3:30 PM, Tuesday, 19 March 2019PLACE: ECCR 257ABSTRACT:The forecast of hurricane trajectories is crucial for the protection of people and property, but machine learning techniques have been scarce for t\n",
      "\n",
      "0.6  To view this email as a web page, go to the link below, or copy and paste it into your browser's address window.http://view.communications.cu.edu/?qs=27699070a26aa8c8bcfb37bfc8464939251f6a616921098b117c006138b4174effb90bb617669a4e1bef81d859cc502daf59c92fe20e48065a3aac857f74c0bb8aa71362daf8eb6b949c51186bb6a2a7 http://click.communications.cu.edu/?qs=cbfdc5377876d16d99774f34fe0dc58e9ab133e4628ba624aa4c8326c86c4ebb4572d6d61896fbaed097c0c2085debda1f6b54ad03d4d05f http://click.communications.cu.edu/?\n",
      "\n",
      "0.6  Hi Royce,  We appreciate you taking the time to submit your application for the Data Scientist, Infrastructure Strategy Internrole. We will be in touch should your qualifications be suitable for the role.  In the meantime, join our talent communities to stay connected to Facebook Life:  Facebook Careers Page on Facebook  @FacebookLife on Instagram  Facebook on LinkedIn  Thank you, Your Friends at Facebook ========================================This message was sent to royce.schultz@colorado.ed\n",
      "\n"
     ]
    }
   ],
   "source": [
    "for m in random.sample(not_jobs,200):\n",
    "    content = G.messages.parseMessage(m)\n",
    "    s = H.sim(content, .8)\n",
    "    if s > .5:\n",
    "        print(s, content[:500])\n",
    "        print()"
   ]
  },
  {
   "cell_type": "code",
   "execution_count": 35,
   "metadata": {},
   "outputs": [
    {
     "name": "stdout",
     "output_type": "stream",
     "text": [
      "13\n"
     ]
    }
   ],
   "source": [
    "print(H.countFilter(.8))"
   ]
  },
  {
   "cell_type": "code",
   "execution_count": 36,
   "metadata": {},
   "outputs": [
    {
     "data": {
      "text/plain": [
       "{'plicatio': 89,\n",
       " 'applicat': 89,\n",
       " 'pplicati': 89,\n",
       " ' interes': 93,\n",
       " ' applica': 92,\n",
       " 'lication': 89,\n",
       " 'interest': 93,\n",
       " 'ur inter': 80,\n",
       " 'your int': 80,\n",
       " 'our inte': 80,\n",
       " ' your in': 81,\n",
       " 'nterest ': 87,\n",
       " 'ication ': 81}"
      ]
     },
     "execution_count": 36,
     "metadata": {},
     "output_type": "execute_result"
    }
   ],
   "source": [
    "H.showFilter(.8)"
   ]
  },
  {
   "cell_type": "markdown",
   "metadata": {},
   "source": [
    "## Current Issues"
   ]
  },
  {
   "cell_type": "markdown",
   "metadata": {},
   "source": [
    "### Population Specific\n",
    "If your initial sample contains 10 messages of 'CU Boulder Today' and 1 message from 'APPM Email Lists', the hash will likely only match 'CU Boulder Today' messages as content about APPM is likely < 10%.\n",
    "This is especially important when eagerly learning as each new message can alter the hash function of the next message.\n",
    "To resolve this issue, a new method must be implemented. Given a label contains no false positives, messages that are not very similar must be 'over represented' in the group. This is very easy to implement because of the objects eager learning capabilities.\n",
    "\n",
    "### Bredth Limits\n",
    "For categories with very diverse language, even the descriptive words may not be very common. Classifying these types of messages will require strong care with the frequency tolerances.\n",
    "\n",
    "### API parsing issues\n",
    "Emails contain some HTML to style the message. We've done our best to filter it out, but some messages have significant chunks of code. As the keywords of HTML will be the same across all categories, this will cause false matches."
   ]
  },
  {
   "cell_type": "code",
   "execution_count": null,
   "metadata": {},
   "outputs": [],
   "source": []
  }
 ],
 "metadata": {
  "kernelspec": {
   "display_name": "Python 3",
   "language": "python",
   "name": "python3"
  },
  "language_info": {
   "codemirror_mode": {
    "name": "ipython",
    "version": 3
   },
   "file_extension": ".py",
   "mimetype": "text/x-python",
   "name": "python",
   "nbconvert_exporter": "python",
   "pygments_lexer": "ipython3",
   "version": "3.7.5"
  }
 },
 "nbformat": 4,
 "nbformat_minor": 2
}

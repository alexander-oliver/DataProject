{
 "cells": [
  {
   "cell_type": "code",
   "execution_count": 1,
   "metadata": {},
   "outputs": [],
   "source": [
    "from model import Gmail\n",
    "from shingles import *\n",
    "import matplotlib.pyplot as plt"
   ]
  },
  {
   "cell_type": "code",
   "execution_count": 2,
   "metadata": {},
   "outputs": [],
   "source": [
    "G = Gmail()"
   ]
  },
  {
   "cell_type": "code",
   "execution_count": 3,
   "metadata": {},
   "outputs": [],
   "source": [
    "labels = G.getLabels()"
   ]
  },
  {
   "cell_type": "code",
   "execution_count": 4,
   "metadata": {},
   "outputs": [],
   "source": [
    "labelId = {}\n",
    "labelName = {}\n",
    "for label in labels:\n",
    "    labelId[label['name']] = label['id']\n",
    "    labelName[label['id']] = label['name']    "
   ]
  },
  {
   "cell_type": "code",
   "execution_count": 5,
   "metadata": {},
   "outputs": [
    {
     "data": {
      "text/plain": [
       "{'CATEGORY_PERSONAL': 'CATEGORY_PERSONAL',\n",
       " 'CATEGORY_SOCIAL': 'CATEGORY_SOCIAL',\n",
       " 'College/Fall 19': 'Label_1280582742757164775',\n",
       " 'test': 'Label_29',\n",
       " 'CATEGORY_FORUMS': 'CATEGORY_FORUMS',\n",
       " 'College': 'Label_2438748114816781986',\n",
       " 'IMPORTANT': 'IMPORTANT',\n",
       " 'Job Applications': 'Label_30',\n",
       " 'CATEGORY_UPDATES': 'CATEGORY_UPDATES',\n",
       " 'CHAT': 'CHAT',\n",
       " 'SENT': 'SENT',\n",
       " 'INBOX': 'INBOX',\n",
       " 'TRASH': 'TRASH',\n",
       " 'CATEGORY_PROMOTIONS': 'CATEGORY_PROMOTIONS',\n",
       " 'DRAFT': 'DRAFT',\n",
       " 'SPAM': 'SPAM',\n",
       " 'STARRED': 'STARRED',\n",
       " 'UNREAD': 'UNREAD'}"
      ]
     },
     "execution_count": 5,
     "metadata": {},
     "output_type": "execute_result"
    }
   ],
   "source": [
    "labelId"
   ]
  },
  {
   "cell_type": "code",
   "execution_count": 6,
   "metadata": {},
   "outputs": [],
   "source": [
    "group = G.listMessagesWithLabels(labelId['test'])"
   ]
  },
  {
   "cell_type": "code",
   "execution_count": 7,
   "metadata": {},
   "outputs": [
    {
     "name": "stdout",
     "output_type": "stream",
     "text": [
      "CU Boulder presents the best in the performing arts.CU Presents logohttp://email.wordfly.com/click?sid=MzM2XzkxMzFfMTMzNjgxXzcxMTY&l=9d731a8e-8b0c-ea11-a31f-e61f134a8c87&utm_source=wordfly&utm_medium=email&utm_campaign=CUP20%20ACE%20eblast%20-%20%22Holidays%22%20followup%202&utm_content=version_ATrouble loading? Try thishttp://email.wordfly.com/view?sid=MzM2XzkxMzFfMTMzNjgxXzcxMTY&l=8f731a8e-8b0c-ea11-a31f-e61f134a8c87&utm_source=wordfly&utm_medium=email&utm_campaign=CUP20%20ACE%20eblast%20-%20%22Holidays%22%20followup%202&utm_content=version_Ahttp://email.wordfly.com/click?sid=MzM2XzkxMzFfMTMzNjgxXzcxMTY&l=9e731a8e-8b0c-ea11-a31f-e61f134a8c87&utm_source=wordfly&utm_medium=email&utm_campaign=CUP20%20ACE%20eblast%20-%20%22Holidays%22%20followup%202&utm_content=version_AScenes from the CU Boulder summer campusCU students get 25% off tickets CU Presents is the best in the performing arts on the CU Boulder campus. As a CU Student, you get 25% off tickets to the Artist Series at Macky Auditorium, Takács Quartet, CU Theatre & Dance, CU College of Music's Eklund Opera program and the Colorado Shakespeare Festival.Don't miss this year's headliners like the Grammy-winning Chick Corea Trilogy, Mozart's \"The Marriage of Figaro\" and audience favorite Pilobolus. Plus, ring in the holidays with anything from our irreverent, \"A Broadway Christmas Carol\" to Heggie and Scheer's nostalgic \"It's a Wonderful Life.\"*Choose \"CU Student\" when selecting your seat.Buy Ticketshttp://email.wordfly.com/click?sid=MzM2XzkxMzFfMTMzNjgxXzcxMTY&l=9f731a8e-8b0c-ea11-a31f-e61f134a8c87&utm_source=wordfly&utm_medium=email&utm_campaign=CUP20%20ACE%20eblast%20-%20%22Holidays%22%20followup%202&utm_content=version_ALearn morehttp://email.wordfly.com/click?sid=MzM2XzkxMzFfMTMzNjgxXzcxMTY&l=a0731a8e-8b0c-ea11-a31f-e61f134a8c87&utm_source=wordfly&utm_medium=email&utm_campaign=CUP20%20ACE%20eblast%20-%20%22Holidays%22%20followup%202&utm_content=version_AJoin our email listTell us what you're interested in, and we'll keep you up to date on the hundreds of performances happening at CU Boulder.Sign Uphttp://email.wordfly.com/click?sid=MzM2XzkxMzFfMTMzNjgxXzcxMTY&l=96731a8e-8b0c-ea11-a31f-e61f134a8c87&utm_source=wordfly&utm_medium=email&utm_campaign=CUP20%20ACE%20eblast%20-%20%22Holidays%22%20followup%202&utm_content=version_AExplore free events and live streamingFrom Faculty Tuesdays to the CU Symphony Orchestra to Acting Studio Productions, don't miss out on dozens of free professional and academic performances in music, theatre and dance. Can't make it in-person? Watch performances from the comfort of your home with select Livestream performances.Free Eventshttp://email.wordfly.com/click?sid=MzM2XzkxMzFfMTMzNjgxXzcxMTY&l=a1731a8e-8b0c-ea11-a31f-e61f134a8c87&utm_source=wordfly&utm_medium=email&utm_campaign=CUP20%20ACE%20eblast%20-%20%22Holidays%22%20followup%202&utm_content=version_ALivestreamhttp://email.wordfly.com/click?sid=MzM2XzkxMzFfMTMzNjgxXzcxMTY&l=a2731a8e-8b0c-ea11-a31f-e61f134a8c87&utm_source=wordfly&utm_medium=email&utm_campaign=CUP20%20ACE%20eblast%20-%20%22Holidays%22%20followup%202&utm_content=version_ADon't want emails from CU Presents?Parting is such sweet sorrow, but please unsubscribe. All of us here at CU Presents hope you enjoy everything CU Boulder has to offer while you're here!Unsubscribehttp://email.wordfly.com/unsubscribe?sid=MzM2XzkxMzFfMTMzNjgxXzcxMTYGet in touchCU Presents303-492-8008cupresents@colorado.edu972 Broadway, Boulder, CO 80309Contact preferencesYou are receiving this email as a payer of the CU Boulder Arts & Cultural Enrichment Fee.Unsubscribehttp://email.wordfly.com/unsubscribe?sid=MzM2XzkxMzFfMTMzNjgxXzcxMTYCU logohttp://email.wordfly.com/click?sid=MzM2XzkxMzFfMTMzNjgxXzcxMTY&l=9c731a8e-8b0c-ea11-a31f-e61f134a8c87&utm_source=wordfly&utm_medium=email&utm_campaign=CUP20%20ACE%20eblast%20-%20%22Holidays%22%20followup%202&utm_content=version_ACU Presents logohttp://email.wordfly.com/click?sid=MzM2XzkxMzFfMTMzNjgxXzcxMTY&l=9d731a8e-8b0c-ea11-a31f-e61f134a8c87&utm_source=wordfly&utm_medium=email&utm_campaign=CUP20%20ACE%20eblast%20-%20%22Holidays%22%20followup%202&utm_content=version_ATrouble loading? Try thishttp://email.wordfly.com/view?sid=MzM2XzkxMzFfMTMzNjgxXzcxMTY&l=8f731a8e-8b0c-ea11-a31f-e61f134a8c87&utm_source=wordfly&utm_medium=email&utm_campaign=CUP20%20ACE%20eblast%20-%20%22Holidays%22%20followup%202&utm_content=version_Ahttp://email.wordfly.com/click?sid=MzM2XzkxMzFfMTMzNjgxXzcxMTY&l=9e731a8e-8b0c-ea11-a31f-e61f134a8c87&utm_source=wordfly&utm_medium=email&utm_campaign=CUP20%20ACE%20eblast%20-%20%22Holidays%22%20followup%202&utm_content=version_A@cupresentsCU students get 25% off tickets CU Presents is the best in the performing arts on the CU Boulder campus. As a CU Student, you get 25% off tickets to the Artist Series at Macky Auditorium, Takács Quartet, CU Theatre & Dance, CU College of Music's Eklund Opera program and the Colorado Shakespeare Festival.Don't miss this year's headliners like the Grammy-winning Chick Corea Trilogy, Mozart's \"The Marriage of Figaro\" and audience favorite Pilobolus. Plus, ring in the holidays with anything from our irreverent, \"A Broadway Christmas Carol\" to Heggie and Scheer's nostalgic \"It's a Wonderful Life.\"*Choose \"CU Student\" when selecting your seat.Buy Ticketshttp://email.wordfly.com/click?sid=MzM2XzkxMzFfMTMzNjgxXzcxMTY&l=9f731a8e-8b0c-ea11-a31f-e61f134a8c87&utm_source=wordfly&utm_medium=email&utm_campaign=CUP20%20ACE%20eblast%20-%20%22Holidays%22%20followup%202&utm_content=version_ALearn morehttp://email.wordfly.com/click?sid=MzM2XzkxMzFfMTMzNjgxXzcxMTY&l=a0731a8e-8b0c-ea11-a31f-e61f134a8c87&utm_source=wordfly&utm_medium=email&utm_campaign=CUP20%20ACE%20eblast%20-%20%22Holidays%22%20followup%202&utm_content=version_AJoin our email listTell us what you're interested in, and we'll keep you up to date on the hundreds of performances happening at CU Boulder.Sign Uphttp://email.wordfly.com/click?sid=MzM2XzkxMzFfMTMzNjgxXzcxMTY&l=96731a8e-8b0c-ea11-a31f-e61f134a8c87&utm_source=wordfly&utm_medium=email&utm_campaign=CUP20%20ACE%20eblast%20-%20%22Holidays%22%20followup%202&utm_content=version_AExplore free and livestream eventsFrom Faculty Tuesdays to the CU Symphony Orchestra to Acting Studio Productions, don't miss out on dozens of free professional and academic performances in music, theatre and dance. Can't make it in-person? Watch performances from the comfort of your home with select Livestream performances.Free Eventshttp://email.wordfly.com/click?sid=MzM2XzkxMzFfMTMzNjgxXzcxMTY&l=a1731a8e-8b0c-ea11-a31f-e61f134a8c87&utm_source=wordfly&utm_medium=email&utm_campaign=CUP20%20ACE%20eblast%20-%20%22Holidays%22%20followup%202&utm_content=version_ALivestreamhttp://email.wordfly.com/click?sid=MzM2XzkxMzFfMTMzNjgxXzcxMTY&l=a2731a8e-8b0c-ea11-a31f-e61f134a8c87&utm_source=wordfly&utm_medium=email&utm_campaign=CUP20%20ACE%20eblast%20-%20%22Holidays%22%20followup%202&utm_content=version_ADon't want emails from CU Presents?Parting is such sweet sorrow, but please unsubscribe. All of us here at CU Presents hope you enjoy everything CU Boulder has to offer while you're here!Unsubscribehttp://email.wordfly.com/unsubscribe?sid=MzM2XzkxMzFfMTMzNjgxXzcxMTYGet in touchCU Presents303-492-8008cupresents@colorado.edu972 Broadway, Boulder, CO 80309Contact preferencesYou are receiving this email as a payer of the CU Boulder Arts & Cultural Enrichment Fee.Unsubscribehttp://email.wordfly.com/unsubscribe?sid=MzM2XzkxMzFfMTMzNjgxXzcxMTYCU logohttp://email.wordfly.com/click?sid=MzM2XzkxMzFfMTMzNjgxXzcxMTY&l=9c731a8e-8b0c-ea11-a31f-e61f134a8c87&utm_source=wordfly&utm_medium=email&utm_campaign=CUP20%20ACE%20eblast%20-%20%22Holidays%22%20followup%202&utm_content=version_A/* device width specific (e.g. iPhone-ish) */@media only screen and (max-width: 480px) /* mobile scale rules */.mobile-scale > .column .mobile-scale.desktop-reverse .mobile-scale.desktop-reverse > .column .mobile-scale.two-columns-block .column .mobile-scale.three-columns-block .column [class*=mobile-scale].two-columns-block.split-33-66 .column:first-child [class*=mobile-scale].two-columns-block.split-33-66 .column [class*=mobile-scale].two-columns-block.split-66-33 .column:first-child [class*=mobile-scale].two-columns-block.split-66-33 .column [class*=mobile-scale].two-columns-block.split-25-75 .column:first-child [class*=mobile-scale].two-columns-block.split-25-75 .column [class*=mobile-scale].two-columns-block.split-75-25 .column:first-child [class*=mobile-scale].two-columns-block.split-75-25 .column [class*=mobile-scale].two-columns-block.split-20-80 .column:first-child [class*=mobile-scale].two-columns-block.split-20-80 .column [class*=mobile-scale].two-columns-block.split-80-20 .column:first-child [class*=mobile-scale].two-columns-block.split-80-20 .column [class*=mobile-scale].three-columns-block.split-50-25-25 .column:first-child [class*=mobile-scale].three-columns-block.split-50-25-25 .column [class*=mobile-scale].three-columns-block.split-25-25-50 .column [class*=mobile-scale].three-columns-block.split-25-25-50 .column:nth-child(3) /* hide on desktop */.desktop-hide /* hide on mobile */.mobile-hide }@media only screen and (max-width: 480px) p .preheader-block p .footer-block h1 .footer-block p #text-block-1495483942656 p #image-block-1495483942658 #text-block-1495483942660 #two-columns-block-1495483942676 #text-block-1495484034783 p #image-block-1495484034785 #text-block-1495484034787 #two-columns-block-1495484034803 #text-block-1553632305335 #text-block-1559847771986 #two-columns-block-1559847942312 #text-block-1559847942324 #text-block-1495483942660 h1 .text-block h1 #text-block-1559849814112 #button-block-1559850402617 #button-block-1559850402617 div.button div #button-block-1559850540135 #button-block-1559850540135 div.button div #button-block-1559850402617 div.button a #button-block-1559850598492 #button-block-1559850598492 div.button div #button-block-1559850658470 #button-block-1559850658470 div.button div #text-block-1559850671869 #text-block-1495483942656 a #divider-block-1560279026534 #image-block-1495483942658 p.caption #text-block-1564602987669 #two-columns-block-1564603059084 #two-columns-block-1564610570113 #button-block-1564610833252 #button-block-1564610833252 div.button div #text-block-1565036317550 #text-block-1565036401768 #text-block-1565036521470 #text-block-1495483942660 p.fine-print #text-block-1495483942660 h2 #text-block-1565036521470 h2 #text-block-1559849814112 h2 #text-block-1573618782526 #text-block-1573618989090 #button-block-1559847942322 #button-block-1559847942322 div.button div #image-block-1573619465679 #text-block-1573619473382 #button-block-1573619478330 #button-block-1573619478330 div.button div #image-block-1573619638858 #text-block-1573619643364 #button-block-1573619647878 #button-block-1573619647878 div.button div #image-block-1573619980947 #text-block-1573619987136 #button-block-1573619994086 #button-block-1573619994086 div.button div #button-block-1573619478330 div.button #button-block-1564610570116 #button-block-1573688679307 #button-block-1573688679307 div.button div #button-block-1573688694359 #button-block-1573688694359 div.button div }/* Outlook specific duct tape styles */table td, th CU Presents96The holidays at CU Boulder!Trouble loading? Try thisCelebrate the holidays at CU Boulder this season!From Christmas favorites to irreverent holiday fun, CU Boulder is the place to be this season—and it's all happening right now.@cupresentsA Broadway Christmas CarolA musical created by Kathy FeiningerIn this satirical mash-up of Dickens with Broadway, his famous holiday tale gets roasted.Now playing through Dec. 8, University Theatre25% off for CU Boulder studentsBuy Tickets@cupresentsHoliday FestivalBoulder's beloved holiday traditionDelight in twinkling lights, seasonal greenery and enchanting, beautiful holiday music.Dec. 6-8, Macky AuditoriumBuy Tickets@cupresentsNatalie MacMaster and Donnell LeahyA Celtic Family ChristmasCelebrate the season with married fiddle icons MacMaster and Leahy—and their children.Dec. 17, Macky Auditorium25% off for CU Boulder studentsBuy TicketsJoin our regular email listAs a CU Boulder student, you get 25% off tickets to performances for the Artist Series at Macky Auditorium, Takács Quartet, CU Theatre &amp; Dance, CU College of Music's Eklund Opera program and the Colorado Shakespeare Festival. Plus, enjoy dozens of free and live streamed events from the College of Music. There's something for everyone.Sign UpFollow us on Instagram, FacebookandTwitter, @cupresents.Don't want emails from CU Presents?Parting is such sweet sorrow, but please unsubscribe. All of us here at CU Presents hope you enjoy everything CU Boulder has to offer while you're here!UnsubscribeGet in touchCU Presents303-492-8008cupresents@colorado.edu972 Broadway, Boulder, CO 80309Contact preferencesYou are receiving this email as a payer of the CU Boulder Arts &amp; Cultural Enrichment Fee.UnsubscribeThe holidays at CU Boulder!Trouble loading? Try thisCelebrate the holidays at CU Boulder this season!From Christmas favorites to irreverent holiday fun, CU Boulder is the place to be this season—and it's all happening right now.@cupresentsA Broadway Christmas CarolA musical created by Kathy FeiningerIn this satirical mash-up of Dickens with Broadway, his famous holiday tale gets roasted.Now playing through Dec. 8, University Theatre25% off for CU Boulder studentsBuy Tickets@cupresentsHoliday FestivalBoulder's beloved holiday traditionDelight in twinkling lights, seasonal greenery and enchanting, beautiful holiday music.Dec. 6-8, Macky AuditoriumBuy Tickets@cupresentsNatalie MacMaster and Donnell LeahyA Celtic Family ChristmasCelebrate the season with married fiddle icons MacMaster and Leahy—and their children.Dec. 17, Macky Auditorium25% off for CU Boulder studentsBuy TicketsJoin our regular email listAs a CU Boulder student, you get 25% off tickets to performances for the Artist Series at Macky Auditorium, Takács Quartet, CU Theatre &amp; Dance, CU College of Music's Eklund Opera program and the Colorado Shakespeare Festival. Plus, enjoy dozens of free and live streamed events from the College of Music. There's something for everyone.Sign UpFollow us on Instagram, FacebookandTwitter, @cupresents.Don't want emails from CU Presents?Parting is such sweet sorrow, but please unsubscribe. All of us here at CU Presents hope you enjoy everything CU Boulder has to offer while you're here!UnsubscribeGet in touchCU Presents303-492-8008cupresents@colorado.edu972 Broadway, Boulder, CO 80309Contact preferencesYou are receiving this email as a payer of the CU Boulder Arts &amp; Cultural Enrichment Fee.Unsubscribe\n"
     ]
    }
   ],
   "source": [
    "for message in group:\n",
    "    print(G.filter(G.readMessage(message)))"
   ]
  },
  {
   "cell_type": "code",
   "execution_count": 8,
   "metadata": {},
   "outputs": [],
   "source": [
    "x = G.popMessage()"
   ]
  },
  {
   "cell_type": "code",
   "execution_count": 9,
   "metadata": {},
   "outputs": [
    {
     "data": {
      "text/plain": [
       "''"
      ]
     },
     "execution_count": 9,
     "metadata": {},
     "output_type": "execute_result"
    }
   ],
   "source": [
    "x"
   ]
  },
  {
   "cell_type": "code",
   "execution_count": 10,
   "metadata": {},
   "outputs": [
    {
     "data": {
      "text/plain": [
       "'error creating label'"
      ]
     },
     "execution_count": 10,
     "metadata": {},
     "output_type": "execute_result"
    }
   ],
   "source": [
    "G.createLabel('Job Applications')"
   ]
  },
  {
   "cell_type": "code",
   "execution_count": 41,
   "metadata": {},
   "outputs": [],
   "source": [
    "messages = G.listMessagesWithLabels('Label_30')"
   ]
  },
  {
   "cell_type": "code",
   "execution_count": 42,
   "metadata": {},
   "outputs": [
    {
     "data": {
      "text/plain": [
       "[{'id': '16ea440982a5fd74', 'threadId': '16ea440982a5fd74'},\n",
       " {'id': '16e39d3be1433fbc', 'threadId': '16e39d25e572038d'},\n",
       " {'id': '16e39d25e572038d', 'threadId': '16e39d25e572038d'},\n",
       " {'id': '16e36e8ba6fc88f0', 'threadId': '16e36e8ba6fc88f0'},\n",
       " {'id': '16e3442fc4b21059', 'threadId': '16e3442fc4b21059'},\n",
       " {'id': '16e3433b280eb4f0', 'threadId': '16e3433b280eb4f0'},\n",
       " {'id': '16e2a4a59d189169', 'threadId': '16e2a4a59d189169'},\n",
       " {'id': '16dcc9bdd26d75fe', 'threadId': '16dcc9bdd26d75fe'}]"
      ]
     },
     "execution_count": 42,
     "metadata": {},
     "output_type": "execute_result"
    }
   ],
   "source": [
    "messages"
   ]
  },
  {
   "cell_type": "code",
   "execution_count": 43,
   "metadata": {},
   "outputs": [],
   "source": [
    "d = {}\n",
    "for message in messages:\n",
    "    content = G.parseMessage(message)\n",
    "    addShingleCount(shingles(5,content), d)"
   ]
  },
  {
   "cell_type": "code",
   "execution_count": 48,
   "metadata": {},
   "outputs": [],
   "source": [
    "small = {}\n",
    "for x in d:\n",
    "    if d[x] > 1:\n",
    "        small[x] = d[x]"
   ]
  },
  {
   "cell_type": "code",
   "execution_count": 47,
   "metadata": {},
   "outputs": [
    {
     "name": "stdout",
     "output_type": "stream",
     "text": [
      "0.055454361465290425 Hey Royce,Here is your te\n",
      "0.055454361465290425 Hey Royce,Here is your te\n",
      "0.055454361465290425 Hey Royce,Here is your te\n",
      "0.055454361465290425 Hey Royce,Here is your te\n",
      "0.055454361465290425 Hey Royce,Here is your te\n",
      "0.1568508399109492     ReadMsgBody .External\n",
      "0.06860959319975714 Congrats Royce, your prof\n",
      "0.06132361870066788                          \n",
      "0.0560615260068812 We’re happy to help you l\n",
      "0.08136004857316333       |    |    |    |   \n",
      "0.0 \n",
      "0.0 \n",
      "0.14349321999595224                          \n",
      "0.17466099979761182 All:Last Call - hopefully\n",
      "0.050799433313094514 Specialized Bicycle Compo\n",
      "0.05201376239627606 Specialized Bicycle Compo\n",
      "0.050799433313094514 Specialized Bicycle Compo\n",
      "0.09411050394656952 Royce! Very glad I came a\n",
      "0.0 \n",
      "0.0 \n",
      "0.03622748431491601 I'm interested!On Mon, Se\n",
      "0.03481076705120421 Hi MARC Tutors,This Wedne\n",
      "0.0947176684881603             96       .Rea\n",
      "0.14025500910746813 Hi everyone,Below is a li\n",
      "0.08722930580854078 Hello Royce,You have a ne\n",
      "0.09674155029346286 table.button table td tab\n",
      "0.17769682250556568 Department of Applied Mat\n",
      "0.06314511232544019           Your instructor\n",
      "0.06314511232544019           Your instructor\n",
      "0.0 \n",
      "0.0 \n",
      "0.0 \n",
      "0.10544424205626392     ReadMsgBody .External\n",
      "0.13985023274640762 You have received the alt\n",
      "0.009512244484922081 I have just been informed\n",
      "0.0038453754300748835 Hi all,I'm not going to b\n",
      "0.12082574377656345 @media only screen and (m\n",
      "0.18822100789313903 Hello Royce,Thank you for\n",
      "0.14450516089860352 Hi Royce,Thank you for yo\n",
      "0.0965391621129326 Hey all!Super sorry to do\n",
      "0.06375227686703097           Your assignment\n",
      "0.061526006881198136 pHi Royce,We received you\n",
      "0.1681845780206436 Hey Royce,Thank you for a\n",
      "0.061526006881198136 pHi Royce,We received you\n",
      "0.12325440194292653 Hi Royce,We’ve received y\n",
      "0.061526006881198136 pHi Royce,We received you\n",
      "0.10443230115361263 pHi Royce,Thank you for r\n",
      "0.1766848816029144      96 table @font-face \n",
      "0.13580246913580246      96 table @font-face \n",
      "0.013964784456587736        96       table   @\n",
      "0.05788301963165351 Heads up! Computing and S\n",
      "0.08338393037846589       |    |    |    |   \n",
      "0.20380489779396882         @import url(\"http\n",
      "0.08156243675369358             You're signed\n",
      "0.0777170613236187             You're signed\n",
      "0.0358227079538555 CONTENT TRAINING FOR MARC\n",
      "0.1064561829589152 Hey Team,Great job to eve\n",
      "0.04918032786885246 Hi everyone,Catherine Sul\n",
      "0.08844363489172233 Roadies,Tomorrow (Saturda\n",
      "0.0 \n",
      "0.0 \n",
      "0.08743169398907104 Hi Royce,You just install\n",
      "0.03865614248127909 I've shared an item with \n",
      "0.08156243675369358 Welcome to Slack!You’ve c\n",
      "0.030965391621129327 I've shared an item with \n",
      "0.028334345274235985 Friendly reminder that th\n",
      "0.08884841125278284 Dear Royce,DearRoyce,As a\n",
      "0.0036429872495446266 Everybody’s email should \n",
      "0.14430277271807326     ReadMsgBody .External\n",
      "0.1270997773730014  To view this email as a \n",
      "0.10686095931997572 Hello Royce,You have a ne\n",
      "0.0 \n",
      "0.1521959117587533  To view this email as a \n",
      "0.0 \n",
      "0.09876543209876543           Sharing this on\n",
      "0.005059704513256426 This Friday 10-12 and 1-3\n",
      "0.08581258854482898 Hi Royce,You favorited th\n",
      "0.0026310463468933415 Dear all,I'm home sick, h\n",
      "0.14450516089860352     ReadMsgBody .External\n",
      "0.07083586318558996 Do you know Tahmina A.?Vi\n",
      "0.11030155838899008 The tuition and fee bill \n",
      "0.0 \n",
      "0.06901436956081765 Hi everyone,Below is an a\n",
      "0.08297915401740538           After talking w\n",
      "0.05302570329892734 Hi everyone,After talking\n",
      "0.05565674964582069 Facebook just posted a ne\n",
      "0.07326452135195305           We will be doin\n",
      "0.08581258854482898 Comcast NBCUniversal just\n",
      "0.0 \n",
      "0.07589556769884638 Hi Royce,I'd like to join\n",
      "0.0 \n",
      "0.04796599878567092 Hello Undergrad Tutors of\n",
      "0.04938271604938271 Comcast NBCUniversal just\n",
      "0.0 \n",
      "0.05484719692369966 Garmin International just\n",
      "0.15664845173041894     ReadMsgBody .External\n",
      "0.0 \n",
      "0.014774337178708763 I would be happy to take \n",
      "0.0 \n",
      "0.0 \n"
     ]
    }
   ],
   "source": [
    "\n",
    "for i in range(100):\n",
    "    x = G.popMessage()\n",
    "    s = similarity(shingles(5,x), small)\n",
    "    print(s,x[:25])\n",
    "    if s > 0.3:\n",
    "        print(s)\n",
    "        print(x[:100])\n",
    "        G.setLabel(G.currentMessage(), {'id':'Label_30'})"
   ]
  },
  {
   "cell_type": "code",
   "execution_count": 44,
   "metadata": {},
   "outputs": [
    {
     "name": "stdout",
     "output_type": "stream",
     "text": [
      "Dear Royce,Sorry for the late reply due to going through 1200 applicant. Thank you for your interest\n",
      "0.12467111920663833\n",
      "Hello Royce, Thank you for your interest in joining the team at Tesla. We’ve received your applicati\n",
      "0.583485124468731\n",
      "Hello Royce, Thank you for your interest in joining the team at Tesla. We’ve received your applicati\n",
      "0.591378263509411\n",
      "( http://unity3d.com/?elqTrackId=f7910721ac1d4efcb0863798b2159393&elqTrack=true )Hello Royce,Thank y\n",
      "0.2979154017405384\n",
      "\n",
      "0.0\n",
      "Royce,Thanks for considering a career at Sumo Logic. Your application has been received and we will \n",
      "0.1455171018012548\n",
      "Hello Royce, Thank you for your interest in joining the team at Tesla. We’ve received your applicati\n",
      "0.5873304998988059\n",
      "  html, body body a a:hover hr.horizontal-rule p table #content-wrapper #content .data-row .button .\n",
      "0.17263711799230924\n"
     ]
    }
   ],
   "source": [
    "for message in messages:\n",
    "    content = G.parseMessage(message)\n",
    "    print(content[:100])\n",
    "    print(similarity(shingles(5,content), d))"
   ]
  },
  {
   "cell_type": "code",
   "execution_count": null,
   "metadata": {},
   "outputs": [],
   "source": []
  }
 ],
 "metadata": {
  "kernelspec": {
   "display_name": "Python 3",
   "language": "python",
   "name": "python3"
  },
  "language_info": {
   "codemirror_mode": {
    "name": "ipython",
    "version": 3
   },
   "file_extension": ".py",
   "mimetype": "text/x-python",
   "name": "python",
   "nbconvert_exporter": "python",
   "pygments_lexer": "ipython3",
   "version": "3.7.5"
  }
 },
 "nbformat": 4,
 "nbformat_minor": 2
}

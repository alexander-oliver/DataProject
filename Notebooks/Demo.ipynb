{
 "cells": [
  {
   "cell_type": "code",
   "execution_count": 1,
   "metadata": {},
   "outputs": [],
   "source": [
    "from model import Gmail\n",
    "from shingles import Shingler\n",
    "\n",
    "import matplotlib.pyplot as plt\n",
    "import numpy as np\n",
    "import random"
   ]
  },
  {
   "cell_type": "code",
   "execution_count": 2,
   "metadata": {},
   "outputs": [],
   "source": [
    "G = Gmail()"
   ]
  },
  {
   "cell_type": "markdown",
   "metadata": {},
   "source": [
    "## Generating a sample dataset\n",
    "This generated dataset picks 400 random messages from my inbox and 100 job application messages that were labeled from previous analysis using this software."
   ]
  },
  {
   "cell_type": "code",
   "execution_count": 3,
   "metadata": {},
   "outputs": [],
   "source": [
    "generate_sample = False\n",
    "if generate_sample:\n",
    "    jobs = G.labels.match(['Job Applications'])\n",
    "    job_samples = random.sample(jobs, 100)\n",
    "\n",
    "    all_msgs = G.labels.match([])\n",
    "    job_ids = set([x['id'] for x in jobs])\n",
    "    rand_samples = []\n",
    "    while len(rand_samples) < 400:\n",
    "        m = random.choice(all_msgs)\n",
    "        if not m['id'] in job_ids:\n",
    "            rand_samples.append(m)\n",
    "    samples = job_samples + rand_samples\n",
    "    for i,m in enumerate(samples):\n",
    "        print(i, end='\\r')\n",
    "        G.labels.setLabel(m, ['Demo'])\n",
    "    print('done')"
   ]
  },
  {
   "cell_type": "code",
   "execution_count": 4,
   "metadata": {},
   "outputs": [],
   "source": [
    "inbox = G.get('Demo')\n",
    "jobs = G.labels.match(['Demo','Job Applications'])\n",
    "not_jobs = []\n",
    "for m in inbox:\n",
    "    if not m in jobs:\n",
    "        not_jobs.append(m)\n",
    "false_negatives = G.get('Job False Negative')"
   ]
  },
  {
   "cell_type": "code",
   "execution_count": 5,
   "metadata": {},
   "outputs": [
    {
     "name": "stdout",
     "output_type": "stream",
     "text": [
      "inbox: 500\n",
      "jobs: 100\n",
      "not jobs: 400\n",
      "false negatives 29\n"
     ]
    }
   ],
   "source": [
    "print('inbox:', len(inbox))\n",
    "print('jobs:', len(jobs))\n",
    "print('not jobs:', len(not_jobs))\n",
    "print('false negatives', len(false_negatives))"
   ]
  },
  {
   "cell_type": "markdown",
   "metadata": {},
   "source": [
    "The false negative list is a small set of hand-labeled messages that were missed durring initial attempts of sorting messages"
   ]
  },
  {
   "cell_type": "markdown",
   "metadata": {},
   "source": [
    "## Let's analyze the data\n",
    "We will begin using only 10 messages to seed the category"
   ]
  },
  {
   "cell_type": "code",
   "execution_count": 6,
   "metadata": {},
   "outputs": [],
   "source": [
    "H = Shingler(8)\n",
    "for m in random.sample(jobs,10):\n",
    "    content = G.parse(m)\n",
    "    H.add(content)"
   ]
  },
  {
   "cell_type": "code",
   "execution_count": 7,
   "metadata": {},
   "outputs": [
    {
     "data": {
      "text/plain": [
       "12033"
      ]
     },
     "execution_count": 7,
     "metadata": {},
     "output_type": "execute_result"
    }
   ],
   "source": [
    "len(H)"
   ]
  },
  {
   "cell_type": "markdown",
   "metadata": {},
   "source": [
    "Thats a big data structure. Once we identify more jobs, we can filter for only the most common words"
   ]
  },
  {
   "cell_type": "markdown",
   "metadata": {},
   "source": [
    "## Eager learning\n",
    "This structure can easily be modified as more data is processed."
   ]
  },
  {
   "cell_type": "code",
   "execution_count": 8,
   "metadata": {},
   "outputs": [
    {
     "name": "stdout",
     "output_type": "stream",
     "text": [
      "Number of documents in hash: 31\n"
     ]
    }
   ],
   "source": [
    "for m in random.sample(inbox,200):\n",
    "    content = G.parse(m)\n",
    "    s = H.sim(content, .5)\n",
    "    if s > .6: # If we are confident the message is part of the community, add it to the hash\n",
    "        H.add(content)\n",
    "print(f'Number of documents in hash: {H.n}')"
   ]
  },
  {
   "cell_type": "code",
   "execution_count": 9,
   "metadata": {},
   "outputs": [
    {
     "name": "stdout",
     "output_type": "stream",
     "text": [
      "Filtered 23865 elements. 26463 -> 2598\n"
     ]
    }
   ],
   "source": [
    "L = len(H)\n",
    "H.filter(0.1) # Filter words at least 10% common (appears in > 2 docs when hash.n = 25)\n",
    "print(f'Filtered {L-len(H)} elements. {L} -> {len(H)}')"
   ]
  },
  {
   "cell_type": "markdown",
   "metadata": {},
   "source": [
    "## Testing on sample"
   ]
  },
  {
   "cell_type": "code",
   "execution_count": 10,
   "metadata": {},
   "outputs": [],
   "source": [
    "def evalScores(H, messages, freq):\n",
    "    scores = []\n",
    "    for i,m in enumerate(messages):\n",
    "        print(i,end='\\r')\n",
    "        content = G.messages.parseMessage(m)\n",
    "        s = H.sim(content,freq)\n",
    "        scores.append(s)\n",
    "    print('done')\n",
    "    return scores"
   ]
  },
  {
   "cell_type": "code",
   "execution_count": 11,
   "metadata": {
    "scrolled": true
   },
   "outputs": [
    {
     "name": "stdout",
     "output_type": "stream",
     "text": [
      "done\n",
      "done\n",
      "done\n"
     ]
    }
   ],
   "source": [
    "freq = .3\n",
    "job_scores = evalScores(H, jobs, freq)\n",
    "not_scores = evalScores(H, random.sample(not_jobs,100), freq)\n",
    "neg_scores = evalScores(H, false_negatives, freq)"
   ]
  },
  {
   "cell_type": "code",
   "execution_count": 12,
   "metadata": {},
   "outputs": [
    {
     "data": {
      "text/plain": [
       "(array([1.56931738, 3.13863476, 1.56931738, 7.84658691, 9.41590429,\n",
       "        6.27726953, 1.56931738, 6.27726953, 0.        , 7.84658691]),\n",
       " array([0.11210762, 0.13408072, 0.15605381, 0.17802691, 0.2       ,\n",
       "        0.22197309, 0.24394619, 0.26591928, 0.28789238, 0.30986547,\n",
       "        0.33183857]),\n",
       " <a list of 10 Patch objects>)"
      ]
     },
     "execution_count": 12,
     "metadata": {},
     "output_type": "execute_result"
    },
    {
     "data": {
      "image/png": "[encoded data removed]",
      "text/plain": [
       "<Figure size 432x288 with 1 Axes>"
      ]
     },
     "metadata": {
      "needs_background": "light"
     },
     "output_type": "display_data"
    }
   ],
   "source": [
    "plt.hist(job_scores, alpha=0.5, density=True)\n",
    "plt.hist(not_scores, alpha=0.5, density=True)\n",
    "plt.hist(neg_scores, alpha=0.5, density=True)"
   ]
  },
  {
   "cell_type": "markdown",
   "metadata": {},
   "source": [
    "## Let's make a bigger hash"
   ]
  },
  {
   "cell_type": "code",
   "execution_count": 13,
   "metadata": {},
   "outputs": [],
   "source": [
    "H = Shingler(8)\n",
    "for m in jobs:\n",
    "    content = G.parse(m)\n",
    "    H.add(content)"
   ]
  },
  {
   "cell_type": "code",
   "execution_count": 14,
   "metadata": {},
   "outputs": [
    {
     "name": "stdout",
     "output_type": "stream",
     "text": [
      "Filtered 95425 elements. 97391 -> 1966\n"
     ]
    }
   ],
   "source": [
    "L = len(H)\n",
    "H.filter(0.1) # Filter words at least 10% common\n",
    "print(f'Filtered {L-len(H)} elements. {L} -> {len(H)}')"
   ]
  },
  {
   "cell_type": "code",
   "execution_count": 15,
   "metadata": {},
   "outputs": [
    {
     "name": "stdout",
     "output_type": "stream",
     "text": [
      "done\n",
      "done\n",
      "done\n",
      "done\n",
      "done\n",
      "done\n",
      "done\n",
      "done\n",
      "done\n"
     ]
    },
    {
     "data": {
      "image/png": "[encoded data removed]",
      "text/plain": [
       "<Figure size 648x216 with 3 Axes>"
      ]
     },
     "metadata": {
      "needs_background": "light"
     },
     "output_type": "display_data"
    }
   ],
   "source": [
    "legend = []\n",
    "sample_size = 20\n",
    "SJ = random.sample(jobs, sample_size)\n",
    "SNJ = random.sample(not_jobs, sample_size)\n",
    "FN = false_negatives\n",
    "n = 3\n",
    "plt.figure(figsize=[9,3])\n",
    "for i,freq in enumerate(np.linspace(.3,.9,n)):\n",
    "    plt.subplot(1,3,i+1)\n",
    "    scores= evalScores(H, SJ, freq)\n",
    "    plt.hist(scores, alpha=0.5, density=True)\n",
    "    \n",
    "    scores= evalScores(H, SNJ, freq)\n",
    "    plt.hist(scores, alpha=0.5, density=True)\n",
    "    \n",
    "    scores= evalScores(H, FN, freq)\n",
    "    plt.hist(scores, alpha=0.5, density=True)\n",
    "    plt.title(f'{freq:.2f}')\n",
    "    plt.legend(['True','False','FalseNegative'])"
   ]
  },
  {
   "cell_type": "code",
   "execution_count": 20,
   "metadata": {},
   "outputs": [
    {
     "data": {
      "text/plain": [
       "3"
      ]
     },
     "execution_count": 20,
     "metadata": {},
     "output_type": "execute_result"
    }
   ],
   "source": [
    "H.countFilter(.9)"
   ]
  },
  {
   "cell_type": "code",
   "execution_count": 21,
   "metadata": {},
   "outputs": [
    {
     "data": {
      "text/plain": [
       "13"
      ]
     },
     "execution_count": 21,
     "metadata": {},
     "output_type": "execute_result"
    }
   ],
   "source": [
    "H.countFilter(.8)"
   ]
  },
  {
   "cell_type": "code",
   "execution_count": 18,
   "metadata": {
    "scrolled": true
   },
   "outputs": [
    {
     "name": "stdout",
     "output_type": "stream",
     "text": [
      "0.6923076923076923 Department of Applied MathematicsColloquium and SeminarsWeek of March 18th - March 22nd***STATISTICS, OPTIMIZATION, AND MACHINE LEARNING SEMINARSPEAKER: Sophie Giffard-Roisin, Department of Computer Science, University of Colorado BoulderTITLE: Hurricane forecasting using fused deep learningTIME: 3:30 PM, Tuesday, 19 March 2019PLACE: ECCR 257ABSTRACT:The forecast of hurricane trajectories is crucial for the protection of people and property, but machine learning techniques have been scarce for t\n",
      "\n",
      "0.6923076923076923  Web Version:  http://view.communications.cu.edu/?qs=5abb75b5aea9e858ed4185f3bbf4726bb774c4aee7347c03553760a02305bd2502ad0808c18de56b50ef57766a10db07177c4e7341b8d30bb0e231bac5a751667995dacd1302455dd3952c1d2599839f----------------------------------------   OITinsiderApril 12, 2019   Volunteer for CommencementConnect with students and support the university's academic mission by volunteering for commencement. The Office of the Chancellor is looking for volunteers to drive a golf cart or be a Depar\n",
      "\n",
      "0.5384615384615384 Dear Colleagues,This is a friendly reminder of the APPM Colloquium this afternoon:  *   Pre-talk for students (2:00-2:40 p.m. @ Newton Lab, ECCR 257).  *   Coffee break for everyone (2:40-3:00 p.m. @ Newton Lab, ECCR 257).  *   Colloquium (3:00-4:00 p.m. @ ECCR 245).Our speaker today is Henry Adams (Department of Mathematics, Colorado State University),with the following title and abstract:An introduction to applied topologyThis talk is an introduction to computational topology, as applied to da\n",
      "\n",
      "0.5384615384615384 -------- Forwarded Message --------Subject: UCLA B.I.G. Summer 2019 - Paid Internships - Now Accepting Applications!Date: Wed, 16 Jan 2019 17:24:56 +0000From: Martin, Lana To: Martin, Lana Dear undergraduate STEM program administrators,Greetings! I am contacting you as the Programs Manager at the UCLA Institute for Quantitative and Computational Biosciences (QCBio;https://qcb.ucla.edu/).We are now accepting applications for our fantastic 8-week full-time immersion program for undergraduates,Brui\n",
      "\n",
      "0.6153846153846154 Hi everyone,FYI, in case you are interested in this scholarship opportunity.Regards,Anne DoughertyDepartment of Applied MathematicsUniversity of ColoradoBoulder, CO 80303303-492-4011________________________________[http://files.clickdimensions.com/millimancom-aeet1/images/insight_images/dot_clear.gif]View in browser[Milliman]       [http://files.clickdimensions.com/millimancom-aeet1/images/insight_images/dot_clear.gif]Opportunity Scholarship: Application deadline is April 13Applications are due \n",
      "\n",
      "0.6153846153846154 Hi everyone,I hope you are all starting to think about your summer 2020 plans.  Here’s an opportunity to apply for summer research in Genomics, Bioinformatics and Systems Biology at UCLA.   Early applications are encouraged but the deadline to apply is Jan 5, 2020.  I’ll send out additional research and internship opportunities as I receive them.Regards,Anne DoughertyDepartment of Applied MathematicsUniversity of Colorado526 UCBBoulder, CO 80309-0526303-492-4011Begin forwarded message:From: \"UCL\n",
      "\n",
      "0.6153846153846154   July 24, 2018http://click.communications.cu.edu/?qs=35d919c8b53ad8f4ce54128ec5a5c21708b3438b625a398f6b4c288a074d81e3743688b7af4d1bf470e93c7cd1d2014f30bfcdbae398c4fe View on website  Innovation in Focus http://click.communications.cu.edu/?qs=35d919c8b53ad8f4eadac4e3a173acbe4cbaba0e8f0559cf6b4e412b34ba9eed32b2bef9540aa869c7f674bbb0213afdeb082b92d90233d8 http://click.communications.cu.edu/?qs=35d919c8b53ad8f4647906b94d0fc80de1182ecc271a7e3396b8059bbf0a3836e1fa88598cb47670d988dc6832a51d60dfbf3c90b\n",
      "\n"
     ]
    }
   ],
   "source": [
    "for m in random.sample(not_jobs,200):\n",
    "    content = G.messages.parseMessage(m)\n",
    "    s = H.sim(content, .8)\n",
    "    if s > .5:\n",
    "        print(s, content[:500])\n",
    "        print()"
   ]
  },
  {
   "cell_type": "code",
   "execution_count": 19,
   "metadata": {},
   "outputs": [
    {
     "data": {
      "text/plain": [
       "{' applica': 92,\n",
       " ' interes': 93,\n",
       " 'plicatio': 89,\n",
       " 'applicat': 89,\n",
       " 'interest': 93,\n",
       " 'lication': 89,\n",
       " 'pplicati': 89,\n",
       " 'your int': 80,\n",
       " 'our inte': 80,\n",
       " 'nterest ': 87,\n",
       " 'ur inter': 80,\n",
       " ' your in': 81,\n",
       " 'ication ': 81}"
      ]
     },
     "execution_count": 19,
     "metadata": {},
     "output_type": "execute_result"
    }
   ],
   "source": [
    "H.showFilter(.8)"
   ]
  },
  {
   "cell_type": "markdown",
   "metadata": {},
   "source": [
    "## Current Issues"
   ]
  },
  {
   "cell_type": "markdown",
   "metadata": {},
   "source": [
    "### Population Specific\n",
    "If your initial sample contains 10 messages of 'CU Boulder Today' and 1 message from 'APPM Email Lists', the hash will likely only match 'CU Boulder Today' messages as content about APPM is likely < 10%.\n",
    "This is especially important when eagerly learning as each new message can alter the hash function of the next message.\n",
    "To resolve this issue, a new method must be implemented. Given a label contains no false positives, messages that are not very similar must be 'over represented' in the group. This is very easy to implement because of the objects eager learning capabilities.\n",
    "\n",
    "### Bredth Limits\n",
    "For categories with very diverse language, even the descriptive words may not be very common. Classifying these types of messages will require strong care with the frequency tolerances.\n",
    "\n",
    "### API parsing issues\n",
    "Emails contain some HTML to style the message. We've done our best to filter it out, but some messages have significant chunks of code. As the keywords of HTML will be the same across all categories, this will cause false matches."
   ]
  },
  {
   "cell_type": "code",
   "execution_count": null,
   "metadata": {},
   "outputs": [],
   "source": []
  }
 ],
 "metadata": {
  "kernelspec": {
   "display_name": "Python 3",
   "language": "python",
   "name": "python3"
  },
  "language_info": {
   "codemirror_mode": {
    "name": "ipython",
    "version": 3
   },
   "file_extension": ".py",
   "mimetype": "text/x-python",
   "name": "python",
   "nbconvert_exporter": "python",
   "pygments_lexer": "ipython3",
   "version": "3.7.5"
  }
 },
 "nbformat": 4,
 "nbformat_minor": 2
}

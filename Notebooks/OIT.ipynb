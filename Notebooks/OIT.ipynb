{
 "cells": [
  {
   "cell_type": "code",
   "execution_count": 1,
   "metadata": {},
   "outputs": [],
   "source": [
    "from model import Gmail\n",
    "import matplotlib.pyplot as plt\n",
    "import numpy as np\n",
    "import random\n",
    "from shingles import nShingles\n",
    "\n",
    "G = Gmail()"
   ]
  },
  {
   "cell_type": "code",
   "execution_count": 2,
   "metadata": {},
   "outputs": [
    {
     "data": {
      "text/plain": [
       "44"
      ]
     },
     "execution_count": 2,
     "metadata": {},
     "output_type": "execute_result"
    }
   ],
   "source": [
    "oit = G.get('OIT')\n",
    "len(oit)"
   ]
  },
  {
   "cell_type": "code",
   "execution_count": 12,
   "metadata": {},
   "outputs": [],
   "source": [
    "K = nShingles(8, 2)"
   ]
  },
  {
   "cell_type": "code",
   "execution_count": 20,
   "metadata": {
    "scrolled": true
   },
   "outputs": [
    {
     "name": "stdout",
     "output_type": "stream",
     "text": [
      "Closing testOffice of Information TechnologyLST Student AV Support ClosingMon Jul 01 2019 18:54:22 GMT-0600 \n",
      "1 Hey guys,This is a reminder that we will not be working this Thursday for the 4th of July. There wil\n",
      "Closing testOffice of Information TechnologyLST Student AV Support ClosingThu Jun 27 2019 18:58:48 GMT-0600 \n",
      "1 Hi All,I will be out of the office tomorrow and Friday. If you need something immediately, please re\n",
      "1 Hey guys I had late games last night and I slept through my alarms and amrunning late. Im leaving im\n",
      "1 Hi Oriana,I'd like to RSVP for this event. I don't have a calendar invite, sohopefully a reply suffi\n",
      "1 A Message from Jennie Brucker, Director of Employee and Customer EngagementThe Employee Empowerment/\n",
      "Closing testOffice of Information TechnologyLST Student AV Support ClosingTue Jun 11 2019 18:54:48 GMT-0600 \n",
      "1      ReadMsgBody   .ExternalClass    .ExternalClass, .ExternalClass p, .ExternalClass span, .Externa\n",
      "Closing testOffice of Information TechnologyLST Student AV Support ClosingFri Jun 07 2019 19:07:11 GMT-0600 \n",
      "1 Let's celebrate summer! Join me at Gateway Fun Park for an afternoon of fun & delicious food!In orde\n",
      "Closing testOffice of Information TechnologyLST Student AV Support ClosingTue Jun 04 2019 18:51:29 GMT-0600 \n",
      "Closing testOffice of Information TechnologyLST Student AV Support ClosingFri May 31 2019 19:00:09 GMT-0600 \n",
      "Closing testOffice of Information TechnologyLST Student AV Support ClosingThu May 30 2019 18:52:13 GMT-0600 \n",
      "Closing testOffice of Information TechnologyLST Student AV Support ClosingFri May 24 2019 19:05:52 GMT-0600 \n",
      "Closing testOffice of Information TechnologyLST Student AV Support ClosingWed May 22 2019 18:53:25 GMT-0600 \n",
      "Closing testOffice of Information TechnologyLST Student AV Support ClosingTue May 21 2019 18:55:17 GMT-0600 \n",
      "Closing testOffice of Information TechnologyLST Student AV Support ClosingThu May 16 2019 18:50:56 GMT-0600 \n",
      "1 Hey guys,Jorel and I will be OOO for training tomorrow and Friday. Please coordinate with Carmen and\n",
      "Closing testOffice of Information TechnologyLST Student AV Support ClosingTue May 14 2019 17:09:37 GMT-0600 \n",
      "Closing testOffice of Information TechnologyLST Student AV Support ClosingWed May 08 2019 19:22:06 GMT-0600 \n",
      "Closing testOffice of Information TechnologyLST Student AV Support ClosingTue May 07 2019 19:30:56 GMT-0600 \n",
      "1 Hello all,Picked up a nasty cough and a sore throat. I will reachable by phone, Teams, or email. Ple\n",
      "Closing testOffice of Information TechnologyLST Student AV Support ClosingMon May 06 2019 18:55:05 GMT-0600 \n",
      "Closing testOffice of Information TechnologyLST Student AV Support ClosingSun May 05 2019 18:02:38 GMT-0600 \n",
      "1 Hey guys, I’ll be in at 1:30-1:45 because ly doctor’s visit is runninglate. Sorry for the inconvenie\n",
      "Closing testOffice of Information TechnologyLST Student AV Support ClosingMon Apr 29 2019 19:30:48 GMT-0600 \n",
      "Closing testOffice of Information TechnologyLST Student AV Support ClosingFri Apr 26 2019 19:29:10 GMT-0600 \n",
      "Closing testOffice of Information TechnologyLST Student AV Support ClosingTue Apr 23 2019 19:27:18 GMT-0600 \n",
      "1 All, a message of good news from APPM Associate Chair Anne Dougherty.Each year the Department of App\n",
      "Closing testOffice of Information TechnologyLST Student AV Support ClosingMon Apr 22 2019 19:32:57 GMT-0600 \n",
      "1 Dear Royce,CU Boulder has launched a Transportation Master Plan initiative, and your feedback isinva\n",
      "Closing testOffice of Information TechnologyLST Student AV Support ClosingThu Apr 18 2019 19:58:35 GMT-0600 \n",
      "Closing testOffice of Information TechnologyLST Student AV Support ClosingMon Apr 15 2019 19:30:29 GMT-0600 \n",
      "1 Hey guys my brother’s truck wouldn’t start so I have to drive him homefirst and then I’ll be on my w\n",
      "Closing testOffice of Information TechnologyLST Student AV Support ClosingFri Apr 05 2019 18:26:11 GMT-0600 \n",
      "Closing testOffice of Information TechnologyLST Student AV Support ClosingWed Apr 03 2019 19:30:45 GMT-0600 \n",
      "Closing testOffice of Information TechnologyLST Student AV Support ClosingMon Apr 01 2019 19:30:03 GMT-0600 \n",
      "Closing testOffice of Information TechnologyLST Student AV Support ClosingTue Mar 19 2019 20:04:08 GMT-0600 \n",
      "Closing testOffice of Information TechnologyLST Student AV Support ClosingMon Mar 11 2019 19:44:37 GMT-0600 \n",
      "1 Hi!Thanks,_________________Dilan WeerasingheLab Services ManagerLearning Spaces Technology:OITWork #\n",
      "1 Hey guys, I messed up my back pretty bad yesterday and I was giving it anight to try and sleep it of\n",
      "1 Hi All,This is a reminder that the deadline for biweekly timesheets to be submitted and approved by \n",
      "Closing testOffice of Information TechnologyLST Student AV Support ClosingWed Feb 20 2019 19:33:52 GMT-0700 \n"
     ]
    }
   ],
   "source": [
    "scores = {}\n",
    "for m in oit:\n",
    "    content = G.parse(m)\n",
    "    group, score = K.add(content)\n",
    "    if group in scores:\n",
    "        scores[group].append(score)\n",
    "    else:\n",
    "        scores[group] = [score]\n",
    "    print(group, content[:100])"
   ]
  },
  {
   "cell_type": "code",
   "execution_count": 21,
   "metadata": {},
   "outputs": [],
   "source": [
    "K.name(0,'Closing')\n",
    "K.name(1,'Other')"
   ]
  },
  {
   "cell_type": "code",
   "execution_count": 22,
   "metadata": {},
   "outputs": [
    {
     "name": "stdout",
     "output_type": "stream",
     "text": [
      "Closing 28\n",
      "1 16\n"
     ]
    },
    {
     "data": {
      "image/png": "[encoded data removed]",
      "text/plain": [
       "<Figure size 432x288 with 1 Axes>"
      ]
     },
     "metadata": {
      "needs_background": "light"
     },
     "output_type": "display_data"
    }
   ],
   "source": [
    "for x in scores:\n",
    "    print(x, len(scores[x]))\n",
    "    plt.hist(scores[x])"
   ]
  },
  {
   "cell_type": "code",
   "execution_count": 23,
   "metadata": {},
   "outputs": [
    {
     "name": "stdout",
     "output_type": "stream",
     "text": [
      "{'Closing': 5289, 'Other': 16694}\n",
      "{'Closing': 112, 'Other': 64}\n"
     ]
    }
   ],
   "source": [
    "print(K.size())\n",
    "print(K.n())"
   ]
  },
  {
   "cell_type": "code",
   "execution_count": 24,
   "metadata": {},
   "outputs": [
    {
     "data": {
      "text/plain": [
       "5015"
      ]
     },
     "execution_count": 24,
     "metadata": {},
     "output_type": "execute_result"
    }
   ],
   "source": [
    "inbox = G.get('INBOX')\n",
    "random.shuffle(inbox)\n",
    "len(inbox)"
   ]
  },
  {
   "cell_type": "code",
   "execution_count": 26,
   "metadata": {},
   "outputs": [
    {
     "name": "stdout",
     "output_type": "stream",
     "text": [
      "Other 0.5435 Denee JandaDo you want to declare or change a majo\n",
      "Other 0.9574   To view this email as a web page, go to the link\n",
      "Other 0.5778 ________________________________From: UCB ServiceN\n",
      "Other 0.9362 Hey guys my brother’s truck wouldn’t start so I ha\n",
      "Other 0.617 ________________________________From: UCB ServiceN\n",
      "Other 0.9362 Hey guys I was feeling pretty sick this weekend an\n",
      "Other 0.5745 Dear Hideo, We have an update on your issue INC048\n",
      "Other 0.5532 Department of Applied MathematicsColloquium and Se\n",
      "Other 0.9556 Hey Hideo.  This room is currently in use by a stu\n",
      "Other 0.587 To view this email as a web page, go to the link b\n",
      "Other 0.9565 *INC0491098 CASE E250 - Guido has responded to the\n"
     ]
    }
   ],
   "source": [
    "for m in inbox[:100]:\n",
    "    content = G.parse(m)\n",
    "    group, score = K.sim(content)\n",
    "    if score > .5 and group == 'Other':\n",
    "        print(group, round(score, 4), content[:50])\n",
    "        K.add(content)\n",
    "#         G.setLabel(m, 'OIT')"
   ]
  },
  {
   "cell_type": "code",
   "execution_count": null,
   "metadata": {},
   "outputs": [],
   "source": [
    "K.groups()"
   ]
  },
  {
   "cell_type": "code",
   "execution_count": null,
   "metadata": {},
   "outputs": [],
   "source": [
    "for m in inbox[100:200]:\n",
    "    content = G.parse(m)\n",
    "    group, score = K.sim(content)\n",
    "    if score > .5:\n",
    "        print(group, round(score, 4), content[:50])\n",
    "        K.add(content)\n",
    "        G.setLabel(m, 'OIT')"
   ]
  },
  {
   "cell_type": "code",
   "execution_count": null,
   "metadata": {},
   "outputs": [],
   "source": []
  }
 ],
 "metadata": {
  "kernelspec": {
   "display_name": "Python 3",
   "language": "python",
   "name": "python3"
  },
  "language_info": {
   "codemirror_mode": {
    "name": "ipython",
    "version": 3
   },
   "file_extension": ".py",
   "mimetype": "text/x-python",
   "name": "python",
   "nbconvert_exporter": "python",
   "pygments_lexer": "ipython3",
   "version": "3.7.5"
  }
 },
 "nbformat": 4,
 "nbformat_minor": 2
}

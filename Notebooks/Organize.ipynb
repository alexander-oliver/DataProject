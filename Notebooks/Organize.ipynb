{
 "cells": [
  {
   "cell_type": "code",
   "execution_count": 1,
   "metadata": {},
   "outputs": [],
   "source": [
    "from model import Gmail\n",
    "import matplotlib.pyplot as plt\n",
    "import numpy as np\n",
    "import random"
   ]
  },
  {
   "cell_type": "code",
   "execution_count": 2,
   "metadata": {},
   "outputs": [],
   "source": [
    "G = Gmail()"
   ]
  },
  {
   "cell_type": "markdown",
   "metadata": {},
   "source": [
    "### Get Labels"
   ]
  },
  {
   "cell_type": "code",
   "execution_count": 46,
   "metadata": {},
   "outputs": [
    {
     "data": {
      "text/plain": [
       "['Unsubscribe',\n",
       " 'Job Denial',\n",
       " 'Github',\n",
       " 'Job Recruiter Spam',\n",
       " 'Job False Negative',\n",
       " 'CU Alerts',\n",
       " 'Bills',\n",
       " 'MARC/MARC hours',\n",
       " 'CU Email Lists',\n",
       " 'MARC',\n",
       " 'Cycling',\n",
       " 'Canvas',\n",
       " 'Low Confidence',\n",
       " 'Job Applications',\n",
       " 'Piazza',\n",
       " 'Job Interview']"
      ]
     },
     "execution_count": 46,
     "metadata": {},
     "output_type": "execute_result"
    }
   ],
   "source": [
    "G.labels.label_id = G.labels.callLabelIds()\n",
    "LABEL_NAMES = G.labels.names()\n",
    "DEFAULT_LABELS = ['CATEGORY_PERSONAL','CATEGORY_SOCIAL','CATEGORY_FORUMS','IMPORTANT','CATEGORY_UPDATES'\n",
    "                  ,'CHAT','SENT','INBOX','TRASH','CATEGORY_PROMOTIONS','DRAFT','SPAM','STARRED','UNREAD']\n",
    "CUSTOM_LABELS = []\n",
    "for label in LABEL_NAMES:\n",
    "    if not label in DEFAULT_LABELS: CUSTOM_LABELS += [label]\n",
    "CUSTOM_LABELS"
   ]
  },
  {
   "cell_type": "markdown",
   "metadata": {},
   "source": [
    "### Reset Labels (if necessary)"
   ]
  },
  {
   "cell_type": "code",
   "execution_count": 4,
   "metadata": {},
   "outputs": [
    {
     "name": "stdout",
     "output_type": "stream",
     "text": [
      "done\n"
     ]
    }
   ],
   "source": [
    "reset = False\n",
    "idx = [1,8]\n",
    "RESET_LABELS = [CUSTOM_LABELS[i] for i in idx]\n",
    "SET_LABELS = ['INBOX','UNREAD']\n",
    "if reset:\n",
    "    for label in RESET_LABELS:\n",
    "        print(label)\n",
    "        G.labels.clearLabel([label],[label],SET_LABELS)\n",
    "print('done')"
   ]
  },
  {
   "cell_type": "code",
   "execution_count": 6,
   "metadata": {},
   "outputs": [],
   "source": [
    "del H['Low Confidence']\n",
    "del H['Job False Negative']"
   ]
  },
  {
   "cell_type": "code",
   "execution_count": 49,
   "metadata": {},
   "outputs": [
    {
     "name": "stdout",
     "output_type": "stream",
     "text": [
      "sampling 0 messages matching ['Unsubscribe']\n",
      "length: 0\n",
      "sampling 5 messages matching ['Job Denial']\n",
      "length: 460\n",
      "sampling 100 messages of 207 matching ['Github']\n",
      "length: 277\n",
      "sampling 4 messages matching ['Job Recruiter Spam']\n",
      "length: 1877\n",
      "sampling 12 messages matching ['Job False Negative']\n",
      "length: 286\n",
      "sampling 2 messages matching ['CU Alerts']\n",
      "length: 901\n",
      "sampling 31 messages matching ['Bills']\n",
      "length: 1513\n",
      "sampling 6 messages matching ['MARC/MARC hours']\n",
      "length: 772\n",
      "sampling 100 messages of 393 matching ['CU Email Lists']\n",
      "length: 5330\n",
      "sampling 6 messages matching ['MARC']\n",
      "length: 161\n",
      "sampling 31 messages matching ['Cycling']\n",
      "length: 739\n",
      "sampling 100 messages of 372 matching ['Canvas']\n",
      "length: 742\n",
      "sampling 1 messages matching ['Low Confidence']\n",
      "length: 304\n",
      "sampling 100 messages of 136 matching ['Job Applications']\n",
      "length: 186\n",
      "sampling 100 messages of 765 matching ['Piazza']\n",
      "length: 768\n",
      "sampling 3 messages matching ['Job Interview']\n",
      "length: 6982\n"
     ]
    }
   ],
   "source": [
    "idx = [2,8]\n",
    "# HASH_LABELS = [CUSTOM_LABELS[i] for i in idx]\n",
    "HASH_LABELS = CUSTOM_LABELS\n",
    "H = {}\n",
    "for label in HASH_LABELS:\n",
    "    H[label] = G.hashMatch([label], freq=0.3, sample=100)\n",
    "    print(f'length: {len(H[label])}')"
   ]
  },
  {
   "cell_type": "markdown",
   "metadata": {},
   "source": [
    "### Some Testing"
   ]
  },
  {
   "cell_type": "code",
   "execution_count": 7,
   "metadata": {},
   "outputs": [],
   "source": [
    "def E(msg):\n",
    "    s = {}\n",
    "    for x in H:\n",
    "        s[x] = round(H[x].sim(G.messages.parseMessage(msg)),2)\n",
    "    return {k: v for k, v in sorted(s.items(), key=lambda item: item[1], reverse=True)}"
   ]
  },
  {
   "cell_type": "code",
   "execution_count": 8,
   "metadata": {},
   "outputs": [
    {
     "name": "stdout",
     "output_type": "stream",
     "text": [
      "\n",
      "Your classmate posted a new Question. Problem 4 Part 3For judging which method is better at finding \n",
      "{'Piazza': 0.59, 'Job Applications': 0.09, 'Github': 0.04, 'CU Alerts': 0.03, 'MARC/MARC hours': 0.03, 'Cycling': 0.03, 'Canvas': 0.03, 'Unsubscribe': 0.02, 'CU Email Lists': 0.01, 'MARC': 0.01, 'Bills': 0.0}\n",
      "\n",
      "You're receiving this email because rosc1351@colorado.edu is enrolled in CSCI 4022-001 at University\n",
      "{'Piazza': 0.61, 'Job Applications': 0.1, 'Github': 0.04, 'MARC/MARC hours': 0.04, 'CU Alerts': 0.03, 'Unsubscribe': 0.02, 'MARC': 0.02, 'Cycling': 0.02, 'Canvas': 0.02, 'CU Email Lists': 0.01, 'Bills': 0.0}\n",
      "\n",
      "Department of Applied MathematicsColloquium and SeminarsWeek of December 9th - December 13th***Mathe\n",
      "{'Job Applications': 0.14, 'CU Alerts': 0.05, 'MARC': 0.03, 'Piazza': 0.03, 'MARC/MARC hours': 0.02, 'CU Email Lists': 0.02, 'Cycling': 0.02, 'Unsubscribe': 0.01, 'Github': 0.01, 'Bills': 0.01, 'Canvas': 0.01}\n",
      "\n",
      "Specialized Bicycle Components just signed up to attend 2020 Just in Time Fair 💼Hi Royce, we wanted \n",
      "{'Job Applications': 0.11, 'Canvas': 0.06, 'Cycling': 0.04, 'Github': 0.03, 'Piazza': 0.03, 'Unsubscribe': 0.02, 'CU Alerts': 0.01, 'Bills': 0.01, 'MARC/MARC hours': 0.01, 'CU Email Lists': 0.01, 'MARC': 0.01}\n",
      "\n",
      "All,Here are the projectpresentation times.  Everyone should have received their preferred time.As t\n",
      "{'Job Applications': 0.04, 'Cycling': 0.03, 'MARC': 0.02, 'Canvas': 0.02, 'Piazza': 0.02, 'Github': 0.01, 'CU Alerts': 0.01, 'MARC/MARC hours': 0.01, 'Unsubscribe': 0.0, 'Bills': 0.0, 'CU Email Lists': 0.0}\n",
      "\n",
      "Instructor Juraj Culak posted a new Note. Your instructor selected to notify everyone in real time o\n",
      "{'Piazza': 0.57, 'Job Applications': 0.09, 'Github': 0.04, 'CU Alerts': 0.03, 'MARC/MARC hours': 0.03, 'Cycling': 0.03, 'Canvas': 0.03, 'Unsubscribe': 0.02, 'CU Email Lists': 0.01, 'MARC': 0.01, 'Bills': 0.0}\n",
      "\n",
      "          Your assignment HW2 Part 2 has been graded.graded: Dec 9 at 10:27amYou can review the assi\n",
      "{'Canvas': 0.7, 'Job Applications': 0.17, 'Unsubscribe': 0.07, 'Cycling': 0.06, 'Github': 0.04, 'Piazza': 0.03, 'Bills': 0.02, 'CU Email Lists': 0.02, 'CU Alerts': 0.01, 'MARC/MARC hours': 0.0, 'MARC': 0.0}\n",
      "\n",
      "          Your assignment HW2 Part 1 has been graded.graded: Dec 9 at 10:27amYou can review the assi\n",
      "{'Canvas': 0.7, 'Job Applications': 0.17, 'Unsubscribe': 0.07, 'Cycling': 0.06, 'Github': 0.04, 'Piazza': 0.03, 'Bills': 0.02, 'CU Email Lists': 0.02, 'CU Alerts': 0.01, 'MARC/MARC hours': 0.0, 'MARC': 0.0}\n",
      "\n",
      "Royce,Your opportunity to complete your Faculty Course Questionnaires (FCQs) ends today! Remember, y\n",
      "{'Job Applications': 0.07, 'CU Alerts': 0.02, 'MARC': 0.02, 'Canvas': 0.02, 'Piazza': 0.02, 'Unsubscribe': 0.01, 'Github': 0.01, 'Bills': 0.01, 'CU Email Lists': 0.01, 'Cycling': 0.01, 'MARC/MARC hours': 0.0}\n",
      "\n",
      "Royce,Your opportunity to complete your Faculty Course Questionnaires (FCQs) ends today! Remember, y\n",
      "{'Job Applications': 0.07, 'CU Alerts': 0.02, 'MARC': 0.02, 'Canvas': 0.02, 'Piazza': 0.02, 'Unsubscribe': 0.01, 'Github': 0.01, 'Bills': 0.01, 'CU Email Lists': 0.01, 'Cycling': 0.01, 'MARC/MARC hours': 0.0}\n"
     ]
    }
   ],
   "source": [
    "for i in range(10):\n",
    "    msg = G.messages.popMessage()\n",
    "    print()\n",
    "    print(G.messages.parseMessage(msg)[:100])\n",
    "    print(E(msg))"
   ]
  },
  {
   "cell_type": "code",
   "execution_count": 9,
   "metadata": {},
   "outputs": [],
   "source": [
    "def evaluate(labelName, h):\n",
    "    messages = G.labels.match([labelName])\n",
    "    if len(messages) > 50:\n",
    "        messages = random.sample(messages, 50)\n",
    "    scores = []\n",
    "    for m in messages:\n",
    "        content = G.messages.parseMessage(m)\n",
    "        s = h.sim(content)\n",
    "        scores.append(s)\n",
    "    return scores"
   ]
  },
  {
   "cell_type": "code",
   "execution_count": 10,
   "metadata": {
    "scrolled": true
   },
   "outputs": [
    {
     "ename": "KeyboardInterrupt",
     "evalue": "",
     "output_type": "error",
     "traceback": [
      "\u001b[0;31m---------------------------------------------------------------------------\u001b[0m",
      "\u001b[0;31mKeyboardInterrupt\u001b[0m                         Traceback (most recent call last)",
      "\u001b[0;32m<ipython-input-10-26340a690377>\u001b[0m in \u001b[0;36m<module>\u001b[0;34m\u001b[0m\n\u001b[1;32m      1\u001b[0m \u001b[0;32mfor\u001b[0m \u001b[0mlab\u001b[0m \u001b[0;32min\u001b[0m \u001b[0mH\u001b[0m\u001b[0;34m:\u001b[0m\u001b[0;34m\u001b[0m\u001b[0;34m\u001b[0m\u001b[0m\n\u001b[0;32m----> 2\u001b[0;31m     \u001b[0mx\u001b[0m \u001b[0;34m=\u001b[0m \u001b[0mevaluate\u001b[0m\u001b[0;34m(\u001b[0m\u001b[0mlab\u001b[0m\u001b[0;34m,\u001b[0m \u001b[0mH\u001b[0m\u001b[0;34m[\u001b[0m\u001b[0mlab\u001b[0m\u001b[0;34m]\u001b[0m\u001b[0;34m)\u001b[0m\u001b[0;34m\u001b[0m\u001b[0;34m\u001b[0m\u001b[0m\n\u001b[0m\u001b[1;32m      3\u001b[0m     \u001b[0mplt\u001b[0m\u001b[0;34m.\u001b[0m\u001b[0mhist\u001b[0m\u001b[0;34m(\u001b[0m\u001b[0mx\u001b[0m\u001b[0;34m,\u001b[0m \u001b[0malpha\u001b[0m\u001b[0;34m=\u001b[0m\u001b[0;36m.5\u001b[0m\u001b[0;34m)\u001b[0m\u001b[0;34m\u001b[0m\u001b[0;34m\u001b[0m\u001b[0m\n\u001b[1;32m      4\u001b[0m \u001b[0mplt\u001b[0m\u001b[0;34m.\u001b[0m\u001b[0mlegend\u001b[0m\u001b[0;34m(\u001b[0m\u001b[0mH\u001b[0m\u001b[0;34m.\u001b[0m\u001b[0mkeys\u001b[0m\u001b[0;34m(\u001b[0m\u001b[0;34m)\u001b[0m\u001b[0;34m)\u001b[0m\u001b[0;34m\u001b[0m\u001b[0;34m\u001b[0m\u001b[0m\n",
      "\u001b[0;32m<ipython-input-9-3af43c7c1d0f>\u001b[0m in \u001b[0;36mevaluate\u001b[0;34m(labelName, h)\u001b[0m\n\u001b[1;32m      5\u001b[0m     \u001b[0mscores\u001b[0m \u001b[0;34m=\u001b[0m \u001b[0;34m[\u001b[0m\u001b[0;34m]\u001b[0m\u001b[0;34m\u001b[0m\u001b[0;34m\u001b[0m\u001b[0m\n\u001b[1;32m      6\u001b[0m     \u001b[0;32mfor\u001b[0m \u001b[0mm\u001b[0m \u001b[0;32min\u001b[0m \u001b[0mmessages\u001b[0m\u001b[0;34m:\u001b[0m\u001b[0;34m\u001b[0m\u001b[0;34m\u001b[0m\u001b[0m\n\u001b[0;32m----> 7\u001b[0;31m         \u001b[0mcontent\u001b[0m \u001b[0;34m=\u001b[0m \u001b[0mG\u001b[0m\u001b[0;34m.\u001b[0m\u001b[0mmessages\u001b[0m\u001b[0;34m.\u001b[0m\u001b[0mparseMessage\u001b[0m\u001b[0;34m(\u001b[0m\u001b[0mm\u001b[0m\u001b[0;34m)\u001b[0m\u001b[0;34m\u001b[0m\u001b[0;34m\u001b[0m\u001b[0m\n\u001b[0m\u001b[1;32m      8\u001b[0m         \u001b[0ms\u001b[0m \u001b[0;34m=\u001b[0m \u001b[0mh\u001b[0m\u001b[0;34m.\u001b[0m\u001b[0msim\u001b[0m\u001b[0;34m(\u001b[0m\u001b[0mcontent\u001b[0m\u001b[0;34m)\u001b[0m\u001b[0;34m\u001b[0m\u001b[0;34m\u001b[0m\u001b[0m\n\u001b[1;32m      9\u001b[0m         \u001b[0mscores\u001b[0m\u001b[0;34m.\u001b[0m\u001b[0mappend\u001b[0m\u001b[0;34m(\u001b[0m\u001b[0ms\u001b[0m\u001b[0;34m)\u001b[0m\u001b[0;34m\u001b[0m\u001b[0;34m\u001b[0m\u001b[0m\n",
      "\u001b[0;32m~/Classes Fall 19/Advanced Data Science/project/messages.py\u001b[0m in \u001b[0;36mparseMessage\u001b[0;34m(self, message)\u001b[0m\n\u001b[1;32m     68\u001b[0m \u001b[0;34m\u001b[0m\u001b[0m\n\u001b[1;32m     69\u001b[0m     \u001b[0;32mdef\u001b[0m \u001b[0mparseMessage\u001b[0m\u001b[0;34m(\u001b[0m\u001b[0mself\u001b[0m\u001b[0;34m,\u001b[0m \u001b[0mmessage\u001b[0m\u001b[0;34m=\u001b[0m\u001b[0;32mNone\u001b[0m\u001b[0;34m)\u001b[0m\u001b[0;34m:\u001b[0m\u001b[0;34m\u001b[0m\u001b[0;34m\u001b[0m\u001b[0m\n\u001b[0;32m---> 70\u001b[0;31m         \u001b[0;32mreturn\u001b[0m \u001b[0mfilter\u001b[0m\u001b[0;34m(\u001b[0m\u001b[0mself\u001b[0m\u001b[0;34m.\u001b[0m\u001b[0mreadMessage\u001b[0m\u001b[0;34m(\u001b[0m\u001b[0mmessage\u001b[0m\u001b[0;34m)\u001b[0m\u001b[0;34m)\u001b[0m\u001b[0;34m\u001b[0m\u001b[0;34m\u001b[0m\u001b[0m\n\u001b[0m\u001b[1;32m     71\u001b[0m \u001b[0;34m\u001b[0m\u001b[0m\n\u001b[1;32m     72\u001b[0m     \u001b[0;32mdef\u001b[0m \u001b[0mpopMessage\u001b[0m\u001b[0;34m(\u001b[0m\u001b[0mself\u001b[0m\u001b[0;34m)\u001b[0m\u001b[0;34m:\u001b[0m\u001b[0;34m\u001b[0m\u001b[0;34m\u001b[0m\u001b[0m\n",
      "\u001b[0;32m~/Classes Fall 19/Advanced Data Science/project/messages.py\u001b[0m in \u001b[0;36mreadMessage\u001b[0;34m(self, message)\u001b[0m\n\u001b[1;32m     46\u001b[0m         \u001b[0;32mif\u001b[0m \u001b[0;32mnot\u001b[0m \u001b[0mmessage\u001b[0m\u001b[0;34m:\u001b[0m\u001b[0;34m\u001b[0m\u001b[0;34m\u001b[0m\u001b[0m\n\u001b[1;32m     47\u001b[0m             \u001b[0mmessage\u001b[0m \u001b[0;34m=\u001b[0m \u001b[0mself\u001b[0m\u001b[0;34m.\u001b[0m\u001b[0mcurrentMessage\u001b[0m\u001b[0;34m(\u001b[0m\u001b[0;34m)\u001b[0m\u001b[0;34m\u001b[0m\u001b[0;34m\u001b[0m\u001b[0m\n\u001b[0;32m---> 48\u001b[0;31m         \u001b[0mmessage\u001b[0m \u001b[0;34m=\u001b[0m \u001b[0mself\u001b[0m\u001b[0;34m.\u001b[0m\u001b[0mservice\u001b[0m\u001b[0;34m.\u001b[0m\u001b[0musers\u001b[0m\u001b[0;34m(\u001b[0m\u001b[0;34m)\u001b[0m\u001b[0;34m.\u001b[0m\u001b[0mmessages\u001b[0m\u001b[0;34m(\u001b[0m\u001b[0;34m)\u001b[0m\u001b[0;34m.\u001b[0m\u001b[0mget\u001b[0m\u001b[0;34m(\u001b[0m\u001b[0muserId\u001b[0m\u001b[0;34m=\u001b[0m\u001b[0;34m'me'\u001b[0m\u001b[0;34m,\u001b[0m \u001b[0mid\u001b[0m\u001b[0;34m=\u001b[0m\u001b[0mmessage\u001b[0m\u001b[0;34m[\u001b[0m\u001b[0;34m'id'\u001b[0m\u001b[0;34m]\u001b[0m\u001b[0;34m)\u001b[0m\u001b[0;34m.\u001b[0m\u001b[0mexecute\u001b[0m\u001b[0;34m(\u001b[0m\u001b[0;34m)\u001b[0m\u001b[0;34m\u001b[0m\u001b[0;34m\u001b[0m\u001b[0m\n\u001b[0m\u001b[1;32m     49\u001b[0m         \u001b[0;32mif\u001b[0m \u001b[0;34m'parts'\u001b[0m \u001b[0;32min\u001b[0m \u001b[0mmessage\u001b[0m\u001b[0;34m[\u001b[0m\u001b[0;34m'payload'\u001b[0m\u001b[0;34m]\u001b[0m\u001b[0;34m:\u001b[0m\u001b[0;34m\u001b[0m\u001b[0;34m\u001b[0m\u001b[0m\n\u001b[1;32m     50\u001b[0m             \u001b[0mparts\u001b[0m \u001b[0;34m=\u001b[0m \u001b[0mmessage\u001b[0m\u001b[0;34m[\u001b[0m\u001b[0;34m'payload'\u001b[0m\u001b[0;34m]\u001b[0m\u001b[0;34m[\u001b[0m\u001b[0;34m'parts'\u001b[0m\u001b[0;34m]\u001b[0m\u001b[0;34m\u001b[0m\u001b[0;34m\u001b[0m\u001b[0m\n",
      "\u001b[0;32m/usr/local/lib/python3.7/site-packages/googleapiclient/_helpers.py\u001b[0m in \u001b[0;36mpositional_wrapper\u001b[0;34m(*args, **kwargs)\u001b[0m\n\u001b[1;32m    128\u001b[0m                 \u001b[0;32melif\u001b[0m \u001b[0mpositional_parameters_enforcement\u001b[0m \u001b[0;34m==\u001b[0m \u001b[0mPOSITIONAL_WARNING\u001b[0m\u001b[0;34m:\u001b[0m\u001b[0;34m\u001b[0m\u001b[0;34m\u001b[0m\u001b[0m\n\u001b[1;32m    129\u001b[0m                     \u001b[0mlogger\u001b[0m\u001b[0;34m.\u001b[0m\u001b[0mwarning\u001b[0m\u001b[0;34m(\u001b[0m\u001b[0mmessage\u001b[0m\u001b[0;34m)\u001b[0m\u001b[0;34m\u001b[0m\u001b[0;34m\u001b[0m\u001b[0m\n\u001b[0;32m--> 130\u001b[0;31m             \u001b[0;32mreturn\u001b[0m \u001b[0mwrapped\u001b[0m\u001b[0;34m(\u001b[0m\u001b[0;34m*\u001b[0m\u001b[0margs\u001b[0m\u001b[0;34m,\u001b[0m \u001b[0;34m**\u001b[0m\u001b[0mkwargs\u001b[0m\u001b[0;34m)\u001b[0m\u001b[0;34m\u001b[0m\u001b[0;34m\u001b[0m\u001b[0m\n\u001b[0m\u001b[1;32m    131\u001b[0m         \u001b[0;32mreturn\u001b[0m \u001b[0mpositional_wrapper\u001b[0m\u001b[0;34m\u001b[0m\u001b[0;34m\u001b[0m\u001b[0m\n\u001b[1;32m    132\u001b[0m \u001b[0;34m\u001b[0m\u001b[0m\n",
      "\u001b[0;32m/usr/local/lib/python3.7/site-packages/googleapiclient/http.py\u001b[0m in \u001b[0;36mexecute\u001b[0;34m(self, http, num_retries)\u001b[0m\n\u001b[1;32m    849\u001b[0m     resp, content = _retry_request(\n\u001b[1;32m    850\u001b[0m           \u001b[0mhttp\u001b[0m\u001b[0;34m,\u001b[0m \u001b[0mnum_retries\u001b[0m\u001b[0;34m,\u001b[0m \u001b[0;34m'request'\u001b[0m\u001b[0;34m,\u001b[0m \u001b[0mself\u001b[0m\u001b[0;34m.\u001b[0m\u001b[0m_sleep\u001b[0m\u001b[0;34m,\u001b[0m \u001b[0mself\u001b[0m\u001b[0;34m.\u001b[0m\u001b[0m_rand\u001b[0m\u001b[0;34m,\u001b[0m \u001b[0mstr\u001b[0m\u001b[0;34m(\u001b[0m\u001b[0mself\u001b[0m\u001b[0;34m.\u001b[0m\u001b[0muri\u001b[0m\u001b[0;34m)\u001b[0m\u001b[0;34m,\u001b[0m\u001b[0;34m\u001b[0m\u001b[0;34m\u001b[0m\u001b[0m\n\u001b[0;32m--> 851\u001b[0;31m           method=str(self.method), body=self.body, headers=self.headers)\n\u001b[0m\u001b[1;32m    852\u001b[0m \u001b[0;34m\u001b[0m\u001b[0m\n\u001b[1;32m    853\u001b[0m     \u001b[0;32mfor\u001b[0m \u001b[0mcallback\u001b[0m \u001b[0;32min\u001b[0m \u001b[0mself\u001b[0m\u001b[0;34m.\u001b[0m\u001b[0mresponse_callbacks\u001b[0m\u001b[0;34m:\u001b[0m\u001b[0;34m\u001b[0m\u001b[0;34m\u001b[0m\u001b[0m\n",
      "\u001b[0;32m/usr/local/lib/python3.7/site-packages/googleapiclient/http.py\u001b[0m in \u001b[0;36m_retry_request\u001b[0;34m(http, num_retries, req_type, sleep, rand, uri, method, *args, **kwargs)\u001b[0m\n\u001b[1;32m    163\u001b[0m     \u001b[0;32mtry\u001b[0m\u001b[0;34m:\u001b[0m\u001b[0;34m\u001b[0m\u001b[0;34m\u001b[0m\u001b[0m\n\u001b[1;32m    164\u001b[0m       \u001b[0mexception\u001b[0m \u001b[0;34m=\u001b[0m \u001b[0;32mNone\u001b[0m\u001b[0;34m\u001b[0m\u001b[0;34m\u001b[0m\u001b[0m\n\u001b[0;32m--> 165\u001b[0;31m       \u001b[0mresp\u001b[0m\u001b[0;34m,\u001b[0m \u001b[0mcontent\u001b[0m \u001b[0;34m=\u001b[0m \u001b[0mhttp\u001b[0m\u001b[0;34m.\u001b[0m\u001b[0mrequest\u001b[0m\u001b[0;34m(\u001b[0m\u001b[0muri\u001b[0m\u001b[0;34m,\u001b[0m \u001b[0mmethod\u001b[0m\u001b[0;34m,\u001b[0m \u001b[0;34m*\u001b[0m\u001b[0margs\u001b[0m\u001b[0;34m,\u001b[0m \u001b[0;34m**\u001b[0m\u001b[0mkwargs\u001b[0m\u001b[0;34m)\u001b[0m\u001b[0;34m\u001b[0m\u001b[0;34m\u001b[0m\u001b[0m\n\u001b[0m\u001b[1;32m    166\u001b[0m     \u001b[0;31m# Retry on SSL errors and socket timeout errors.\u001b[0m\u001b[0;34m\u001b[0m\u001b[0;34m\u001b[0m\u001b[0;34m\u001b[0m\u001b[0m\n\u001b[1;32m    167\u001b[0m     \u001b[0;32mexcept\u001b[0m \u001b[0m_ssl_SSLError\u001b[0m \u001b[0;32mas\u001b[0m \u001b[0mssl_error\u001b[0m\u001b[0;34m:\u001b[0m\u001b[0;34m\u001b[0m\u001b[0;34m\u001b[0m\u001b[0m\n",
      "\u001b[0;32m/usr/local/lib/python3.7/site-packages/google_auth_httplib2.py\u001b[0m in \u001b[0;36mrequest\u001b[0;34m(self, uri, method, body, headers, **kwargs)\u001b[0m\n\u001b[1;32m    196\u001b[0m         \u001b[0;31m# Make the request.\u001b[0m\u001b[0;34m\u001b[0m\u001b[0;34m\u001b[0m\u001b[0;34m\u001b[0m\u001b[0m\n\u001b[1;32m    197\u001b[0m         response, content = self.http.request(\n\u001b[0;32m--> 198\u001b[0;31m             uri, method, body=body, headers=request_headers, **kwargs)\n\u001b[0m\u001b[1;32m    199\u001b[0m \u001b[0;34m\u001b[0m\u001b[0m\n\u001b[1;32m    200\u001b[0m         \u001b[0;31m# If the response indicated that the credentials needed to be\u001b[0m\u001b[0;34m\u001b[0m\u001b[0;34m\u001b[0m\u001b[0;34m\u001b[0m\u001b[0m\n",
      "\u001b[0;32m/usr/local/lib/python3.7/site-packages/httplib2/__init__.py\u001b[0m in \u001b[0;36mrequest\u001b[0;34m(self, uri, method, body, headers, redirections, connection_type)\u001b[0m\n\u001b[1;32m   1924\u001b[0m                         \u001b[0mheaders\u001b[0m\u001b[0;34m,\u001b[0m\u001b[0;34m\u001b[0m\u001b[0;34m\u001b[0m\u001b[0m\n\u001b[1;32m   1925\u001b[0m                         \u001b[0mredirections\u001b[0m\u001b[0;34m,\u001b[0m\u001b[0;34m\u001b[0m\u001b[0;34m\u001b[0m\u001b[0m\n\u001b[0;32m-> 1926\u001b[0;31m                         \u001b[0mcachekey\u001b[0m\u001b[0;34m,\u001b[0m\u001b[0;34m\u001b[0m\u001b[0;34m\u001b[0m\u001b[0m\n\u001b[0m\u001b[1;32m   1927\u001b[0m                     )\n\u001b[1;32m   1928\u001b[0m         \u001b[0;32mexcept\u001b[0m \u001b[0mException\u001b[0m \u001b[0;32mas\u001b[0m \u001b[0me\u001b[0m\u001b[0;34m:\u001b[0m\u001b[0;34m\u001b[0m\u001b[0;34m\u001b[0m\u001b[0m\n",
      "\u001b[0;32m/usr/local/lib/python3.7/site-packages/httplib2/__init__.py\u001b[0m in \u001b[0;36m_request\u001b[0;34m(self, conn, host, absolute_uri, request_uri, method, body, headers, redirections, cachekey)\u001b[0m\n\u001b[1;32m   1593\u001b[0m \u001b[0;34m\u001b[0m\u001b[0m\n\u001b[1;32m   1594\u001b[0m         (response, content) = self._conn_request(\n\u001b[0;32m-> 1595\u001b[0;31m             \u001b[0mconn\u001b[0m\u001b[0;34m,\u001b[0m \u001b[0mrequest_uri\u001b[0m\u001b[0;34m,\u001b[0m \u001b[0mmethod\u001b[0m\u001b[0;34m,\u001b[0m \u001b[0mbody\u001b[0m\u001b[0;34m,\u001b[0m \u001b[0mheaders\u001b[0m\u001b[0;34m\u001b[0m\u001b[0;34m\u001b[0m\u001b[0m\n\u001b[0m\u001b[1;32m   1596\u001b[0m         )\n\u001b[1;32m   1597\u001b[0m \u001b[0;34m\u001b[0m\u001b[0m\n",
      "\u001b[0;32m/usr/local/lib/python3.7/site-packages/httplib2/__init__.py\u001b[0m in \u001b[0;36m_conn_request\u001b[0;34m(self, conn, request_uri, method, body, headers)\u001b[0m\n\u001b[1;32m   1531\u001b[0m                 \u001b[0;32mpass\u001b[0m\u001b[0;34m\u001b[0m\u001b[0;34m\u001b[0m\u001b[0m\n\u001b[1;32m   1532\u001b[0m             \u001b[0;32mtry\u001b[0m\u001b[0;34m:\u001b[0m\u001b[0;34m\u001b[0m\u001b[0;34m\u001b[0m\u001b[0m\n\u001b[0;32m-> 1533\u001b[0;31m                 \u001b[0mresponse\u001b[0m \u001b[0;34m=\u001b[0m \u001b[0mconn\u001b[0m\u001b[0;34m.\u001b[0m\u001b[0mgetresponse\u001b[0m\u001b[0;34m(\u001b[0m\u001b[0;34m)\u001b[0m\u001b[0;34m\u001b[0m\u001b[0;34m\u001b[0m\u001b[0m\n\u001b[0m\u001b[1;32m   1534\u001b[0m             \u001b[0;32mexcept\u001b[0m \u001b[0;34m(\u001b[0m\u001b[0mhttp\u001b[0m\u001b[0;34m.\u001b[0m\u001b[0mclient\u001b[0m\u001b[0;34m.\u001b[0m\u001b[0mBadStatusLine\u001b[0m\u001b[0;34m,\u001b[0m \u001b[0mhttp\u001b[0m\u001b[0;34m.\u001b[0m\u001b[0mclient\u001b[0m\u001b[0;34m.\u001b[0m\u001b[0mResponseNotReady\u001b[0m\u001b[0;34m)\u001b[0m\u001b[0;34m:\u001b[0m\u001b[0;34m\u001b[0m\u001b[0;34m\u001b[0m\u001b[0m\n\u001b[1;32m   1535\u001b[0m                 \u001b[0;31m# If we get a BadStatusLine on the first try then that means\u001b[0m\u001b[0;34m\u001b[0m\u001b[0;34m\u001b[0m\u001b[0;34m\u001b[0m\u001b[0m\n",
      "\u001b[0;32m/usr/local/Cellar/python/3.7.5/Frameworks/Python.framework/Versions/3.7/lib/python3.7/http/client.py\u001b[0m in \u001b[0;36mgetresponse\u001b[0;34m(self)\u001b[0m\n\u001b[1;32m   1342\u001b[0m         \u001b[0;32mtry\u001b[0m\u001b[0;34m:\u001b[0m\u001b[0;34m\u001b[0m\u001b[0;34m\u001b[0m\u001b[0m\n\u001b[1;32m   1343\u001b[0m             \u001b[0;32mtry\u001b[0m\u001b[0;34m:\u001b[0m\u001b[0;34m\u001b[0m\u001b[0;34m\u001b[0m\u001b[0m\n\u001b[0;32m-> 1344\u001b[0;31m                 \u001b[0mresponse\u001b[0m\u001b[0;34m.\u001b[0m\u001b[0mbegin\u001b[0m\u001b[0;34m(\u001b[0m\u001b[0;34m)\u001b[0m\u001b[0;34m\u001b[0m\u001b[0;34m\u001b[0m\u001b[0m\n\u001b[0m\u001b[1;32m   1345\u001b[0m             \u001b[0;32mexcept\u001b[0m \u001b[0mConnectionError\u001b[0m\u001b[0;34m:\u001b[0m\u001b[0;34m\u001b[0m\u001b[0;34m\u001b[0m\u001b[0m\n\u001b[1;32m   1346\u001b[0m                 \u001b[0mself\u001b[0m\u001b[0;34m.\u001b[0m\u001b[0mclose\u001b[0m\u001b[0;34m(\u001b[0m\u001b[0;34m)\u001b[0m\u001b[0;34m\u001b[0m\u001b[0;34m\u001b[0m\u001b[0m\n",
      "\u001b[0;32m/usr/local/Cellar/python/3.7.5/Frameworks/Python.framework/Versions/3.7/lib/python3.7/http/client.py\u001b[0m in \u001b[0;36mbegin\u001b[0;34m(self)\u001b[0m\n\u001b[1;32m    304\u001b[0m         \u001b[0;31m# read until we get a non-100 response\u001b[0m\u001b[0;34m\u001b[0m\u001b[0;34m\u001b[0m\u001b[0;34m\u001b[0m\u001b[0m\n\u001b[1;32m    305\u001b[0m         \u001b[0;32mwhile\u001b[0m \u001b[0;32mTrue\u001b[0m\u001b[0;34m:\u001b[0m\u001b[0;34m\u001b[0m\u001b[0;34m\u001b[0m\u001b[0m\n\u001b[0;32m--> 306\u001b[0;31m             \u001b[0mversion\u001b[0m\u001b[0;34m,\u001b[0m \u001b[0mstatus\u001b[0m\u001b[0;34m,\u001b[0m \u001b[0mreason\u001b[0m \u001b[0;34m=\u001b[0m \u001b[0mself\u001b[0m\u001b[0;34m.\u001b[0m\u001b[0m_read_status\u001b[0m\u001b[0;34m(\u001b[0m\u001b[0;34m)\u001b[0m\u001b[0;34m\u001b[0m\u001b[0;34m\u001b[0m\u001b[0m\n\u001b[0m\u001b[1;32m    307\u001b[0m             \u001b[0;32mif\u001b[0m \u001b[0mstatus\u001b[0m \u001b[0;34m!=\u001b[0m \u001b[0mCONTINUE\u001b[0m\u001b[0;34m:\u001b[0m\u001b[0;34m\u001b[0m\u001b[0;34m\u001b[0m\u001b[0m\n\u001b[1;32m    308\u001b[0m                 \u001b[0;32mbreak\u001b[0m\u001b[0;34m\u001b[0m\u001b[0;34m\u001b[0m\u001b[0m\n",
      "\u001b[0;32m/usr/local/Cellar/python/3.7.5/Frameworks/Python.framework/Versions/3.7/lib/python3.7/http/client.py\u001b[0m in \u001b[0;36m_read_status\u001b[0;34m(self)\u001b[0m\n\u001b[1;32m    265\u001b[0m \u001b[0;34m\u001b[0m\u001b[0m\n\u001b[1;32m    266\u001b[0m     \u001b[0;32mdef\u001b[0m \u001b[0m_read_status\u001b[0m\u001b[0;34m(\u001b[0m\u001b[0mself\u001b[0m\u001b[0;34m)\u001b[0m\u001b[0;34m:\u001b[0m\u001b[0;34m\u001b[0m\u001b[0;34m\u001b[0m\u001b[0m\n\u001b[0;32m--> 267\u001b[0;31m         \u001b[0mline\u001b[0m \u001b[0;34m=\u001b[0m \u001b[0mstr\u001b[0m\u001b[0;34m(\u001b[0m\u001b[0mself\u001b[0m\u001b[0;34m.\u001b[0m\u001b[0mfp\u001b[0m\u001b[0;34m.\u001b[0m\u001b[0mreadline\u001b[0m\u001b[0;34m(\u001b[0m\u001b[0m_MAXLINE\u001b[0m \u001b[0;34m+\u001b[0m \u001b[0;36m1\u001b[0m\u001b[0;34m)\u001b[0m\u001b[0;34m,\u001b[0m \u001b[0;34m\"iso-8859-1\"\u001b[0m\u001b[0;34m)\u001b[0m\u001b[0;34m\u001b[0m\u001b[0;34m\u001b[0m\u001b[0m\n\u001b[0m\u001b[1;32m    268\u001b[0m         \u001b[0;32mif\u001b[0m \u001b[0mlen\u001b[0m\u001b[0;34m(\u001b[0m\u001b[0mline\u001b[0m\u001b[0;34m)\u001b[0m \u001b[0;34m>\u001b[0m \u001b[0m_MAXLINE\u001b[0m\u001b[0;34m:\u001b[0m\u001b[0;34m\u001b[0m\u001b[0;34m\u001b[0m\u001b[0m\n\u001b[1;32m    269\u001b[0m             \u001b[0;32mraise\u001b[0m \u001b[0mLineTooLong\u001b[0m\u001b[0;34m(\u001b[0m\u001b[0;34m\"status line\"\u001b[0m\u001b[0;34m)\u001b[0m\u001b[0;34m\u001b[0m\u001b[0;34m\u001b[0m\u001b[0m\n",
      "\u001b[0;32m/usr/local/Cellar/python/3.7.5/Frameworks/Python.framework/Versions/3.7/lib/python3.7/socket.py\u001b[0m in \u001b[0;36mreadinto\u001b[0;34m(self, b)\u001b[0m\n\u001b[1;32m    587\u001b[0m         \u001b[0;32mwhile\u001b[0m \u001b[0;32mTrue\u001b[0m\u001b[0;34m:\u001b[0m\u001b[0;34m\u001b[0m\u001b[0;34m\u001b[0m\u001b[0m\n\u001b[1;32m    588\u001b[0m             \u001b[0;32mtry\u001b[0m\u001b[0;34m:\u001b[0m\u001b[0;34m\u001b[0m\u001b[0;34m\u001b[0m\u001b[0m\n\u001b[0;32m--> 589\u001b[0;31m                 \u001b[0;32mreturn\u001b[0m \u001b[0mself\u001b[0m\u001b[0;34m.\u001b[0m\u001b[0m_sock\u001b[0m\u001b[0;34m.\u001b[0m\u001b[0mrecv_into\u001b[0m\u001b[0;34m(\u001b[0m\u001b[0mb\u001b[0m\u001b[0;34m)\u001b[0m\u001b[0;34m\u001b[0m\u001b[0;34m\u001b[0m\u001b[0m\n\u001b[0m\u001b[1;32m    590\u001b[0m             \u001b[0;32mexcept\u001b[0m \u001b[0mtimeout\u001b[0m\u001b[0;34m:\u001b[0m\u001b[0;34m\u001b[0m\u001b[0;34m\u001b[0m\u001b[0m\n\u001b[1;32m    591\u001b[0m                 \u001b[0mself\u001b[0m\u001b[0;34m.\u001b[0m\u001b[0m_timeout_occurred\u001b[0m \u001b[0;34m=\u001b[0m \u001b[0;32mTrue\u001b[0m\u001b[0;34m\u001b[0m\u001b[0;34m\u001b[0m\u001b[0m\n",
      "\u001b[0;32m/usr/local/Cellar/python/3.7.5/Frameworks/Python.framework/Versions/3.7/lib/python3.7/ssl.py\u001b[0m in \u001b[0;36mrecv_into\u001b[0;34m(self, buffer, nbytes, flags)\u001b[0m\n\u001b[1;32m   1069\u001b[0m                   \u001b[0;34m\"non-zero flags not allowed in calls to recv_into() on %s\"\u001b[0m \u001b[0;34m%\u001b[0m\u001b[0;34m\u001b[0m\u001b[0;34m\u001b[0m\u001b[0m\n\u001b[1;32m   1070\u001b[0m                   self.__class__)\n\u001b[0;32m-> 1071\u001b[0;31m             \u001b[0;32mreturn\u001b[0m \u001b[0mself\u001b[0m\u001b[0;34m.\u001b[0m\u001b[0mread\u001b[0m\u001b[0;34m(\u001b[0m\u001b[0mnbytes\u001b[0m\u001b[0;34m,\u001b[0m \u001b[0mbuffer\u001b[0m\u001b[0;34m)\u001b[0m\u001b[0;34m\u001b[0m\u001b[0;34m\u001b[0m\u001b[0m\n\u001b[0m\u001b[1;32m   1072\u001b[0m         \u001b[0;32melse\u001b[0m\u001b[0;34m:\u001b[0m\u001b[0;34m\u001b[0m\u001b[0;34m\u001b[0m\u001b[0m\n\u001b[1;32m   1073\u001b[0m             \u001b[0;32mreturn\u001b[0m \u001b[0msuper\u001b[0m\u001b[0;34m(\u001b[0m\u001b[0;34m)\u001b[0m\u001b[0;34m.\u001b[0m\u001b[0mrecv_into\u001b[0m\u001b[0;34m(\u001b[0m\u001b[0mbuffer\u001b[0m\u001b[0;34m,\u001b[0m \u001b[0mnbytes\u001b[0m\u001b[0;34m,\u001b[0m \u001b[0mflags\u001b[0m\u001b[0;34m)\u001b[0m\u001b[0;34m\u001b[0m\u001b[0;34m\u001b[0m\u001b[0m\n",
      "\u001b[0;32m/usr/local/Cellar/python/3.7.5/Frameworks/Python.framework/Versions/3.7/lib/python3.7/ssl.py\u001b[0m in \u001b[0;36mread\u001b[0;34m(self, len, buffer)\u001b[0m\n\u001b[1;32m    927\u001b[0m         \u001b[0;32mtry\u001b[0m\u001b[0;34m:\u001b[0m\u001b[0;34m\u001b[0m\u001b[0;34m\u001b[0m\u001b[0m\n\u001b[1;32m    928\u001b[0m             \u001b[0;32mif\u001b[0m \u001b[0mbuffer\u001b[0m \u001b[0;32mis\u001b[0m \u001b[0;32mnot\u001b[0m \u001b[0;32mNone\u001b[0m\u001b[0;34m:\u001b[0m\u001b[0;34m\u001b[0m\u001b[0;34m\u001b[0m\u001b[0m\n\u001b[0;32m--> 929\u001b[0;31m                 \u001b[0;32mreturn\u001b[0m \u001b[0mself\u001b[0m\u001b[0;34m.\u001b[0m\u001b[0m_sslobj\u001b[0m\u001b[0;34m.\u001b[0m\u001b[0mread\u001b[0m\u001b[0;34m(\u001b[0m\u001b[0mlen\u001b[0m\u001b[0;34m,\u001b[0m \u001b[0mbuffer\u001b[0m\u001b[0;34m)\u001b[0m\u001b[0;34m\u001b[0m\u001b[0;34m\u001b[0m\u001b[0m\n\u001b[0m\u001b[1;32m    930\u001b[0m             \u001b[0;32melse\u001b[0m\u001b[0;34m:\u001b[0m\u001b[0;34m\u001b[0m\u001b[0;34m\u001b[0m\u001b[0m\n\u001b[1;32m    931\u001b[0m                 \u001b[0;32mreturn\u001b[0m \u001b[0mself\u001b[0m\u001b[0;34m.\u001b[0m\u001b[0m_sslobj\u001b[0m\u001b[0;34m.\u001b[0m\u001b[0mread\u001b[0m\u001b[0;34m(\u001b[0m\u001b[0mlen\u001b[0m\u001b[0;34m)\u001b[0m\u001b[0;34m\u001b[0m\u001b[0;34m\u001b[0m\u001b[0m\n",
      "\u001b[0;31mKeyboardInterrupt\u001b[0m: "
     ]
    },
    {
     "data": {
      "image/png": "[encoded data removed]",
      "text/plain": [
       "<Figure size 432x288 with 1 Axes>"
      ]
     },
     "metadata": {
      "needs_background": "light"
     },
     "output_type": "display_data"
    }
   ],
   "source": [
    "for lab in H:\n",
    "    x = evaluate(lab, H[lab])\n",
    "    plt.hist(x, alpha=.5)\n",
    "plt.legend(H.keys())"
   ]
  },
  {
   "cell_type": "code",
   "execution_count": null,
   "metadata": {},
   "outputs": [],
   "source": [
    "x = evaluate('Job False Negative', H['Job Applications'])\n",
    "plt.hist(x)"
   ]
  },
  {
   "cell_type": "markdown",
   "metadata": {},
   "source": [
    "### Time to sort"
   ]
  },
  {
   "cell_type": "code",
   "execution_count": 12,
   "metadata": {},
   "outputs": [
    {
     "data": {
      "text/plain": [
       "4711"
      ]
     },
     "execution_count": 12,
     "metadata": {},
     "output_type": "execute_result"
    }
   ],
   "source": [
    "inbox = G.labels.match(['INBOX'])\n",
    "len(inbox)"
   ]
  },
  {
   "cell_type": "code",
   "execution_count": 14,
   "metadata": {},
   "outputs": [],
   "source": [
    "del H['Piazza']"
   ]
  },
  {
   "cell_type": "code",
   "execution_count": 15,
   "metadata": {
    "scrolled": true
   },
   "outputs": [
    {
     "name": "stdout",
     "output_type": "stream",
     "text": [
      "*Job Applications,0.2538,            TIAA eDelivery notification         @f\n",
      "MARC Hi Undergrads of the MARC,MARC will be starting Fi\n",
      "*Job Applications,0.2636, To see the full content of your email in a browse\n",
      "*Job Applications,0.2608,November 2019 NewsletterHeroku Data Services with \n",
      "*Job Applications,0.2901,Hello students!You asked for more free tools and t\n",
      "*Job Applications,0.2775,Your application has been submitted. Good luck!If \n",
      "*Job Applications,0.2748,Your application has been submitted. Good luck!If \n",
      "*Job Applications,0.2762,Your application has been submitted. Good luck!If \n",
      "*Job Applications,0.2650,You have received the alternative text version of \n",
      "*Job Applications,0.3152,                   #outlook a     .ReadMsgBody    \n",
      "*Job Applications,0.2748,Plan, Deploy, and Optimize with ConfidenceYour AWS\n",
      "*Job Applications,0.3152,                   #outlook a     .ReadMsgBody    \n",
      "*Job Applications,0.2650,News from Full Cycle Bikes & The Tune UpEmail not \n",
      "*Job Applications,0.2538,News from Full Cycle Bikes & The Tune UpEmail not \n",
      "*Job Applications,0.2580,Order together and eat together!View this email in\n",
      "*Job Applications,0.2580,You relax, while we do all the work.View this emai\n",
      "*Job Applications,0.3194,                    #outlook a     .ReadMsgBody   \n",
      "*Job Applications,0.2566,Explore all the restaurants Boulder has to offer!V\n",
      "*Job Applications,0.3096,With your help, we reached our goalView this email\n",
      "*Job Applications,0.2538,Where food is delicious and convenient!View this e\n",
      "*Job Applications,0.3082,                                                  \n",
      "0.3016\r"
     ]
    },
    {
     "ename": "KeyboardInterrupt",
     "evalue": "",
     "output_type": "error",
     "traceback": [
      "\u001b[0;31m---------------------------------------------------------------------------\u001b[0m",
      "\u001b[0;31mKeyboardInterrupt\u001b[0m                         Traceback (most recent call last)",
      "\u001b[0;32m<ipython-input-15-9455115bc126>\u001b[0m in \u001b[0;36m<module>\u001b[0;34m\u001b[0m\n\u001b[1;32m      2\u001b[0m \u001b[0;32mfor\u001b[0m \u001b[0mi\u001b[0m\u001b[0;34m,\u001b[0m\u001b[0mmsg\u001b[0m \u001b[0;32min\u001b[0m \u001b[0menumerate\u001b[0m\u001b[0;34m(\u001b[0m\u001b[0minbox\u001b[0m\u001b[0;34m)\u001b[0m\u001b[0;34m:\u001b[0m\u001b[0;34m\u001b[0m\u001b[0;34m\u001b[0m\u001b[0m\n\u001b[1;32m      3\u001b[0m     \u001b[0mprint\u001b[0m\u001b[0;34m(\u001b[0m\u001b[0;34mf'{i/5537:.4f}'\u001b[0m\u001b[0;34m,\u001b[0m \u001b[0mend\u001b[0m\u001b[0;34m=\u001b[0m\u001b[0;34m'\\r'\u001b[0m\u001b[0;34m)\u001b[0m\u001b[0;34m\u001b[0m\u001b[0;34m\u001b[0m\u001b[0m\n\u001b[0;32m----> 4\u001b[0;31m     \u001b[0mcontent\u001b[0m \u001b[0;34m=\u001b[0m \u001b[0mG\u001b[0m\u001b[0;34m.\u001b[0m\u001b[0mmessages\u001b[0m\u001b[0;34m.\u001b[0m\u001b[0mparseMessage\u001b[0m\u001b[0;34m(\u001b[0m\u001b[0mmsg\u001b[0m\u001b[0;34m)\u001b[0m\u001b[0;34m\u001b[0m\u001b[0;34m\u001b[0m\u001b[0m\n\u001b[0m\u001b[1;32m      5\u001b[0m     \u001b[0mchangedLabel\u001b[0m \u001b[0;34m=\u001b[0m \u001b[0;32mFalse\u001b[0m\u001b[0;34m\u001b[0m\u001b[0;34m\u001b[0m\u001b[0m\n\u001b[1;32m      6\u001b[0m     \u001b[0mML\u001b[0m\u001b[0;34m,\u001b[0m \u001b[0mMS\u001b[0m \u001b[0;34m=\u001b[0m \u001b[0;32mNone\u001b[0m\u001b[0;34m,\u001b[0m \u001b[0;36m0\u001b[0m\u001b[0;34m\u001b[0m\u001b[0;34m\u001b[0m\u001b[0m\n",
      "\u001b[0;32m~/Classes Fall 19/Advanced Data Science/project/messages.py\u001b[0m in \u001b[0;36mparseMessage\u001b[0;34m(self, message)\u001b[0m\n\u001b[1;32m     68\u001b[0m \u001b[0;34m\u001b[0m\u001b[0m\n\u001b[1;32m     69\u001b[0m     \u001b[0;32mdef\u001b[0m \u001b[0mparseMessage\u001b[0m\u001b[0;34m(\u001b[0m\u001b[0mself\u001b[0m\u001b[0;34m,\u001b[0m \u001b[0mmessage\u001b[0m\u001b[0;34m=\u001b[0m\u001b[0;32mNone\u001b[0m\u001b[0;34m)\u001b[0m\u001b[0;34m:\u001b[0m\u001b[0;34m\u001b[0m\u001b[0;34m\u001b[0m\u001b[0m\n\u001b[0;32m---> 70\u001b[0;31m         \u001b[0;32mreturn\u001b[0m \u001b[0mfilter\u001b[0m\u001b[0;34m(\u001b[0m\u001b[0mself\u001b[0m\u001b[0;34m.\u001b[0m\u001b[0mreadMessage\u001b[0m\u001b[0;34m(\u001b[0m\u001b[0mmessage\u001b[0m\u001b[0;34m)\u001b[0m\u001b[0;34m)\u001b[0m\u001b[0;34m\u001b[0m\u001b[0;34m\u001b[0m\u001b[0m\n\u001b[0m\u001b[1;32m     71\u001b[0m \u001b[0;34m\u001b[0m\u001b[0m\n\u001b[1;32m     72\u001b[0m     \u001b[0;32mdef\u001b[0m \u001b[0mpopMessage\u001b[0m\u001b[0;34m(\u001b[0m\u001b[0mself\u001b[0m\u001b[0;34m)\u001b[0m\u001b[0;34m:\u001b[0m\u001b[0;34m\u001b[0m\u001b[0;34m\u001b[0m\u001b[0m\n",
      "\u001b[0;32m~/Classes Fall 19/Advanced Data Science/project/messages.py\u001b[0m in \u001b[0;36mreadMessage\u001b[0;34m(self, message)\u001b[0m\n\u001b[1;32m     46\u001b[0m         \u001b[0;32mif\u001b[0m \u001b[0;32mnot\u001b[0m \u001b[0mmessage\u001b[0m\u001b[0;34m:\u001b[0m\u001b[0;34m\u001b[0m\u001b[0;34m\u001b[0m\u001b[0m\n\u001b[1;32m     47\u001b[0m             \u001b[0mmessage\u001b[0m \u001b[0;34m=\u001b[0m \u001b[0mself\u001b[0m\u001b[0;34m.\u001b[0m\u001b[0mcurrentMessage\u001b[0m\u001b[0;34m(\u001b[0m\u001b[0;34m)\u001b[0m\u001b[0;34m\u001b[0m\u001b[0;34m\u001b[0m\u001b[0m\n\u001b[0;32m---> 48\u001b[0;31m         \u001b[0mmessage\u001b[0m \u001b[0;34m=\u001b[0m \u001b[0mself\u001b[0m\u001b[0;34m.\u001b[0m\u001b[0mservice\u001b[0m\u001b[0;34m.\u001b[0m\u001b[0musers\u001b[0m\u001b[0;34m(\u001b[0m\u001b[0;34m)\u001b[0m\u001b[0;34m.\u001b[0m\u001b[0mmessages\u001b[0m\u001b[0;34m(\u001b[0m\u001b[0;34m)\u001b[0m\u001b[0;34m.\u001b[0m\u001b[0mget\u001b[0m\u001b[0;34m(\u001b[0m\u001b[0muserId\u001b[0m\u001b[0;34m=\u001b[0m\u001b[0;34m'me'\u001b[0m\u001b[0;34m,\u001b[0m \u001b[0mid\u001b[0m\u001b[0;34m=\u001b[0m\u001b[0mmessage\u001b[0m\u001b[0;34m[\u001b[0m\u001b[0;34m'id'\u001b[0m\u001b[0;34m]\u001b[0m\u001b[0;34m)\u001b[0m\u001b[0;34m.\u001b[0m\u001b[0mexecute\u001b[0m\u001b[0;34m(\u001b[0m\u001b[0;34m)\u001b[0m\u001b[0;34m\u001b[0m\u001b[0;34m\u001b[0m\u001b[0m\n\u001b[0m\u001b[1;32m     49\u001b[0m         \u001b[0;32mif\u001b[0m \u001b[0;34m'parts'\u001b[0m \u001b[0;32min\u001b[0m \u001b[0mmessage\u001b[0m\u001b[0;34m[\u001b[0m\u001b[0;34m'payload'\u001b[0m\u001b[0;34m]\u001b[0m\u001b[0;34m:\u001b[0m\u001b[0;34m\u001b[0m\u001b[0;34m\u001b[0m\u001b[0m\n\u001b[1;32m     50\u001b[0m             \u001b[0mparts\u001b[0m \u001b[0;34m=\u001b[0m \u001b[0mmessage\u001b[0m\u001b[0;34m[\u001b[0m\u001b[0;34m'payload'\u001b[0m\u001b[0;34m]\u001b[0m\u001b[0;34m[\u001b[0m\u001b[0;34m'parts'\u001b[0m\u001b[0;34m]\u001b[0m\u001b[0;34m\u001b[0m\u001b[0;34m\u001b[0m\u001b[0m\n",
      "\u001b[0;32m/usr/local/lib/python3.7/site-packages/googleapiclient/_helpers.py\u001b[0m in \u001b[0;36mpositional_wrapper\u001b[0;34m(*args, **kwargs)\u001b[0m\n\u001b[1;32m    128\u001b[0m                 \u001b[0;32melif\u001b[0m \u001b[0mpositional_parameters_enforcement\u001b[0m \u001b[0;34m==\u001b[0m \u001b[0mPOSITIONAL_WARNING\u001b[0m\u001b[0;34m:\u001b[0m\u001b[0;34m\u001b[0m\u001b[0;34m\u001b[0m\u001b[0m\n\u001b[1;32m    129\u001b[0m                     \u001b[0mlogger\u001b[0m\u001b[0;34m.\u001b[0m\u001b[0mwarning\u001b[0m\u001b[0;34m(\u001b[0m\u001b[0mmessage\u001b[0m\u001b[0;34m)\u001b[0m\u001b[0;34m\u001b[0m\u001b[0;34m\u001b[0m\u001b[0m\n\u001b[0;32m--> 130\u001b[0;31m             \u001b[0;32mreturn\u001b[0m \u001b[0mwrapped\u001b[0m\u001b[0;34m(\u001b[0m\u001b[0;34m*\u001b[0m\u001b[0margs\u001b[0m\u001b[0;34m,\u001b[0m \u001b[0;34m**\u001b[0m\u001b[0mkwargs\u001b[0m\u001b[0;34m)\u001b[0m\u001b[0;34m\u001b[0m\u001b[0;34m\u001b[0m\u001b[0m\n\u001b[0m\u001b[1;32m    131\u001b[0m         \u001b[0;32mreturn\u001b[0m \u001b[0mpositional_wrapper\u001b[0m\u001b[0;34m\u001b[0m\u001b[0;34m\u001b[0m\u001b[0m\n\u001b[1;32m    132\u001b[0m \u001b[0;34m\u001b[0m\u001b[0m\n",
      "\u001b[0;32m/usr/local/lib/python3.7/site-packages/googleapiclient/http.py\u001b[0m in \u001b[0;36mexecute\u001b[0;34m(self, http, num_retries)\u001b[0m\n\u001b[1;32m    849\u001b[0m     resp, content = _retry_request(\n\u001b[1;32m    850\u001b[0m           \u001b[0mhttp\u001b[0m\u001b[0;34m,\u001b[0m \u001b[0mnum_retries\u001b[0m\u001b[0;34m,\u001b[0m \u001b[0;34m'request'\u001b[0m\u001b[0;34m,\u001b[0m \u001b[0mself\u001b[0m\u001b[0;34m.\u001b[0m\u001b[0m_sleep\u001b[0m\u001b[0;34m,\u001b[0m \u001b[0mself\u001b[0m\u001b[0;34m.\u001b[0m\u001b[0m_rand\u001b[0m\u001b[0;34m,\u001b[0m \u001b[0mstr\u001b[0m\u001b[0;34m(\u001b[0m\u001b[0mself\u001b[0m\u001b[0;34m.\u001b[0m\u001b[0muri\u001b[0m\u001b[0;34m)\u001b[0m\u001b[0;34m,\u001b[0m\u001b[0;34m\u001b[0m\u001b[0;34m\u001b[0m\u001b[0m\n\u001b[0;32m--> 851\u001b[0;31m           method=str(self.method), body=self.body, headers=self.headers)\n\u001b[0m\u001b[1;32m    852\u001b[0m \u001b[0;34m\u001b[0m\u001b[0m\n\u001b[1;32m    853\u001b[0m     \u001b[0;32mfor\u001b[0m \u001b[0mcallback\u001b[0m \u001b[0;32min\u001b[0m \u001b[0mself\u001b[0m\u001b[0;34m.\u001b[0m\u001b[0mresponse_callbacks\u001b[0m\u001b[0;34m:\u001b[0m\u001b[0;34m\u001b[0m\u001b[0;34m\u001b[0m\u001b[0m\n",
      "\u001b[0;32m/usr/local/lib/python3.7/site-packages/googleapiclient/http.py\u001b[0m in \u001b[0;36m_retry_request\u001b[0;34m(http, num_retries, req_type, sleep, rand, uri, method, *args, **kwargs)\u001b[0m\n\u001b[1;32m    163\u001b[0m     \u001b[0;32mtry\u001b[0m\u001b[0;34m:\u001b[0m\u001b[0;34m\u001b[0m\u001b[0;34m\u001b[0m\u001b[0m\n\u001b[1;32m    164\u001b[0m       \u001b[0mexception\u001b[0m \u001b[0;34m=\u001b[0m \u001b[0;32mNone\u001b[0m\u001b[0;34m\u001b[0m\u001b[0;34m\u001b[0m\u001b[0m\n\u001b[0;32m--> 165\u001b[0;31m       \u001b[0mresp\u001b[0m\u001b[0;34m,\u001b[0m \u001b[0mcontent\u001b[0m \u001b[0;34m=\u001b[0m \u001b[0mhttp\u001b[0m\u001b[0;34m.\u001b[0m\u001b[0mrequest\u001b[0m\u001b[0;34m(\u001b[0m\u001b[0muri\u001b[0m\u001b[0;34m,\u001b[0m \u001b[0mmethod\u001b[0m\u001b[0;34m,\u001b[0m \u001b[0;34m*\u001b[0m\u001b[0margs\u001b[0m\u001b[0;34m,\u001b[0m \u001b[0;34m**\u001b[0m\u001b[0mkwargs\u001b[0m\u001b[0;34m)\u001b[0m\u001b[0;34m\u001b[0m\u001b[0;34m\u001b[0m\u001b[0m\n\u001b[0m\u001b[1;32m    166\u001b[0m     \u001b[0;31m# Retry on SSL errors and socket timeout errors.\u001b[0m\u001b[0;34m\u001b[0m\u001b[0;34m\u001b[0m\u001b[0;34m\u001b[0m\u001b[0m\n\u001b[1;32m    167\u001b[0m     \u001b[0;32mexcept\u001b[0m \u001b[0m_ssl_SSLError\u001b[0m \u001b[0;32mas\u001b[0m \u001b[0mssl_error\u001b[0m\u001b[0;34m:\u001b[0m\u001b[0;34m\u001b[0m\u001b[0;34m\u001b[0m\u001b[0m\n",
      "\u001b[0;32m/usr/local/lib/python3.7/site-packages/google_auth_httplib2.py\u001b[0m in \u001b[0;36mrequest\u001b[0;34m(self, uri, method, body, headers, **kwargs)\u001b[0m\n\u001b[1;32m    196\u001b[0m         \u001b[0;31m# Make the request.\u001b[0m\u001b[0;34m\u001b[0m\u001b[0;34m\u001b[0m\u001b[0;34m\u001b[0m\u001b[0m\n\u001b[1;32m    197\u001b[0m         response, content = self.http.request(\n\u001b[0;32m--> 198\u001b[0;31m             uri, method, body=body, headers=request_headers, **kwargs)\n\u001b[0m\u001b[1;32m    199\u001b[0m \u001b[0;34m\u001b[0m\u001b[0m\n\u001b[1;32m    200\u001b[0m         \u001b[0;31m# If the response indicated that the credentials needed to be\u001b[0m\u001b[0;34m\u001b[0m\u001b[0;34m\u001b[0m\u001b[0;34m\u001b[0m\u001b[0m\n",
      "\u001b[0;32m/usr/local/lib/python3.7/site-packages/httplib2/__init__.py\u001b[0m in \u001b[0;36mrequest\u001b[0;34m(self, uri, method, body, headers, redirections, connection_type)\u001b[0m\n\u001b[1;32m   1924\u001b[0m                         \u001b[0mheaders\u001b[0m\u001b[0;34m,\u001b[0m\u001b[0;34m\u001b[0m\u001b[0;34m\u001b[0m\u001b[0m\n\u001b[1;32m   1925\u001b[0m                         \u001b[0mredirections\u001b[0m\u001b[0;34m,\u001b[0m\u001b[0;34m\u001b[0m\u001b[0;34m\u001b[0m\u001b[0m\n\u001b[0;32m-> 1926\u001b[0;31m                         \u001b[0mcachekey\u001b[0m\u001b[0;34m,\u001b[0m\u001b[0;34m\u001b[0m\u001b[0;34m\u001b[0m\u001b[0m\n\u001b[0m\u001b[1;32m   1927\u001b[0m                     )\n\u001b[1;32m   1928\u001b[0m         \u001b[0;32mexcept\u001b[0m \u001b[0mException\u001b[0m \u001b[0;32mas\u001b[0m \u001b[0me\u001b[0m\u001b[0;34m:\u001b[0m\u001b[0;34m\u001b[0m\u001b[0;34m\u001b[0m\u001b[0m\n",
      "\u001b[0;32m/usr/local/lib/python3.7/site-packages/httplib2/__init__.py\u001b[0m in \u001b[0;36m_request\u001b[0;34m(self, conn, host, absolute_uri, request_uri, method, body, headers, redirections, cachekey)\u001b[0m\n\u001b[1;32m   1593\u001b[0m \u001b[0;34m\u001b[0m\u001b[0m\n\u001b[1;32m   1594\u001b[0m         (response, content) = self._conn_request(\n\u001b[0;32m-> 1595\u001b[0;31m             \u001b[0mconn\u001b[0m\u001b[0;34m,\u001b[0m \u001b[0mrequest_uri\u001b[0m\u001b[0;34m,\u001b[0m \u001b[0mmethod\u001b[0m\u001b[0;34m,\u001b[0m \u001b[0mbody\u001b[0m\u001b[0;34m,\u001b[0m \u001b[0mheaders\u001b[0m\u001b[0;34m\u001b[0m\u001b[0;34m\u001b[0m\u001b[0m\n\u001b[0m\u001b[1;32m   1596\u001b[0m         )\n\u001b[1;32m   1597\u001b[0m \u001b[0;34m\u001b[0m\u001b[0m\n",
      "\u001b[0;32m/usr/local/lib/python3.7/site-packages/httplib2/__init__.py\u001b[0m in \u001b[0;36m_conn_request\u001b[0;34m(self, conn, request_uri, method, body, headers)\u001b[0m\n\u001b[1;32m   1531\u001b[0m                 \u001b[0;32mpass\u001b[0m\u001b[0;34m\u001b[0m\u001b[0;34m\u001b[0m\u001b[0m\n\u001b[1;32m   1532\u001b[0m             \u001b[0;32mtry\u001b[0m\u001b[0;34m:\u001b[0m\u001b[0;34m\u001b[0m\u001b[0;34m\u001b[0m\u001b[0m\n\u001b[0;32m-> 1533\u001b[0;31m                 \u001b[0mresponse\u001b[0m \u001b[0;34m=\u001b[0m \u001b[0mconn\u001b[0m\u001b[0;34m.\u001b[0m\u001b[0mgetresponse\u001b[0m\u001b[0;34m(\u001b[0m\u001b[0;34m)\u001b[0m\u001b[0;34m\u001b[0m\u001b[0;34m\u001b[0m\u001b[0m\n\u001b[0m\u001b[1;32m   1534\u001b[0m             \u001b[0;32mexcept\u001b[0m \u001b[0;34m(\u001b[0m\u001b[0mhttp\u001b[0m\u001b[0;34m.\u001b[0m\u001b[0mclient\u001b[0m\u001b[0;34m.\u001b[0m\u001b[0mBadStatusLine\u001b[0m\u001b[0;34m,\u001b[0m \u001b[0mhttp\u001b[0m\u001b[0;34m.\u001b[0m\u001b[0mclient\u001b[0m\u001b[0;34m.\u001b[0m\u001b[0mResponseNotReady\u001b[0m\u001b[0;34m)\u001b[0m\u001b[0;34m:\u001b[0m\u001b[0;34m\u001b[0m\u001b[0;34m\u001b[0m\u001b[0m\n\u001b[1;32m   1535\u001b[0m                 \u001b[0;31m# If we get a BadStatusLine on the first try then that means\u001b[0m\u001b[0;34m\u001b[0m\u001b[0;34m\u001b[0m\u001b[0;34m\u001b[0m\u001b[0m\n",
      "\u001b[0;32m/usr/local/Cellar/python/3.7.5/Frameworks/Python.framework/Versions/3.7/lib/python3.7/http/client.py\u001b[0m in \u001b[0;36mgetresponse\u001b[0;34m(self)\u001b[0m\n\u001b[1;32m   1342\u001b[0m         \u001b[0;32mtry\u001b[0m\u001b[0;34m:\u001b[0m\u001b[0;34m\u001b[0m\u001b[0;34m\u001b[0m\u001b[0m\n\u001b[1;32m   1343\u001b[0m             \u001b[0;32mtry\u001b[0m\u001b[0;34m:\u001b[0m\u001b[0;34m\u001b[0m\u001b[0;34m\u001b[0m\u001b[0m\n\u001b[0;32m-> 1344\u001b[0;31m                 \u001b[0mresponse\u001b[0m\u001b[0;34m.\u001b[0m\u001b[0mbegin\u001b[0m\u001b[0;34m(\u001b[0m\u001b[0;34m)\u001b[0m\u001b[0;34m\u001b[0m\u001b[0;34m\u001b[0m\u001b[0m\n\u001b[0m\u001b[1;32m   1345\u001b[0m             \u001b[0;32mexcept\u001b[0m \u001b[0mConnectionError\u001b[0m\u001b[0;34m:\u001b[0m\u001b[0;34m\u001b[0m\u001b[0;34m\u001b[0m\u001b[0m\n\u001b[1;32m   1346\u001b[0m                 \u001b[0mself\u001b[0m\u001b[0;34m.\u001b[0m\u001b[0mclose\u001b[0m\u001b[0;34m(\u001b[0m\u001b[0;34m)\u001b[0m\u001b[0;34m\u001b[0m\u001b[0;34m\u001b[0m\u001b[0m\n",
      "\u001b[0;32m/usr/local/Cellar/python/3.7.5/Frameworks/Python.framework/Versions/3.7/lib/python3.7/http/client.py\u001b[0m in \u001b[0;36mbegin\u001b[0;34m(self)\u001b[0m\n\u001b[1;32m    304\u001b[0m         \u001b[0;31m# read until we get a non-100 response\u001b[0m\u001b[0;34m\u001b[0m\u001b[0;34m\u001b[0m\u001b[0;34m\u001b[0m\u001b[0m\n\u001b[1;32m    305\u001b[0m         \u001b[0;32mwhile\u001b[0m \u001b[0;32mTrue\u001b[0m\u001b[0;34m:\u001b[0m\u001b[0;34m\u001b[0m\u001b[0;34m\u001b[0m\u001b[0m\n\u001b[0;32m--> 306\u001b[0;31m             \u001b[0mversion\u001b[0m\u001b[0;34m,\u001b[0m \u001b[0mstatus\u001b[0m\u001b[0;34m,\u001b[0m \u001b[0mreason\u001b[0m \u001b[0;34m=\u001b[0m \u001b[0mself\u001b[0m\u001b[0;34m.\u001b[0m\u001b[0m_read_status\u001b[0m\u001b[0;34m(\u001b[0m\u001b[0;34m)\u001b[0m\u001b[0;34m\u001b[0m\u001b[0;34m\u001b[0m\u001b[0m\n\u001b[0m\u001b[1;32m    307\u001b[0m             \u001b[0;32mif\u001b[0m \u001b[0mstatus\u001b[0m \u001b[0;34m!=\u001b[0m \u001b[0mCONTINUE\u001b[0m\u001b[0;34m:\u001b[0m\u001b[0;34m\u001b[0m\u001b[0;34m\u001b[0m\u001b[0m\n\u001b[1;32m    308\u001b[0m                 \u001b[0;32mbreak\u001b[0m\u001b[0;34m\u001b[0m\u001b[0;34m\u001b[0m\u001b[0m\n",
      "\u001b[0;32m/usr/local/Cellar/python/3.7.5/Frameworks/Python.framework/Versions/3.7/lib/python3.7/http/client.py\u001b[0m in \u001b[0;36m_read_status\u001b[0;34m(self)\u001b[0m\n\u001b[1;32m    265\u001b[0m \u001b[0;34m\u001b[0m\u001b[0m\n\u001b[1;32m    266\u001b[0m     \u001b[0;32mdef\u001b[0m \u001b[0m_read_status\u001b[0m\u001b[0;34m(\u001b[0m\u001b[0mself\u001b[0m\u001b[0;34m)\u001b[0m\u001b[0;34m:\u001b[0m\u001b[0;34m\u001b[0m\u001b[0;34m\u001b[0m\u001b[0m\n\u001b[0;32m--> 267\u001b[0;31m         \u001b[0mline\u001b[0m \u001b[0;34m=\u001b[0m \u001b[0mstr\u001b[0m\u001b[0;34m(\u001b[0m\u001b[0mself\u001b[0m\u001b[0;34m.\u001b[0m\u001b[0mfp\u001b[0m\u001b[0;34m.\u001b[0m\u001b[0mreadline\u001b[0m\u001b[0;34m(\u001b[0m\u001b[0m_MAXLINE\u001b[0m \u001b[0;34m+\u001b[0m \u001b[0;36m1\u001b[0m\u001b[0;34m)\u001b[0m\u001b[0;34m,\u001b[0m \u001b[0;34m\"iso-8859-1\"\u001b[0m\u001b[0;34m)\u001b[0m\u001b[0;34m\u001b[0m\u001b[0;34m\u001b[0m\u001b[0m\n\u001b[0m\u001b[1;32m    268\u001b[0m         \u001b[0;32mif\u001b[0m \u001b[0mlen\u001b[0m\u001b[0;34m(\u001b[0m\u001b[0mline\u001b[0m\u001b[0;34m)\u001b[0m \u001b[0;34m>\u001b[0m \u001b[0m_MAXLINE\u001b[0m\u001b[0;34m:\u001b[0m\u001b[0;34m\u001b[0m\u001b[0;34m\u001b[0m\u001b[0m\n\u001b[1;32m    269\u001b[0m             \u001b[0;32mraise\u001b[0m \u001b[0mLineTooLong\u001b[0m\u001b[0;34m(\u001b[0m\u001b[0;34m\"status line\"\u001b[0m\u001b[0;34m)\u001b[0m\u001b[0;34m\u001b[0m\u001b[0;34m\u001b[0m\u001b[0m\n",
      "\u001b[0;32m/usr/local/Cellar/python/3.7.5/Frameworks/Python.framework/Versions/3.7/lib/python3.7/socket.py\u001b[0m in \u001b[0;36mreadinto\u001b[0;34m(self, b)\u001b[0m\n\u001b[1;32m    587\u001b[0m         \u001b[0;32mwhile\u001b[0m \u001b[0;32mTrue\u001b[0m\u001b[0;34m:\u001b[0m\u001b[0;34m\u001b[0m\u001b[0;34m\u001b[0m\u001b[0m\n\u001b[1;32m    588\u001b[0m             \u001b[0;32mtry\u001b[0m\u001b[0;34m:\u001b[0m\u001b[0;34m\u001b[0m\u001b[0;34m\u001b[0m\u001b[0m\n\u001b[0;32m--> 589\u001b[0;31m                 \u001b[0;32mreturn\u001b[0m \u001b[0mself\u001b[0m\u001b[0;34m.\u001b[0m\u001b[0m_sock\u001b[0m\u001b[0;34m.\u001b[0m\u001b[0mrecv_into\u001b[0m\u001b[0;34m(\u001b[0m\u001b[0mb\u001b[0m\u001b[0;34m)\u001b[0m\u001b[0;34m\u001b[0m\u001b[0;34m\u001b[0m\u001b[0m\n\u001b[0m\u001b[1;32m    590\u001b[0m             \u001b[0;32mexcept\u001b[0m \u001b[0mtimeout\u001b[0m\u001b[0;34m:\u001b[0m\u001b[0;34m\u001b[0m\u001b[0;34m\u001b[0m\u001b[0m\n\u001b[1;32m    591\u001b[0m                 \u001b[0mself\u001b[0m\u001b[0;34m.\u001b[0m\u001b[0m_timeout_occurred\u001b[0m \u001b[0;34m=\u001b[0m \u001b[0;32mTrue\u001b[0m\u001b[0;34m\u001b[0m\u001b[0;34m\u001b[0m\u001b[0m\n",
      "\u001b[0;32m/usr/local/Cellar/python/3.7.5/Frameworks/Python.framework/Versions/3.7/lib/python3.7/ssl.py\u001b[0m in \u001b[0;36mrecv_into\u001b[0;34m(self, buffer, nbytes, flags)\u001b[0m\n\u001b[1;32m   1069\u001b[0m                   \u001b[0;34m\"non-zero flags not allowed in calls to recv_into() on %s\"\u001b[0m \u001b[0;34m%\u001b[0m\u001b[0;34m\u001b[0m\u001b[0;34m\u001b[0m\u001b[0m\n\u001b[1;32m   1070\u001b[0m                   self.__class__)\n\u001b[0;32m-> 1071\u001b[0;31m             \u001b[0;32mreturn\u001b[0m \u001b[0mself\u001b[0m\u001b[0;34m.\u001b[0m\u001b[0mread\u001b[0m\u001b[0;34m(\u001b[0m\u001b[0mnbytes\u001b[0m\u001b[0;34m,\u001b[0m \u001b[0mbuffer\u001b[0m\u001b[0;34m)\u001b[0m\u001b[0;34m\u001b[0m\u001b[0;34m\u001b[0m\u001b[0m\n\u001b[0m\u001b[1;32m   1072\u001b[0m         \u001b[0;32melse\u001b[0m\u001b[0;34m:\u001b[0m\u001b[0;34m\u001b[0m\u001b[0;34m\u001b[0m\u001b[0m\n\u001b[1;32m   1073\u001b[0m             \u001b[0;32mreturn\u001b[0m \u001b[0msuper\u001b[0m\u001b[0;34m(\u001b[0m\u001b[0;34m)\u001b[0m\u001b[0;34m.\u001b[0m\u001b[0mrecv_into\u001b[0m\u001b[0;34m(\u001b[0m\u001b[0mbuffer\u001b[0m\u001b[0;34m,\u001b[0m \u001b[0mnbytes\u001b[0m\u001b[0;34m,\u001b[0m \u001b[0mflags\u001b[0m\u001b[0;34m)\u001b[0m\u001b[0;34m\u001b[0m\u001b[0;34m\u001b[0m\u001b[0m\n",
      "\u001b[0;32m/usr/local/Cellar/python/3.7.5/Frameworks/Python.framework/Versions/3.7/lib/python3.7/ssl.py\u001b[0m in \u001b[0;36mread\u001b[0;34m(self, len, buffer)\u001b[0m\n\u001b[1;32m    927\u001b[0m         \u001b[0;32mtry\u001b[0m\u001b[0;34m:\u001b[0m\u001b[0;34m\u001b[0m\u001b[0;34m\u001b[0m\u001b[0m\n\u001b[1;32m    928\u001b[0m             \u001b[0;32mif\u001b[0m \u001b[0mbuffer\u001b[0m \u001b[0;32mis\u001b[0m \u001b[0;32mnot\u001b[0m \u001b[0;32mNone\u001b[0m\u001b[0;34m:\u001b[0m\u001b[0;34m\u001b[0m\u001b[0;34m\u001b[0m\u001b[0m\n\u001b[0;32m--> 929\u001b[0;31m                 \u001b[0;32mreturn\u001b[0m \u001b[0mself\u001b[0m\u001b[0;34m.\u001b[0m\u001b[0m_sslobj\u001b[0m\u001b[0;34m.\u001b[0m\u001b[0mread\u001b[0m\u001b[0;34m(\u001b[0m\u001b[0mlen\u001b[0m\u001b[0;34m,\u001b[0m \u001b[0mbuffer\u001b[0m\u001b[0;34m)\u001b[0m\u001b[0;34m\u001b[0m\u001b[0;34m\u001b[0m\u001b[0m\n\u001b[0m\u001b[1;32m    930\u001b[0m             \u001b[0;32melse\u001b[0m\u001b[0;34m:\u001b[0m\u001b[0;34m\u001b[0m\u001b[0;34m\u001b[0m\u001b[0m\n\u001b[1;32m    931\u001b[0m                 \u001b[0;32mreturn\u001b[0m \u001b[0mself\u001b[0m\u001b[0;34m.\u001b[0m\u001b[0m_sslobj\u001b[0m\u001b[0;34m.\u001b[0m\u001b[0mread\u001b[0m\u001b[0;34m(\u001b[0m\u001b[0mlen\u001b[0m\u001b[0;34m)\u001b[0m\u001b[0;34m\u001b[0m\u001b[0;34m\u001b[0m\u001b[0m\n",
      "\u001b[0;31mKeyboardInterrupt\u001b[0m: "
     ]
    }
   ],
   "source": [
    "RM_LABELS = ['INBOX']\n",
    "for i,msg in enumerate(inbox):\n",
    "    print(f'{i/5537:.4f}', end='\\r')\n",
    "    content = G.messages.parseMessage(msg)\n",
    "    changedLabel = False\n",
    "    ML, MS = None, 0\n",
    "    for L in H:\n",
    "        score = H[L].sim(content)\n",
    "        if score > .4:\n",
    "            print(L, content[:50])\n",
    "            G.labels.setLabel(msg, [L,'UNREAD'], RM_LABELS)\n",
    "            changedLabel = True\n",
    "        if score > MS:\n",
    "            MS = score\n",
    "            ML = L\n",
    "    if not changedLabel:\n",
    "        if MS > .25:\n",
    "            print(f'*{L},{MS:.4f},{content[:50]}')\n",
    "            G.labels.setLabel(msg, [L,'UNREAD', 'Low Confidence'], RM_LABELS)\n",
    "            \n",
    "print('done')"
   ]
  },
  {
   "cell_type": "code",
   "execution_count": 30,
   "metadata": {},
   "outputs": [
    {
     "name": "stdout",
     "output_type": "stream",
     "text": [
      "sampling 250 messages of 437 matching ['Job Applications']\n",
      "249\r"
     ]
    }
   ],
   "source": [
    "label = 'Job Applications'\n",
    "H[label] = G.hashMatch([label], freq=0.15, sample=250)"
   ]
  },
  {
   "cell_type": "code",
   "execution_count": 37,
   "metadata": {},
   "outputs": [
    {
     "name": "stdout",
     "output_type": "stream",
     "text": [
      "sampling 12 messages matching ['Job False Negative']\n",
      "11\r"
     ]
    }
   ],
   "source": [
    "label = 'Job False Negative'\n",
    "H[label] = G.hashMatch([label], freq=0.4, sample=100)"
   ]
  },
  {
   "cell_type": "code",
   "execution_count": 50,
   "metadata": {},
   "outputs": [],
   "source": [
    "messages = G.labels.match(['Job Applications'])"
   ]
  },
  {
   "cell_type": "code",
   "execution_count": 51,
   "metadata": {},
   "outputs": [
    {
     "data": {
      "text/plain": [
       "['Unsubscribe',\n",
       " 'Job Denial',\n",
       " 'Github',\n",
       " 'Job Recruiter Spam',\n",
       " 'Job False Negative',\n",
       " 'CU Alerts',\n",
       " 'Bills',\n",
       " 'MARC/MARC hours',\n",
       " 'CU Email Lists',\n",
       " 'MARC',\n",
       " 'Cycling',\n",
       " 'Canvas',\n",
       " 'Low Confidence',\n",
       " 'Job Applications',\n",
       " 'Piazza',\n",
       " 'Job Interview']"
      ]
     },
     "execution_count": 51,
     "metadata": {},
     "output_type": "execute_result"
    }
   ],
   "source": [
    "CUSTOM_LABELS"
   ]
  },
  {
   "cell_type": "code",
   "execution_count": 77,
   "metadata": {},
   "outputs": [
    {
     "name": "stdout",
     "output_type": "stream",
     "text": [
      "\n",
      "\n",
      "http://secure-web.cisco.com/1HSJz5q7_ORrhm36v-xNHP50biJKNEsWlJYd59nbdqN9tSIrflNjCQrADNlTo1AxfSozwovEhEEIThvbG8oPU2G216wkziX7mZSa71RW_9ySDOQLX3frsB5F-A169kAyOBJvdzL4dfov4DCI2O8f3nq2mxL9T_GOuigfngRwHFN2b-2wCAN9vTxNmQw76cZQdgTwwT94MpC_OhAh1AvW47vp7xEJZC8ZSnhpigJM2jm5CszLI58VIqgj3BusLEqbE8qxmuSauFmtL2PHZ9A-wl0kS4t882hzGDvG2AIvgQksIT09xKM44054zbZKAq-ZOKZn_1dOUVKKf2pomD1xvnT-A3XVaV6o5pvfsDhxbPmhn7u1XwhG5mYUIxvU4xVHC-yXuIYAf0jbOWUmhPIZraL3ZZWHnSj_r0OdeGhUZYN7NluVednKI4eXug8Pvdz1vWf4F0cvNaia_qH6KVKaH\n",
      "\n",
      "\n",
      "\n",
      "http://secure-web.cisco.com/1ncSslbfcgWCmsKxc37xaBSO1zZ7J87TStPuT5ywuwKHwODrPV9et8l2QMTpgXcfdfgBWeY5YVPV6zoUX0TcUotizH35Q8bijASjsA4jIm8P9Ajk0q_IN3U1tHPQH2w-ZYu8L1ydc3EKWVsB8lYwn7XW2FFh4IMIq7ZIOf_K2ysW1H01t25gH6ZDz9wZlTQqtqzPdnsVGeT4cJXfqGlyD658xhs0kYpeejI7pz-oQBLblpWASF4yZvZTpQUC3hqtSScztN7_DdptAnvFJf5An9PGhyxk0Peq0Rq7JfkfATaZXlqRTw_3fJoGeH4jkpcRCZoTEAdiFvWUNQwya_xoyPvyqposlW6wF26BrQ3R47AZiE3ZIjzuwdI0AexGQLNRsyPcqSlbfn8BaHRJLSXdbyXfJvoe7d8c4Dp_978VVcxvxuHrY-0UcFXIEA3gbNFvhy6H2JS_NZLdW9e63fGS3\n",
      "\n",
      "<!DOCTYPE html PUBLIC \"-//W3C//DTD XHTML 1.0 Strict//EN\" \"http://www.w3.org/TR/xhtml1/DTD/xhtml1-strict.dtd\">\n",
      "<html xmlns=\"http://www.w3.org/1999/xhtml\" xmlns=\"http://www.w3.org/1999/xhtml\" style=\"background-color: #f3f3f3; min-height: 100%;\">\n",
      "<head>\n",
      "  <meta http-equiv=\"Content-Type\" content=\"text/html; charset=utf-8\" />\n",
      "  <meta name=\"viewport\" content=\"width=device-width\" />\n",
      "  <title>Greetings From Your Online Portal</title>\n",
      "  \n",
      "<style>body {\n",
      "width: 100% !important; min-width: 100%; -web\n",
      "\n",
      "\n",
      "Hello Royce Schultz,\n",
      "\n",
      "This is a reminder that your rent payment is due on December 1st.\n",
      "\n",
      "Make Payment Online\n",
      "https://url7337.onlineportal.appfolio.com/wf/click?upn=0hQtCt-2FniJXnw3e0POj3wsE2V1EtSCIph-2FnDEIQ5RHWSl8zmPIkZmEW128b4O1ls6zL6N-2Ffdo2Z43gHydFuzgA-3D-3D_vtPoVQULI0tx5Q5F3fQbGdU0lVPJ3CvCiZCbGdwrNplY7-2FvzMZ2UMhLRdn8hI2gbCkU5RGHZH83s4DJkJxLgse6hXPGM-2BZkd0Mmmv2nvUhFNf3E2rOSpPCzIaqXoCpbDvAuUid75X-2FKLzXAmqY4AbCxsl0sfMTnwHowxBISsx4MwwjGSrEIyV-2BHQDhwKn2E2yu-2F63VqECYO4AkTw-2BLdQdNjRMgF\n",
      "\n",
      "<!DOCTYPE html>\n",
      "                                                                        <html xmlns=\"http://www.w3.org/1999/xhtml\">\n",
      "                                                                        <head >\n",
      "                                                                        <link href = \"https://fonts.googleapis.com/css?family=Roboto+Condensed\" rel = \"stylesheet\" />\n",
      "                                                                        <link href = \"https://maxcdn.bootstrapcdn.com/\n",
      "\n",
      "\n",
      "\n",
      "http://secure-web.cisco.com/1yJIW084dUU1vcQy2A5eirPjUgROqTXaz_opHar8rkH0q3kwYeJZKkzqJEE2YMhyysATj-YUJRWs_G87SCzvKMh55mJYBA2qgPkI9mrqk6KaSdqKxtRi2pcOD2EgaKJRj1VVDom28Qi60-2TnvjfNA6_SkHkZZnfduFoHc5-XuDEWuHiB2zZixrlEpYzSvLuyUcKjSPom8upxo3YGvN5-g7kUAeT4MV4KxpSXClGh446AlcO8PnGP4LYdE0AIbIYyF9WHrvIOYaBQm2tSXb00_iqj3fxMdw-G52iE0aQKSAhmT7dzyKhCwebZbDkgoOVfwm6I1m5NGfi4y8ocafO735Lzpzx0gC9ROLreNBX8WWEKsA05V63J2z3x-CW60jO7vxkcmz7W-BKynj2AWPeP3QOaCon-3gffbuEqYRXxE2EAtyEEAFxRpl3CP7i302scO-jeYd9vkNQa8kvCiNur\n",
      "\n",
      "<!DOCTYPE html>\n",
      "                                                                        <html xmlns=\"http://www.w3.org/1999/xhtml\">\n",
      "                                                                        <head >\n",
      "                                                                        <link href = \"https://fonts.googleapis.com/css?family=Roboto+Condensed\" rel = \"stylesheet\" />\n",
      "                                                                        <link href = \"https://maxcdn.bootstrapcdn.com/\n",
      "\n",
      "<!DOCTYPE html PUBLIC \"-//W3C//DTD XHTML 1.0 Strict//EN\" \"http://www.w3.org/TR/xhtml1/DTD/xhtml1-strict.dtd\">\n",
      "<html xmlns=\"http://www.w3.org/1999/xhtml\" xmlns=\"http://www.w3.org/1999/xhtml\" style=\"background-color: #f3f3f3; min-height: 100%;\">\n",
      "<head>\n",
      "  <meta http-equiv=\"Content-Type\" content=\"text/html; charset=utf-8\" />\n",
      "  <meta name=\"viewport\" content=\"width=device-width\" />\n",
      "  <title>Greetings From Your Online Portal</title>\n",
      "  \n",
      "<style>body {\n",
      "width: 100% !important; min-width: 100%; -web\n",
      "\n",
      "\n",
      "Hello Royce Schultz,\n",
      "\n",
      "This is a reminder that your rent payment is due on November 1st.\n",
      "\n",
      "Make Payment Online\n",
      "https://url7337.onlineportal.appfolio.com/wf/click?upn=0hQtCt-2FniJXnw3e0POj3wsE2V1EtSCIph-2FnDEIQ5RHWSl8zmPIkZmEW128b4O1lscrOT6-2BEPDPYg3EtPchyLdw-3D-3D_vtPoVQULI0tx5Q5F3fQbGdU0lVPJ3CvCiZCbGdwrNpmuPKBrfVEn948UIBahza54rD3xVLJjsvvc8-2B-2FrIvYL6sN37SEtmKGFblpUQRDytkY-2F9yjvIM6HRmUevJbdJIhyvpTfRCz-2F6h0CflLVE4lp4LF-2BiiqALM7v9-2F5zqAcBLKkCZLrkSBntL-2B0MNmnY-2B7jwaZP7SLNzsI9KN0MuPP18EGR\n",
      "\n",
      "<!DOCTYPE html PUBLIC \"-//W3C//DTD XHTML 1.0 Strict//EN\" \"http://www.w3.org/TR/xhtml1/DTD/xhtml1-strict.dtd\">\n",
      "<html xmlns=\"http://www.w3.org/1999/xhtml\" xmlns=\"http://www.w3.org/1999/xhtml\" style=\"background-color: #f3f3f3; min-height: 100%;\">\n",
      "<head>\n",
      "  <meta http-equiv=\"Content-Type\" content=\"text/html; charset=utf-8\" />\n",
      "  <meta name=\"viewport\" content=\"width=device-width\" />\n",
      "  <title>Greetings From Your Online Portal</title>\n",
      "  \n",
      "<style>body {\n",
      "width: 100% !important; min-width: 100%; -web\n",
      "\n",
      "<!DOCTYPE html>\n",
      "                                                                        <html xmlns=\"http://www.w3.org/1999/xhtml\">\n",
      "                                                                        <head >\n",
      "                                                                        <link href = \"https://fonts.googleapis.com/css?family=Roboto+Condensed\" rel = \"stylesheet\" />\n",
      "                                                                        <link href = \"https://maxcdn.bootstrapcdn.com/\n",
      "\n",
      "<!DOCTYPE html PUBLIC \"-//W3C//DTD XHTML 1.0 Strict//EN\" \"http://www.w3.org/TR/xhtml1/DTD/xhtml1-strict.dtd\">\n",
      "<html xmlns=\"http://www.w3.org/1999/xhtml\" xmlns=\"http://www.w3.org/1999/xhtml\" style=\"background-color: #f3f3f3; min-height: 100%;\">\n",
      "<head>\n",
      "  <meta http-equiv=\"Content-Type\" content=\"text/html; charset=utf-8\" />\n",
      "  <meta name=\"viewport\" content=\"width=device-width\" />\n",
      "  <title>Greetings From Your Online Portal</title>\n",
      "  \n",
      "<style>body {\n",
      "width: 100% !important; min-width: 100%; -web\n",
      "\n",
      "<!DOCTYPE html PUBLIC \"-//W3C//DTD XHTML 1.0 Strict//EN\" \"http://www.w3.org/TR/xhtml1/DTD/xhtml1-strict.dtd\">\n",
      "<html xmlns=\"http://www.w3.org/1999/xhtml\" xmlns=\"http://www.w3.org/1999/xhtml\" style=\"background-color: #f3f3f3; min-height: 100%;\">\n",
      "<head>\n",
      "  <meta http-equiv=\"Content-Type\" content=\"text/html; charset=utf-8\" />\n",
      "  <meta name=\"viewport\" content=\"width=device-width\" />\n",
      "  <title>Greetings From Your Online Portal</title>\n",
      "  \n",
      "<style>body {\n",
      "width: 100% !important; min-width: 100%; -web\n",
      "\n",
      "<!DOCTYPE html>\n",
      "                                                                        <html xmlns=\"http://www.w3.org/1999/xhtml\">\n",
      "                                                                        <head >\n",
      "                                                                        <link href = \"https://fonts.googleapis.com/css?family=Roboto+Condensed\" rel = \"stylesheet\" />\n",
      "                                                                        <link href = \"https://maxcdn.bootstrapcdn.com/\n",
      "\n",
      "<!DOCTYPE html PUBLIC \"-//W3C//DTD XHTML 1.0 Strict//EN\" \"http://www.w3.org/TR/xhtml1/DTD/xhtml1-strict.dtd\">\n",
      "<html xmlns=\"http://www.w3.org/1999/xhtml\" xmlns=\"http://www.w3.org/1999/xhtml\" style=\"background-color: #f3f3f3; min-height: 100%;\">\n",
      "<head>\n",
      "  <meta http-equiv=\"Content-Type\" content=\"text/html; charset=utf-8\" />\n",
      "  <meta name=\"viewport\" content=\"width=device-width\" />\n",
      "  <title>Greetings From Your Online Portal</title>\n",
      "  \n",
      "<style>body {\n",
      "width: 100% !important; min-width: 100%; -web\n",
      "\n",
      "\n",
      "Hello Royce Schultz,\n",
      "\n",
      "This is a reminder that your rent payment is due on August 1st.\n",
      "\n",
      "Make Payment Online\n",
      "https://url7337.onlineportal.appfolio.com/wf/click?upn=0hQtCt-2FniJXnw3e0POj3wsE2V1EtSCIph-2FnDEIQ5RHWSl8zmPIkZmEW128b4O1lscrOT6-2BEPDPYg3EtPchyLdw-3D-3D_vtPoVQULI0tx5Q5F3fQbGdU0lVPJ3CvCiZCbGdwrNpmuPKBrfVEn948UIBahza54rD3xVLJjsvvc8-2B-2FrIvYL6sN37SEtmKGFblpUQRDytkY-2F9yjvIM6HRmUevJbdJIhyvpTfRCz-2F6h0CflLVE4lp4LF-2BiiqALM7v9-2F5zqAcBLKkCZLrkSBntL-2B0MNmnY-2B7jwaZP7SLNzsI9KN0MuPP18EGRdO\n",
      "\n",
      "<!DOCTYPE html>\n",
      "                                                                        <html xmlns=\"http://www.w3.org/1999/xhtml\">\n",
      "                                                                        <head >\n",
      "                                                                        <link href = \"https://fonts.googleapis.com/css?family=Roboto+Condensed\" rel = \"stylesheet\" />\n",
      "                                                                        <link href = \"https://maxcdn.bootstrapcdn.com/\n",
      "\n",
      "<!DOCTYPE html PUBLIC \"-//W3C//DTD XHTML 1.0 Strict//EN\" \"http://www.w3.org/TR/xhtml1/DTD/xhtml1-strict.dtd\">\n",
      "<html xmlns=\"http://www.w3.org/1999/xhtml\" xmlns=\"http://www.w3.org/1999/xhtml\" style=\"background-color: #f3f3f3; min-height: 100%;\">\n",
      "<head>\n",
      "  <meta http-equiv=\"Content-Type\" content=\"text/html; charset=utf-8\" />\n",
      "  <meta name=\"viewport\" content=\"width=device-width\" />\n",
      "  <title>Greetings From Your Online Portal</title>\n",
      "  \n",
      "<style>body {\n",
      "width: 100% !important; min-width: 100%; -web\n",
      "\n",
      "\n",
      "Hello Royce Schultz,\n",
      "\n",
      "This is a reminder that your rent payment is due on July 1st.\n",
      "\n",
      "Make Payment Online\n",
      "https://url7337.onlineportal.appfolio.com/wf/click?upn=0hQtCt-2FniJXnw3e0POj3wsE2V1EtSCIph-2FnDEIQ5RHWSl8zmPIkZmEW128b4O1lscrOT6-2BEPDPYg3EtPchyLdw-3D-3D_vtPoVQULI0tx5Q5F3fQbGdU0lVPJ3CvCiZCbGdwrNpmuPKBrfVEn948UIBahza54rD3xVLJjsvvc8-2B-2FrIvYL6sN37SEtmKGFblpUQRDytkY-2F9yjvIM6HRmUevJbdJIhyvpTfRCz-2F6h0CflLVE4lp4LF-2BiiqALM7v9-2F5zqAcBLKkCZLrkSBntL-2B0MNmnY-2B7jwaZP7SLNzsI9KN0MuPP18EGRdObv\n",
      "\n"
     ]
    },
    {
     "name": "stdout",
     "output_type": "stream",
     "text": [
      "<!DOCTYPE html>\n",
      "                                                                        <html xmlns=\"http://www.w3.org/1999/xhtml\">\n",
      "                                                                        <head >\n",
      "                                                                        <link href = \"https://fonts.googleapis.com/css?family=Roboto+Condensed\" rel = \"stylesheet\" />\n",
      "                                                                        <link href = \"https://maxcdn.bootstrapcdn.com/\n",
      "\n",
      "<!DOCTYPE html PUBLIC \"-//W3C//DTD XHTML 1.0 Strict//EN\" \"http://www.w3.org/TR/xhtml1/DTD/xhtml1-strict.dtd\">\n",
      "<html xmlns=\"http://www.w3.org/1999/xhtml\" xmlns=\"http://www.w3.org/1999/xhtml\" style=\"background-color: #f3f3f3; min-height: 100%;\">\n",
      "<head>\n",
      "  <meta http-equiv=\"Content-Type\" content=\"text/html; charset=utf-8\" />\n",
      "  <meta name=\"viewport\" content=\"width=device-width\" />\n",
      "  <title>Greetings From Your Online Portal</title>\n",
      "  \n",
      "<style>body {\n",
      "width: 100% !important; min-width: 100%; -web\n",
      "\n",
      "\n",
      "Hello Royce Schultz,\n",
      "\n",
      "This is a reminder that your rent payment is due on June 1st.\n",
      "\n",
      "Make Payment Online\n",
      "https://url7337.onlineportal.appfolio.com/wf/click?upn=0hQtCt-2FniJXnw3e0POj3wsE2V1EtSCIph-2FnDEIQ5RHWSl8zmPIkZmEW128b4O1lscrOT6-2BEPDPYg3EtPchyLdw-3D-3D_vtPoVQULI0tx5Q5F3fQbGdU0lVPJ3CvCiZCbGdwrNpmuPKBrfVEn948UIBahza54rD3xVLJjsvvc8-2B-2FrIvYL6sN37SEtmKGFblpUQRDytkY-2F9yjvIM6HRmUevJbdJIhyvpTfRCz-2F6h0CflLVE4lp4LF-2BiiqALM7v9-2F5zqAcBLKkCZLrkSBntL-2B0MNmnY-2B7jwaZP7SLNzsI9KN0MuPP18EGRdObv\n",
      "\n",
      "<!DOCTYPE html>\n",
      "                                                                        <html xmlns=\"http://www.w3.org/1999/xhtml\">\n",
      "                                                                        <head >\n",
      "                                                                        <link href = \"https://fonts.googleapis.com/css?family=Roboto+Condensed\" rel = \"stylesheet\" />\n",
      "                                                                        <link href = \"https://maxcdn.bootstrapcdn.com/\n",
      "\n",
      "<!DOCTYPE html PUBLIC \"-//W3C//DTD XHTML 1.0 Strict//EN\" \"http://www.w3.org/TR/xhtml1/DTD/xhtml1-strict.dtd\">\n",
      "<html xmlns=\"http://www.w3.org/1999/xhtml\" xmlns=\"http://www.w3.org/1999/xhtml\" style=\"background-color: #f3f3f3; min-height: 100%;\">\n",
      "<head>\n",
      "  <meta http-equiv=\"Content-Type\" content=\"text/html; charset=utf-8\" />\n",
      "  <meta name=\"viewport\" content=\"width=device-width\" />\n",
      "  <title>Greetings From Your Online Portal</title>\n",
      "  \n",
      "<style>body {\n",
      "width: 100% !important; min-width: 100%; -web\n",
      "\n",
      "\n",
      "Hello Royce Schultz,\n",
      "\n",
      "This is a reminder that your rent payment is due on May 1st.\n",
      "\n",
      "Make Payment Online\n",
      "https://url7337.onlineportal.appfolio.com/wf/click?upn=0hQtCt-2FniJXnw3e0POj3wsE2V1EtSCIph-2FnDEIQ5RHWSl8zmPIkZmEW128b4O1lscrOT6-2BEPDPYg3EtPchyLdw-3D-3D_vtPoVQULI0tx5Q5F3fQbGdU0lVPJ3CvCiZCbGdwrNpmuPKBrfVEn948UIBahza54rD3xVLJjsvvc8-2B-2FrIvYL6sN37SEtmKGFblpUQRDytkY-2F9yjvIM6HRmUevJbdJIhyvpTfRCz-2F6h0CflLVE4lp4LF-2BiiqALM7v9-2F5zqAcBLKkCZLrkSBntL-2B0MNmnY-2B7jwaZP7SLNzsI9KN0MuPP18EGRdObv4\n",
      "\n",
      "<!DOCTYPE html>\n",
      "                                                                        <html xmlns=\"http://www.w3.org/1999/xhtml\">\n",
      "                                                                        <head >\n",
      "                                                                        <link href = \"https://secure-web.cisco.com/1ZhvY0jq6gEWkcc8PplHAspyZC34DoBwrcLy7hMiAqAWRZkLgQdSiiOqdUddk-8qkdFULzuwySQbwBHKZ2nz5nB3xv5XUczwYdWwfH7JjdPCzXuTSGd_71x8qjC1EsHlwJuh_1ZCqAYcxPpdELq-XZE6OUCCAkkcr4oPccF6ss\n",
      "\n",
      "<!DOCTYPE html PUBLIC \"-//W3C//DTD XHTML 1.0 Strict//EN\" \"http://www.w3.org/TR/xhtml1/DTD/xhtml1-strict.dtd\">\n",
      "<html xmlns=\"http://www.w3.org/1999/xhtml\" xmlns=\"http://www.w3.org/1999/xhtml\" style=\"background-color: #f3f3f3; min-height: 100%;\">\n",
      "<head>\n",
      "  <meta http-equiv=\"Content-Type\" content=\"text/html; charset=utf-8\" />\n",
      "  <meta name=\"viewport\" content=\"width=device-width\" />\n",
      "  <title>Greetings From Your Online Portal</title>\n",
      "  \n",
      "<style>body {\n",
      "width: 100% !important; min-width: 100%; -web\n",
      "\n",
      "\n",
      "Hello Royce Schultz,\n",
      "\n",
      "This is a reminder that your rent payment is due on April 1st.\n",
      "\n",
      "Make Payment Online\n",
      "https://url7337.onlineportal.appfolio.com/wf/click?upn=0hQtCt-2FniJXnw3e0POj3wsE2V1EtSCIph-2FnDEIQ5RHWSl8zmPIkZmEW128b4O1lscrOT6-2BEPDPYg3EtPchyLdw-3D-3D_vtPoVQULI0tx5Q5F3fQbGdU0lVPJ3CvCiZCbGdwrNpmuPKBrfVEn948UIBahza54rD3xVLJjsvvc8-2B-2FrIvYL6sN37SEtmKGFblpUQRDytkY-2F9yjvIM6HRmUevJbdJIhyvpTfRCz-2F6h0CflLVE4lp4LF-2BiiqALM7v9-2F5zqAcBLKkCZLrkSBntL-2B0MNmnY-2B7jwaZP7SLNzsI9KN0MuPP18EGRdOb\n",
      "\n",
      "<!DOCTYPE html>\n",
      "                                                                        <html xmlns=\"http://www.w3.org/1999/xhtml\">\n",
      "                                                                        <head >\n",
      "                                                                        <link href = \"https://fonts.googleapis.com/css?family=Roboto+Condensed\" rel = \"stylesheet\" />\n",
      "                                                                        <link href = \"https://maxcdn.bootstrapcdn.com/\n",
      "\n",
      "<!DOCTYPE html PUBLIC \"-//W3C//DTD XHTML 1.0 Strict//EN\" \"http://www.w3.org/TR/xhtml1/DTD/xhtml1-strict.dtd\">\n",
      "<html xmlns=\"http://www.w3.org/1999/xhtml\" xmlns=\"http://www.w3.org/1999/xhtml\" style=\"background-color: #f3f3f3; min-height: 100%;\">\n",
      "<head>\n",
      "  <meta http-equiv=\"Content-Type\" content=\"text/html; charset=utf-8\" />\n",
      "  <meta name=\"viewport\" content=\"width=device-width\" />\n",
      "  <title>Greetings From Your Online Portal</title>\n",
      "  \n",
      "<style>body {\n",
      "width: 100% !important; min-width: 100%; -web\n",
      "\n",
      "<!DOCTYPE html PUBLIC \"-//W3C//DTD XHTML 1.0 Strict//EN\" \"http://www.w3.org/TR/xhtml1/DTD/xhtml1-strict.dtd\">\n",
      "<html xmlns=\"http://www.w3.org/1999/xhtml\" xmlns=\"http://www.w3.org/1999/xhtml\" style=\"background-color: #f3f3f3; min-height: 100%;\">\n",
      "<head>\n",
      "  <meta http-equiv=\"Content-Type\" content=\"text/html; charset=utf-8\" />\n",
      "  <meta name=\"viewport\" content=\"width=device-width\" />\n",
      "  <title>Greetings From Your Online Portal</title>\n",
      "  \n",
      "<style>body {\n",
      "width: 100% !important; min-width: 100%; -web\n",
      "\n"
     ]
    }
   ],
   "source": [
    "messages = G.labels.match(['Bills'])\n",
    "for m in messages:\n",
    "    content = G.messages.readMessage(m)\n",
    "    print(content[:500])\n",
    "    print()"
   ]
  },
  {
   "cell_type": "code",
   "execution_count": 76,
   "metadata": {},
   "outputs": [
    {
     "name": "stdout",
     "output_type": "stream",
     "text": [
      "sampling 31 messages matching ['Bills']\n",
      "30\r"
     ]
    },
    {
     "data": {
      "text/plain": [
       "{'payment ', '.columns', 'enter\"] ', 'pand tab', '.contain', 'ur Onlin', 'ckground', 'fset-10 ', '.small-4', '6   th.s', 'ia only ', 'dy body ', 'se .colu', '.button ', 'panded t', 'xpand   ', 'n td.sma', 'edia onl', 'all-1   ', 'ive a:vi', 'ble   ta', 'ble a   ', 'tton.war', 'yce Schu', 'undTable', 'small-5 ', 'utton.wa', 't-2   ta', 'l-1   td', 'l-7   th', 'choosing', 'ter\"]   ', '.vertica', '.Externa', 'ical th ', 'oosing T', 'g   tabl', 't-pad-le', 'iny:acti', ' th.smal', 'able a  ', 'd-right ', ' table.b', 'xt-cente', '.body .l', 's #backg', 'r   tabl', 'y body a', 'et-4   t', '5   tabl', 'set-2   ', 've table', 'us body.', 'rge:acti', ':hover t', 'll-4   t', 'tive a:v', 'offset-7', '-pad-lef', 've a:vis', 'mn th.sm', 'l-offset', 's From Y', 'utton:ho', 'ed table', 'xpand ta', '.thumbna', 'dy.outlo', '5 a:visi', ' Your On', 'hultz,  ', ' .right-', ' Omnibus', 'ver .thu', 'ter }   ', 'enu th  ', 'panded c', 'ble.cont', 'l:hover ', 'on.succe', 'der   ta', 'l:focus ', 'l-vertic', 'lumns   ', ' a table', ' .contai', 'll-6   t', '10   th.', 'h2 a:vis', 'mn   td.', 'ffset-11', 'idth: 59', 't-pad   ', 'sited h1', 'set-10  ', 'oyce Sch', 'button.a', '-expande', ' h4 a:vi', 'le a tab', 'e td tab', 'body .ri', 'ow.hide-', 'ody td.s', 'tr td a:', 'bnail:fo', 'll-12   ', 'ody .con', ' table t', 'hover a:', '2019.   ', 'ine Port', 'anded   ', '-width: ', '.small-t', 'hank you', 's .Exter', '.alert:h', 'xpander ', 'expand t', 'ny table', 'e.body c', 'dary:act', 'nibus Gr', 'utton:ac', 'on.tiny:', 'olumn   ', 'h.small-', '   .colu', 'e td a t', '-11   th', 'offset-9', '.body th', 'small-te', 'ank you ', '5   th.s', '9   th.s', '-6   tab', ' Online ', 'dy a:hov', 'tton.sma', 'From You', 'ner .row', ' h5 a:vi', 'e.menu t', 'r   .sma', 'set-9   ', '-10   ta', '-6   td.', '7   tabl', 'tical td', '-pad-rig', ' a:hover', 'and   ta', 's .colum', 'rt:hover', '-1   tab', 'ted h3 a', 'nt-face ', 'enu.vert', '    The ', 't-7   ta', 'mbnail:f', '-center ', 'umn th.s', 'enu td  ', 'umns   t', '-5   th.', '2 a:visi', 'center\"]', '3 a:visi', '   The O', 'ed h3 a:', ' 596px) ', 'er .thum', 'e.body t', 'utton.se', 'ext-pad-', 'ternalCl', 'eft-text', 'a:visite', '.menu   ', 'all-3   ', 'Class .E', 'p @font-', '-text-le', 'r td a t', 'ing:hove', 'small ta', 'set-3   ', 'ight-tex', 'out-inne', ' @font-f', '5   td.s', 'ut-inner', 'or choos', 'img body', 'ted h2 a', 'align=\"c', 't       ', 'ft   .sm', 'fset-5  ', 'offset-2', 'll-11   ', '-10   th', 'able   t', 'e td a:v', 'et-7   t', 'large:ho', 'dy th.sm', 'our Onli', 'h   tabl', 'dary:hov', 'ce @medi', 'table.bu', 'ton tabl', 'ited h4 ', 'h.expand', 'ackgroun', 'ail:hove', 'td   tab', '-4   tab', ' Portal ', 'l-7   td', 'able.con', 'll-2   t', 'r table ', 'nder   t', 'mg body ', 'le td a ', 'le.menu.', 'tton.suc', 'l-6   th', 'utton.la', '1   td.s', 'dy .cont', 'umns .co', 'face @fo', 'cal td  ', 'mall-exp', ' Hello R', '     (30', 'dary tab', '9   td.s', 'le.menu ', 'mall-1  ', '@font-fa', '.small:a', '6 a:visi', 'focus bo', 'lumn .co', 'u[align=', '      To', 'ok p @fo', ' Schultz', ' td tabl', 'ght   .h', 'fset-3  ', 't-right ', '#backgro', 'dy .text', 'dy .righ', '=\"center', ' payment', 'n:active', ']   tabl', 'you for ', 't-text-p', 'tical th', 'button:h', '\"]   tab', 't-face @', '  Hello ', 'dTable i', 't:hover ', 'ffset-1 ', '-12   .c', 'ner   ta', '-2   td.', 'et-8   t', 'd center', 'ntainer ', 'l  body ', 'l-5   th', 's td.sma', 'ainer .c', 'om Your ', 'nd table', 'll-8   t', ' h3 a:vi', ' a .thum', 'button.w', 'er .row.', 'small-3 ', 'y a:hove', 'e Schult', 'small-9 ', 'body td.', 'e table ', '-2   tab', 'ernalCla', 's   tabl', 'td.expan', 'over tab', 'lumn th.', 'ed h6 a:', 'n:visite', 'condary ', '  td.sma', 'set-7   ', 'small:ac', 'tton.ale', '.small-7', 'ble a ta', 'dy .left', 'ody.outl', 'ody cent', '.button:', '0   tabl', '-pad   t', 'ndary:ho', 'for choo', ' and (ma', 'r .hide-', 'ndTable ', 'ffset-7 ', '.large t', 'sited h3', 'small-7 ', '  The Om', 'ody a:ho', 'uccess:h', 'ibus Gro', '4   tabl', 'll-9   t', 'ive tabl', 'tive tab', 'he Omnib', '-text-pa', 'n .colum', '.small-9', 'set-6   ', 't-pad-ri', 'tainer .', 'ton:acti', 'ad-right', 'al th   ', 'active t', 'ly scree', 'olumns .', 'on.small', ' choosin', '.body .c', 'body .te', 'il:focus', 'nded cen', '     The', 'ctive a:', ' h1 a:vi', 'mns th.e', 'y table ', 'humbnail', 'ello Roy', ' body .E', 'ns th.sm', 'left   .', 'mall-5  ', 'en and (', 'vertical', '1   tabl', '   Your ', 't-3   ta', 'fset-6  ', 'ton.larg', 'dy .Exte', 'nu.small', 'show-for', 'nd cente', 'button.t', 'table.me', 'ffset-5 ', 'ody .rig', 'dth: 596', 'td a tab', 'creen an', '.warning', 'll table', 'small-8 ', 'u   tabl', 'small-12', 'enu[alig', 'groundTa', 'dy .colu', 'all-12  ', '   (303)', 'on:hover', 'tton.tin', '.menu.sm', 'lumns th', 'cus body', 't-center', '1 a:visi', 'ner.hide', ' only sc', 'l-12   .', '.large:a', 'Table im', '-4   td.', '(303) 44', '-3   td.', 'd.small-', ' From Yo', 'n.tiny t', 'utton:vi', 'width: 5', 'expand c', 'button t', '   Thank', 'eft   .s', 'h3 a:vis', 'ody .Ext', 'containe', 'et-1   t', ' .hide-f', '.tiny:ho', 'xt-pad-l', 'body img', 'ble.butt', 'ook p @f', 'menu th ', 'lo Royce', 'y screen', '.tiny ta', 'r Online', '.hide-fo', 'ody .tex', '2   td.s', 'ody th.s', 'll-1   t', 'tainer  ', 'th   tab', 'ited h1 ', 'ary tabl', 'secondar', 'all:acti', 'pand cen', 'r-large ', 'expanded', 'ical td ', 'iner .ca', 'le   tab', 'face @me', 'on table', '8   tabl', 'xt-pad  ', 'le a   t', 'all-expa', 'Class #b', 'ng The O', '       (', 'l-8   th', 'llout-in', 'e.body i', 'rom Your', 'reen and', 'mbnail:h', 'set-8   ', 'utton.sm', 'mall tab', 't-5   ta', '  .small', 'ited tab', 'et-6   t', 'nu   tab', 'l-4   th', 'r choosi', 'alClass ', '-8   td.', 'ble.menu', 't-8   ta', 'e.menu.s', '   Hello', '.small-5', 'over a:a', 'eft   ta', 'ner .hid', '-vertica', 'small-2 ', 'n.large ', 'ainer   ', '-right  ', 'tr td a ', '4   td.s', '       H', 'ton.aler', 'pad-left', '96px)   ', 'nu.verti', '-2   th.', 'ner .sho', '7   th.s', 'e tr td ', 'tiny:hov', 'sited h4', 'y.outloo', '8   td.s', 'osing Th', 'ns .colu', 'sited h2', 'ext-cent', 'e.button', '.seconda', 'all-11  ', 'ass .Ext', '.body ce', 'ace @fon', 'r a:acti', 'ing The ', 'mns td.e', 'lClass #', 'll-5   t', 'mall-9  ', ':hover a', 'offset-4', 'ultz,   ', 'e-for-la', 'inner.hi', 'ht   tab', ' Greetin', 'er .show', '.outlook', 'warning:', 'y .colum', 'reetings', 'ed h2 a:', 'rnalClas', ' number ', 'rtal  bo', 'ble img ', 'n.tiny:a', 'd table ', 'le.conta', 'text-rig', 'Online P', 'all-5   ', 'all tabl', 'ns th.ex', 'all-2   ', 'ou for c', 'et-10   ', 'lass .Ex', 'ning:hov', 'y center', 'd.expand', 'active a', 'table.bo', 'ontainer', 'rtical t', 'offset-1', 'able td ', 'kgroundT', 'backgrou', 'u for ch', 'ter   .s', 'media on', 'ail:focu', 'body .Ex', 'ted h5 a', 'e.menu.v', ' The Omn', 'nded tab', 'le td ta', 'dy img  ', ' }      ', 'able a t', 'pander  ', 'ed cente', '     Hel', 'ainer .s', ' screen ', '4 a:visi', '.right-t', 'ondary t', 'ft-text-', 'ndary ta', ':visited', 'sited h6', 'tlook p ', 'n and (m', 'm Your O', 'olumns  ', '.small-v', 'umn   td', ' .text-p', 'iner .hi', '-7   th.', 'hoosing ', 'y .right', 'l-3   td', 'n.small-', '-7   td.', 'text-pad', 'body .le', 'arge tab', 'umbnail:', 't-10   t', 'th: 596p', 'er }    ', 'table a ', 'ffset-4 ', ' @media ', 'ary:hove', 'sited h5', 'callout-', 'll-10   ', 'menu td ', 'n=\"cente', 'on.secon', '-8   tab', ' td a:vi', 'l-2   th', 'right   ', 'r }     ', 'table tr', '-5   td.', ' (303) 4', '019.    ', 'ffset-8 ', 'nk you f', 'ody .col', 'ny:hover', 'etings F', 'mall-4  ', 'all-text', 'fset-7  ', 'olumn td', '   .hide', '      He', 'dia only', 'text-lef', 'ert:hove', 'rning:ho', '2   tabl', 'cal th  ', 'ble a .t', 'th.small', 'body tab', 'y th.sma', '-face @f', 'ass #bac', '1       ', 'on.tiny ', 'll-7   t', '.row.hid', '-5   tab', 'e a .thu', '    Gree', 'nail:hov', 'et-11   ', 'column  ', 'l-6   td', 'e:active', 'l-10   t', '.small-8', 'chultz, ', 'able a .', 'een and ', 'll:activ', 'umn   ta', 'e   tabl', 'olumns t', 'able.but', 'lout-inn', '11   th.', '   .smal', 'ner .cal', 'd h6 a:v', '    (303', ' a   tab', 'column .', '  .hide-', 'utlook p', 'umn td.s', 'fset-2  ', 'r.hide-f', 'tiny:act', 'er .call', 'ter   ta', 'hover ta', 'lass #ba', 't-4   ta', 'd h2 a:v', '03) 444-', 'mall-ver', 'il:hover', 'd   tabl', 'n table ', 'ns   tab', 'line Por', ':active ', 'arge   t', 'ted tabl', 'small-10', 'menu   t', '-2611   ', 'ry table', 'y .left-', 'right-te', 'y:active', 'dy td.sm', 'table   ', 'ited h6 ', 't   tabl', 'mns th.s', 'set-11  ', 'y td.sma', 'y:hover ', 'ry:activ', ' .left-t', 'l-5   td', 'nail:foc', 'r .callo', 'll:hover', 'h1 a:vis', 'er table', 'over .th', 's th.exp', 'ton.succ', 'td a:vis', 'g The Om', 'l-9   th', 'a .thumb', 'able img', 'nner.hid', 'offset-3', 'le img b', 'gs From ', 'lapse .c', 'econdary', 'ton.warn', 'nded   t', 'mall-10 ', 'collapse', 'ody .lef', 'dy .coll', '-8   th.', 'tton.lar', 'ited h2 ', '.body ta', 'mall-11 ', '.small:h', 'success:', '    Your', 'mall-12 ', 'small-4 ', 'iner .ro', 'et-5   t', 'er   .sm', 'ody body', 'ht-text-', ' Payment', 'g:hover ', 'ainer .r', 'le.body ', '.tiny:ac', '.small t', 'and cent', '.button.', 'all-8   ', 'nline Po', 'left   t', 'on:visit', 'small-6 ', ' td   ta', '-expand ', '3) 444-2', 'le.menu[', 'set-1   ', 'er\"]   t', 'only scr', 'ble.colu', 'pad   ta', 'ltz,    ', '   td.sm', 'ight   .', 't   .hid', '-12   ta', '12   tab', 'Omnibus ', 'thumbnai', ' tr td a', ' th   ta', 'ad   tab', 'xpanded ', 'left-tex', 'nu[align', 'h4 a:vis', 'al td   ', 'l-3   th', 'dy cente', 'mn   tab', 'e a tabl', 'mall-tex', 'small-1 ', 'how-for-', 'umns th.', '  table.', 'menu[ali', 'max-widt', 'y .Exter', 'td table', 'ble td a', ' img bod', 'l-text-r', '.column ', 'g body b', '-left   ', '.small-3', 'small-11', 'd-left  ', '.small-1', 'iny tabl', ':focus b', 'ton:visi', 'able.col', ') 444-26', 'ny:activ', 'ace @med', 'e Omnibu', 'ng:hover', 'utton ta', 'e.menu[a', '.menu[al', ' td.smal', 'e img bo', 'small-of', 'tings Fr', 'ble tr t', 'y .conta', 't   .sma', 'ign=\"cen', 'ss .Exte', 'a only s', ' a:activ', 'e Portal', '-large  ', 'button:v', 'ted h1 a', '.large:h', 'table.co', 'font-fac', 'tz,     ', 'nu th   ', 'enter } ', 'ngs From', 'button.s', ' table a', 'tiny tab', 'body th.', 'h5 a:vis', 'ary:acti', 'a:active', 'offset-5', 't-inner.', 'rge:hove', '     Gre', 'e.column', 'er a:act', '.success', '10   td.', 'mn .colu', 'nly scre', 'ess:hove', 'et-2   t', '}       ', '-text-ce', '.text-pa', 'Royce Sc', 'mall:act', '3   th.s', 'arge:act', 'fset-1  ', 'Schultz,', '2611    ', 'all-offs', ' .thumbn', 'mg   tab', 'd a:visi', 'al  body', ' body bo', 'le.butto', 'ft   tab', 'ght   ta', 'u.vertic', ' .Extern', ' table.c', 'ited h3 ', '.body td', 'olumn th', 's th.sma', 'pse .col', 'n.small:', 'ings Fro', 'large:ac', 'enu   ta', '-for-lar', 'ns td.ex', '6   td.s', 'll-offse', 'utton.al', 'll-text-', 'l-1   th', 'mnibus G', 'and (max', '2   th.s', '8   th.s', 'y table.', 'r .show-', 'anded ce', 'k p @fon', 'ed   tab', 'l th   t', 'nu td   ', '      (3', 'w.hide-f', 'ed h5 a:', 'hover .t', 'enter   ', '.menu.ve', 'body cen', '-12   th', 'u th   t', 'e:hover ', 'lumn td.', 'z,      ', ' (max-wi', 'expander', 'mall-6  ', 'tton:act', 'l-8   td', 'mall:hov', 'd h1 a:v', 'expand  ', '   table', 'ffset-6 ', 'table td', ' td a ta', 'text-cen', 'u.small-', 'ded cent', ' table  ', 'ed h1 a:', 'arning:h', 'le tr td', 'all-vert', 'screen a', 'ortal  b', 'all-10  ', '2   .col', 'nter\"]  ', 'ext-righ', ' Thank y', 'ffset-3 ', 'n.small ', 'ge:hover', ':hover .', 'lert:hov', ' .callou', 'ver tabl', 'ton.seco', 'look p @', 'enu.smal', 'Thank yo', 'set-5   ', 's td.exp', 'l-4   td', 'll-verti', 'img   ta', 'ctive ta', '-10   td', 'ge   tab', 'tton:hov', '.body .t', ' body a:', '0   th.s', 'px)   .s', 'n:hover ', 'on.alert', 'Your Onl', 'd table.', 'td.small', 'x)   .sm', 'ns td.sm', 'body bod', '.small-6', 'ainer .h', '-3   tab', 'ton.smal', 'all-9   ', '[align=\"', '  body .', ' .small-', 'sited ta', '   th.sm', 'apse .co', '3   tabl', 'or-large', 'n.alert:', 'Portal  ', 'small-ve', ' h6 a:vi', '.body .r', 'dy table', 'bus Grou', '9   tabl', 'ffset-9 ', 'ss #back', ': 596px)', 'l-text-c', '12   .co', '       S', 'l-9   td', 'isited h', 'small:ho', 'pad-righ', '.       ', '3   td.s', 'on.large', 'fset-11 ', 'l-2   td', 'mall-off', 'llo Royc', 'External', 'd h4 a:v', 'n   tabl', '4   th.s', 'ss:hover', '4-2611  ', 'n.warnin', 'umns td.', '    Hell', 'isited t', 'mall-7  ', 'e a:visi', '-3   th.', 'menu.ver', '12   th.', 'menu.sma', '-9   td.', 'y .text-', 'a   tabl', '-offset-', ' p @font', '.menu th', ' .column', 'l-11   t', ' .show-f', 'on.warni', ' for cho', '.expande', '7   td.s', 'xt-right', 'fset-8  ', 'a:hover ', 'n   td.s', 'nd (max-', '-face @m', 'column t', 'alert:ho', 'a table.', 'arge:hov', '/2019.  ', 'The Omni', 'mall-2  ', '        ', ' a:visit', '\"center\"', 'n.large:', ' h2 a:vi', 'anded ta', 'y img   ', '-9   tab', 'er.hide-', 'ited h5 ', 'et-3   t', 'ertical ', 'row.hide', 'button.l', 'center  ', 'xt-pad-r', 'roundTab', '.small-o', 'e @font-', 'lign=\"ce', 'lumns .c', '.collaps', 'body.out', 'tton tab', ' .row.hi', 'le a .th', 'ted h4 a', '-1   th.', '  Thank ', 'mns .col', 'er   tab', 'all-4   ', 'and tabl', 'ton.tiny', 's:hover ', '.menu td', 'nter   t', 'button:a', 'h: 596px', 'lClass .', 'x-width:', 'o Royce ', 'e .colum', '-text-ri', ' #backgr', 'hide-for', 'ont-face', 'cess:hov', '0   td.s', 'e.body .', 'xternalC', 'ow-for-l', '6px)   .', 'l table ', 'l:active', ' th.expa', 'ge table', '-inner.h', '11   td.', 'set-4   ', 'r\"]   ta', ' table.m', 'us Group', 'l td   t', 'ody tabl', 'olumn .c', 'tal  bod', 'rge tabl', 'ffset-2 ', '611     ', 'outlook ', 'e.contai', '(max-wid', '-11   ta', 'd (max-w', 'umn .col', 'mall-3  ', 'ded   ta', '@media o', 'nd   tab', '.show-fo', '-1   td.', 'et-9   t', 'small-ex', '.left-te', 'ayment o', '   Greet', 'pand   t', 'l-12   t', 's body.o', 'lumn   t', 'condary:', 'ce @font', 'ton:hove', 'l-text-l', 'eetings ', '     Tha', '596px)  ', 'ext-left', 'd h3 a:v', 'e @media', 'ocus bod', 'ble td t', 'columns ', '6   tabl', 'mall-8  ', '  Greeti', '-6   th.', 't-6   ta', '-11   td', 'ne Porta', 'nter }  ', 'll-expan', 'n.tiny:h', '    Than', 'utton.ti', 'ffset-10', 'n.succes', '.body im', '303) 444', 'ed h4 a:', '-7   tab', 'n.second', '444-2611', 'ody img ', 'th.expan', 'ondary:a', ' td.expa', ' body.ou', '11   tab', '  (303) ', 'oundTabl', 'mn td.sm', 'e.menu  ', 'le.colum', '  th.sma', 'ide-for-', '1   th.s', 'iner .sh', 'rge   ta', 'k you fo', 'r .row.h', 'ander   ', 'body a:h', 'xpand ce', 'visited ', 'panded  ', '       T', 'all-6   ', 'Hello Ro', 'xt-left ', 'llapse .', 'l-expand', ' .collap', 'ted h6 a', 't-9   ta', '.small-e', ' 444-261', 'ver a:ac', 'ce Schul', 't-left  ', '-9   th.', 'ad-left ', 'able.bod', 'iny:hove', '.callout', 'body .co', 'allout-i', 'iner   t', 'fset-9  ', 'n th.sma', 'ble.body', ')   .sma', 'e paymen', '11      ', 'able tr ', 'ght-text', 'ge:activ', 'ht   .hi', 'd h5 a:v', '.small-2', 'll-3   t', 'offset-6', 'ry:hover', 'ollapse ', 'r .thumb', ' you for', 'ndary:ac', 'for-larg', 'e a   ta', '-4   th.', 'ccess:ho', '  .colum', 'mns   ta', 'able.men', 'lumns td', 'Greeting', 'r td a:v', 'tton.sec', ' img   t', 'ax-width', 'le td a:', 'offset-8', 'ext-pad ', 'all:hove', 'nalClass', ' center ', 'ded tabl', 'utton.su', 't-1   ta', ' Royce S', 'large   ', 'gn=\"cent', '      Gr', 'bnail:ho', 't-11   t', 'large ta', 'fset-4  ', 'tton:vis', 'er .hide', 'd a tabl', 'on:activ', '      Th', 'w-for-la', '44-2611 ', 'all-7   ', 'center }', 'mns td.s', '10   tab', 'nter   .', 'ight   t', 'sing The', 'de-for-l', 'h6 a:vis', 'y .colla', 'ondary:h', 'u td   t'}"
      ]
     },
     "execution_count": 76,
     "metadata": {},
     "output_type": "execute_result"
    }
   ],
   "source": [
    "G.hashMatch(['Bills'],freq=.6)"
   ]
  },
  {
   "cell_type": "code",
   "execution_count": 67,
   "metadata": {},
   "outputs": [
    {
     "name": "stdout",
     "output_type": "stream",
     "text": [
      "sampling 5 messages matching ['Job Interview']\n",
      "3425\n",
      "sampling 5 messages matching ['Job Denial']\n",
      "163\n",
      "sampling 12 messages matching ['Job Recruiter Spam']\n",
      "2833\n"
     ]
    }
   ],
   "source": [
    "LABELS = ['Job Interview','Job Denial','Job Recruiter Spam']\n",
    "for lab in LABELS:\n",
    "    H[lab] = G.hashMatch([lab],freq=.5)\n",
    "    print(len(H[lab]))"
   ]
  },
  {
   "cell_type": "code",
   "execution_count": 62,
   "metadata": {},
   "outputs": [
    {
     "name": "stdout",
     "output_type": "stream",
     "text": [
      "Job Recruiter Spam,0.5642, Greetings Royce,My name isRomit and I am a Sr. Recruiter at eTeam Inc. eTeam Incis a global contingency staffing firm servicing fortune 1000 clients across North America, Europe, and Asia.We have an excellent job opportunity with one of our clients.I\n",
      "\n",
      "Job Recruiter Spam,0.9030, TalentHire - Simplified Recruiting and Staffing                                                                                                                                                                     HelloRoyceSchultzTitle:-AWS ArchitectL\n",
      "\n",
      "Job Recruiter Spam,0.9489, TalentHire - Simplified Recruiting and Staffing                                                                                                                                                                     HelloRoyceSchultzMy name is Rathan G a\n",
      "\n",
      "Job Denial,0.6130, Hi Royce,Thank you so much for your time and strong interest in PlayStation. Unfortunately, we have decided not to proceed with your candidacy at this time for the Data Science Intern role at PlayStation.Please feel free to apply for any other positi\n",
      "\n",
      "Job Denial,0.6239, Hi Royce,Thanks for submitting your application to GitHub! Your information has been personally reviewed by one of our Talent Partners in consideration for our Software Engineering Intern - GitHub Actions opening.At this time, we have decided to move\n",
      "\n",
      "Job Denial,0.5717, ( http://unity3d.com/?elqTrackId=f7910721ac1d4efcb0863798b2159393&elqTrack=true )Hello Royce,Thank you for giving us the opportunity to consider you for the Data Science Intern position with us at Unity Technologies.We have carefully reviewed your ex\n",
      "\n",
      "Job Denial,0.4870, Hi Royce,Thank you again for your application to the 2020 Software Engineer Intern - 76852 position and your interest in Bloomberg. Unfortunately, we have decided not to proceed with your candidacy at this time, but we appreciate the time and effort \n",
      "\n",
      "Job Interview,0.5180, Hello Royce Schultz,Thank you for your interest in Amazon&rsquo;s Software Development Engineering Internshipopportunities! This is Part 3 of the online assessment. If you do not complete Part 3, you will not be moved forward in the interviewing proc\n",
      "\n",
      "Job Interview,0.6944, Hello Royce Schultz,Thank you for your interest in Amazon&rsquo;s Software Development Engineering internshipopportunities! This is Part 2 of the online assessment. If you do not complete Part 2, you will not receive Part 3 of the online assessment. \n",
      "\n",
      "Job Interview,0.6076, Hello Royce Schultz,Thank you for your interest in Amazon&rsquo;sSoftware Development Engineering Internship opportunities! This is Part 1 of the online assessment. If you do not complete Part 1, you will not receive Part 2 of the online assessment. \n",
      "\n",
      "Job Recruiter Spam,0.9622, TalentHire - Simplified Recruiting and Staffing                                                                                                                                                         HelloRoyceSchultzMy name is Deepankar Sewak and I \n",
      "\n",
      "Job Recruiter Spam,0.5653, Greetings Royce,My name isVinay and I am recruiter at eTeam Inc. eTeam Incis a global contingency staffing firm servicing fortune 1000 clients across North America, Europe and Asia.We have an excellent job opportunity with one of our clients.Title:Pe\n",
      "\n",
      "Job Recruiter Spam,0.5551, Greetings Royce,My name isShilom James and I am Sr. Technnical Recruiter at eTeam Inc. eTeam Incis a global contingency staffing firm servicing fortune 1000 clients across North America, Europe and Asia.We have an excellent job opportunity with one o\n",
      "\n",
      "Job Recruiter Spam,0.5557, Greetings Royce,My name isJashanpal Singh and I am a recruiter at eTeam Inc. eTeam Incis a global contingency staffing firm servicing fortune 1000 clients across North America, Europe, and Asia.We have an excellent job opportunity with one of our cli\n",
      "\n",
      "Job Recruiter Spam,0.5509, Greetings Royce,My name isRiken and I am recruiter at eTeam Inc. eTeam Incis a global contingency staffing firm servicing fortune 1000 clients across North America, Europe and Asia.We have an excellent job opportunity with one of our clients.Title:- \n",
      "\n",
      "Job Recruiter Spam,0.9398, TalentHire - Simplified Recruiting and Staffing                                                                                                                                                         HelloRoyceSchultzMy name is Sushritha D and I am a\n",
      "\n",
      "Job Recruiter Spam,0.5621, Greetings Royce,My name isVinay and I am recruiter at eTeam Inc. eTeam Incis a global contingency staffing firm servicing fortune 1000 clients across North America, Europe and Asia.We have an excellent job opportunity with one of our clients.Title: P\n",
      "\n",
      "Job Recruiter Spam,0.5658, Greetings, My name is Akshay and I am Recruiter at eTeam Inc. eTeam Inc is a global contingency staffing firm servicing fortune 1000 clients globally. We have an excellent job opportunity with one of our client.I found your resume on one of the Job B\n",
      "\n",
      "Job Recruiter Spam,0.5498, Greetings Royce,My name isVinay and I am recruiter at eTeam Inc. eTeam Incis a global contingency staffing firm servicing fortune 1000 clients across North America, Europe and Asia.We have an excellent job opportunity with one of our clients.Job Titl\n",
      "\n"
     ]
    }
   ],
   "source": [
    "\n",
    "for m in messages:\n",
    "    content = G.messages.parseMessage(m)\n",
    "    ML, MS = None, 0\n",
    "    for L in LABELS:\n",
    "        s = H[L].sim(content)\n",
    "        if s > MS:\n",
    "            MS = s\n",
    "            ML = L\n",
    "    if MS > .4:\n",
    "        print(f'{ML},{MS:.4f}, {content[:250]}')\n",
    "        print()\n",
    "    if MS > .5:\n",
    "        G.labels.setLabel(m,[ML])"
   ]
  },
  {
   "cell_type": "code",
   "execution_count": 45,
   "metadata": {},
   "outputs": [
    {
     "name": "stdout",
     "output_type": "stream",
     "text": [
      "done\n"
     ]
    }
   ],
   "source": [
    "print('done')"
   ]
  },
  {
   "cell_type": "code",
   "execution_count": 40,
   "metadata": {},
   "outputs": [
    {
     "name": "stdout",
     "output_type": "stream",
     "text": [
      "0.1012, 0.9072, Royce,Thank you for taking the time to apply to Ve\n"
     ]
    }
   ],
   "source": [
    "for m in messages:\n",
    "    content = G.messages.parseMessage(m)\n",
    "    s = H['Job Applications'].sim(content)\n",
    "    s2 = H['Job False Negative'].sim(content)\n",
    "    if s2 > .5:\n",
    "        print(f'{s:.4f}, {s2:.4f}, {content[:50]}')"
   ]
  },
  {
   "cell_type": "code",
   "execution_count": 42,
   "metadata": {},
   "outputs": [
    {
     "data": {
      "text/plain": [
       "299"
      ]
     },
     "execution_count": 42,
     "metadata": {},
     "output_type": "execute_result"
    }
   ],
   "source": [
    "\n",
    "len(messages)"
   ]
  },
  {
   "cell_type": "code",
   "execution_count": null,
   "metadata": {},
   "outputs": [],
   "source": []
  }
 ],
 "metadata": {
  "kernelspec": {
   "display_name": "Python 3",
   "language": "python",
   "name": "python3"
  },
  "language_info": {
   "codemirror_mode": {
    "name": "ipython",
    "version": 3
   },
   "file_extension": ".py",
   "mimetype": "text/x-python",
   "name": "python",
   "nbconvert_exporter": "python",
   "pygments_lexer": "ipython3",
   "version": "3.7.5"
  }
 },
 "nbformat": 4,
 "nbformat_minor": 2
}

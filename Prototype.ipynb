{
 "cells": [
  {
   "cell_type": "markdown",
   "metadata": {},
   "source": [
    "# Email Sorting\n",
    "Royce Schultz\n",
    "\n",
    "Files available on my [GitHub](https://github.com/royceschultz/DataProject)"
   ]
  },
  {
   "cell_type": "markdown",
   "metadata": {},
   "source": [
    "## Abstract\n",
    "I currently have 1,460 unread emails between my 2 primary accounts. Sorting all these messages is no quick task. The simplest method is a series of if statements like,\n",
    "```\n",
    "if (message.from('no-reply@piazza.com')): return label('piazza')\n",
    "\n",
    "```\n",
    "But more nuanced cases may require more care. For example, email lists may come from many differnt people. Additionally, those people may send you other emails for different contexts.\n",
    "\n",
    "I will be looking specifically at identifying responses from job applications. My goal is to disinguish between confirmaiton emails, code tests, denials, offers, and spam recruiters."
   ]
  },
  {
   "cell_type": "code",
   "execution_count": 1,
   "metadata": {},
   "outputs": [],
   "source": [
    "from model import Gmail\n",
    "import matplotlib.pyplot as plt\n",
    "import numpy as np\n",
    "import random"
   ]
  },
  {
   "cell_type": "markdown",
   "metadata": {},
   "source": [
    "## The Gmail Class\n",
    "\n",
    "This custom class handles communication with the api. It can grab live messages and labels from the associated gmail account."
   ]
  },
  {
   "cell_type": "code",
   "execution_count": 9,
   "metadata": {},
   "outputs": [],
   "source": [
    "G = Gmail()"
   ]
  },
  {
   "cell_type": "code",
   "execution_count": 10,
   "metadata": {},
   "outputs": [
    {
     "data": {
      "text/plain": [
       "['Github', 'Cycling', 'Canvas', 'Job Applications', 'Piazza']"
      ]
     },
     "execution_count": 10,
     "metadata": {},
     "output_type": "execute_result"
    }
   ],
   "source": [
    "LABEL_NAMES = G.labels.names()\n",
    "DEFAULT_LABELS = ['CATEGORY_PERSONAL','CATEGORY_SOCIAL','CATEGORY_FORUMS','IMPORTANT','CATEGORY_UPDATES'\n",
    "                  ,'CHAT','SENT','INBOX','TRASH','CATEGORY_PROMOTIONS','DRAFT','SPAM','STARRED','UNREAD']\n",
    "CUSTOM_LABELS = []\n",
    "for label in LABEL_NAMES:\n",
    "    if not label in DEFAULT_LABELS: CUSTOM_LABELS += [label]\n",
    "CUSTOM_LABELS"
   ]
  },
  {
   "cell_type": "code",
   "execution_count": 13,
   "metadata": {},
   "outputs": [
    {
     "name": "stdout",
     "output_type": "stream",
     "text": [
      "done\n"
     ]
    }
   ],
   "source": [
    "reset = False\n",
    "idx = [1]\n",
    "RESET_LABELS = [CUSTOM_LABELS[i] for i in idx]\n",
    "SET_LABELS = ['INBOX','UNREAD']\n",
    "if reset:\n",
    "    for label in RESET_LABELS:\n",
    "        print(label)\n",
    "        G.labels.clearLabel([label],[label],SET_LABELS)\n",
    "print('done')"
   ]
  },
  {
   "cell_type": "markdown",
   "metadata": {},
   "source": [
    "lets pick a label and identify charachteristic words in this group"
   ]
  },
  {
   "cell_type": "code",
   "execution_count": null,
   "metadata": {},
   "outputs": [],
   "source": [
    "myLabels = ['Job Applications']"
   ]
  },
  {
   "cell_type": "code",
   "execution_count": null,
   "metadata": {},
   "outputs": [],
   "source": [
    "messages = G.labels.match(myLabels)"
   ]
  },
  {
   "cell_type": "code",
   "execution_count": null,
   "metadata": {
    "scrolled": true
   },
   "outputs": [],
   "source": [
    "print(len(messages))\n",
    "print(messages[0])"
   ]
  },
  {
   "cell_type": "markdown",
   "metadata": {},
   "source": [
    "### Creating a descriptive hash\n",
    "The hash function shingles all messages it's given and identifies shingles that are common in at least **freq**% of messages"
   ]
  },
  {
   "cell_type": "code",
   "execution_count": null,
   "metadata": {},
   "outputs": [],
   "source": [
    "myHash = G.getHash(random.sample(messages,50), freq=0.15, k=8)"
   ]
  },
  {
   "cell_type": "code",
   "execution_count": null,
   "metadata": {
    "scrolled": true
   },
   "outputs": [],
   "source": [
    "print(len(myHash))\n",
    "print(myHash)"
   ]
  },
  {
   "cell_type": "code",
   "execution_count": null,
   "metadata": {
    "scrolled": true
   },
   "outputs": [],
   "source": [
    "myHash.filter(.3)\n",
    "print(len(myHash))\n",
    "print(myHash)"
   ]
  },
  {
   "cell_type": "markdown",
   "metadata": {},
   "source": [
    "### Evaluating the hash\n",
    "Let's see how messages in the group compare to the hash"
   ]
  },
  {
   "cell_type": "code",
   "execution_count": null,
   "metadata": {},
   "outputs": [],
   "source": [
    "scores = []\n",
    "for i, message in enumerate(messages):\n",
    "    print(i, end='\\r')\n",
    "    content = G.messages.parseMessage(message)\n",
    "    s = myHash.sim(content)\n",
    "    scores.append(s)\n",
    "plt.hist(scores)"
   ]
  },
  {
   "cell_type": "code",
   "execution_count": null,
   "metadata": {
    "scrolled": true
   },
   "outputs": [],
   "source": [
    "ranks = np.argsort(scores)\n",
    "\n",
    "for i in ranks[:5]:\n",
    "    print(G.messages.readMessage(messages[i])[:100])"
   ]
  },
  {
   "cell_type": "code",
   "execution_count": null,
   "metadata": {
    "scrolled": true
   },
   "outputs": [],
   "source": [
    "for i in ranks[-5:]:\n",
    "    print(G.messages.readMessage(messages[i])[:100])"
   ]
  },
  {
   "cell_type": "markdown",
   "metadata": {},
   "source": [
    "### Huh, that might be a problem\n",
    "This method is very sensative to initialization. It will favor 'template' emails that are literally identical in large chunks of their content."
   ]
  },
  {
   "cell_type": "markdown",
   "metadata": {},
   "source": [
    "### Identifying new messages\n",
    "Now that we've done the hard part by sampling lots of examples of a label, matching the label to a new message is pretty easy."
   ]
  },
  {
   "cell_type": "code",
   "execution_count": null,
   "metadata": {},
   "outputs": [],
   "source": [
    "for i in range(100):\n",
    "    print(i,end='\\r')\n",
    "    message = G.messages.popMessage()\n",
    "    content = G.messages.parseMessage(message)\n",
    "    s = myHash.sim(content)\n",
    "    if s > .3:\n",
    "        print(content[:100])"
   ]
  },
  {
   "cell_type": "markdown",
   "metadata": {},
   "source": [
    "### Preliminary conclusion\n",
    "This method sucessfully identifies closely related emails. This should be a significant step towards organizing my inbox, however further tests must be performed to test the efficacy on emails with more diverse language."
   ]
  }
 ],
 "metadata": {
  "kernelspec": {
   "display_name": "Python 3",
   "language": "python",
   "name": "python3"
  },
  "language_info": {
   "codemirror_mode": {
    "name": "ipython",
    "version": 3
   },
   "file_extension": ".py",
   "mimetype": "text/x-python",
   "name": "python",
   "nbconvert_exporter": "python",
   "pygments_lexer": "ipython3",
   "version": "3.7.5"
  }
 },
 "nbformat": 4,
 "nbformat_minor": 2
}

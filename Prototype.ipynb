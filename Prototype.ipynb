{
 "cells": [
  {
   "cell_type": "markdown",
   "metadata": {},
   "source": [
    "# Email Sorting\n",
    "Royce Schultz"
   ]
  },
  {
   "cell_type": "markdown",
   "metadata": {},
   "source": [
    "## Abstract\n",
    "I currently have 1,460 unread emails between my 2 primary accounts. Sorting all these messages is no quick task. The simplest method is a series of if statements like,\n",
    "```\n",
    "if (message.from('no-reply@piazza.com')): return label('piazza')\n",
    "\n",
    "```\n",
    "But more nuanced cases may require more care. For example, email lists may come from many differnt people. Additionally, those people may send you other emails for different contexts.\n",
    "\n",
    "I will be looking specifically at identifying responses from job applications. My goal is to disinguish between confirmaiton emails, code tests, denials, offers, and spam recruiters."
   ]
  },
  {
   "cell_type": "code",
   "execution_count": 7,
   "metadata": {},
   "outputs": [],
   "source": [
    "from model import Gmail\n",
    "from shingles import *\n",
    "import matplotlib.pyplot as plt\n",
    "import numpy as np\n",
    "import random"
   ]
  },
  {
   "cell_type": "markdown",
   "metadata": {},
   "source": [
    "## The Gmail Class\n",
    "\n",
    "This custom class handles communication with the api. It can grab live messages and labels from the associated gmail account."
   ]
  },
  {
   "cell_type": "code",
   "execution_count": 2,
   "metadata": {},
   "outputs": [],
   "source": [
    "G = Gmail()"
   ]
  },
  {
   "cell_type": "code",
   "execution_count": 3,
   "metadata": {},
   "outputs": [],
   "source": [
    "LABEL_NAMES = G.labels.names()"
   ]
  },
  {
   "cell_type": "markdown",
   "metadata": {},
   "source": [
    "lets pick a label and identify charachteristic words in this group"
   ]
  },
  {
   "cell_type": "code",
   "execution_count": 4,
   "metadata": {},
   "outputs": [],
   "source": [
    "myLabels = ['Job Applications']"
   ]
  },
  {
   "cell_type": "code",
   "execution_count": 5,
   "metadata": {},
   "outputs": [],
   "source": [
    "messages = G.labels.match(myLabels)"
   ]
  },
  {
   "cell_type": "code",
   "execution_count": 6,
   "metadata": {
    "scrolled": true
   },
   "outputs": [
    {
     "name": "stdout",
     "output_type": "stream",
     "text": [
      "84\n",
      "{'id': '16e7151f00e3a48b', 'threadId': '16e7151f00e3a48b'}\n"
     ]
    }
   ],
   "source": [
    "print(len(messages))\n",
    "print(messages[0])"
   ]
  },
  {
   "cell_type": "markdown",
   "metadata": {},
   "source": [
    "### Creating a descriptive hash\n",
    "The hash function shingles all messages it's given and identifies shingles that are common in at least **freq**% of messages"
   ]
  },
  {
   "cell_type": "code",
   "execution_count": 20,
   "metadata": {},
   "outputs": [
    {
     "name": "stdout",
     "output_type": "stream",
     "text": [
      "49\r"
     ]
    }
   ],
   "source": [
    "myHash = G.getHash(random.sample(messages,50), freq=0.15, k=8)"
   ]
  },
  {
   "cell_type": "code",
   "execution_count": 21,
   "metadata": {
    "scrolled": true
   },
   "outputs": [
    {
     "name": "stdout",
     "output_type": "stream",
     "text": [
      "676\n",
      "{' will be', 'hat you ', 'able to ', 'LinkedIn', 'ue to th', 'ndidate ', 'ing Inte', 'l contac', 'Regards,', 'view you', 'f there ', 'your app', 'unities ', 'n your c', 'r employ', 'gineerin', 'do not r', 'n status', 'as been ', ' Intern ', 'eam will', 'ackgroun', 'more abo', ' do not ', 'u have a', 'i Royce,', 'ved your', 't of luc', ' intervi', 'le an in', 'we encou', 'ualifica', 'candidat', 'ion for ', ' you to ', ' online ', 'nterest ', ' submitt', 'xperienc', 'ur appli', 'iew your', 'we appre', 'l not be', 'https://', 'ou for y', 'Recruiti', 'are Engi', 'his emai', 'ime and ', 'at Amazo', ' in touc', 'our expe', 'nd will ', 'evelopme', ' update ', 'iewing y', 'ng Inter', 'se your ', 'ext step', 'siderati', 'llo Royc', ' your ex', 'on for t', 'reach ou', ' if ther', 'cruiting', 'r your i', 'o schedu', 'eceived ', 'ortuniti', 'cation f', 'the best', 'uiting t', ' this po', ' of our ', 'ecruiter', 'ease do ', ' for thi', 'e review', ' time an', 'e requir', ' of appl', ' at Amaz', 'there is', ' the fol', 'lume of ', 'each out', 'personal', 'be revie', 'er Inter', 'alificat', 'ith the ', 'ce Schul', 'ng the t', 'ill revi', 'will not', 'nities a', ' we will', ' you are', '        ', 'or the r', 'ou will ', 'Engineer', 'ing this', ' to comp', 'ting Tea', 'terested', 'to learn', 'ank you ', ' process', 'ur inter', 'time and', 'olume of', 'your can', 'd your a', 'uirement', '/careers', 'rds,The ', 'eering I', 'r Intern', 'Hello Ro', 'se do no', 'tion for', 'll revie', 'submitte', ',Thank y', 'ppreciat', ' Recruit', 'Royce Sc', 'ur quali', 'o learn ', 'aking th', 'Thank yo', 'o not re', 'act you ', 'of your ', 'ello Roy', 'r opport', ' Student', 'ternship', 'erience ', 'g the te', ' recruit', ' of your', 't Amazon', 'erest in', 'he role.', 'Due to t', 'll be in', 'r Recrui', ' require', ' informa', 'st of lu', 'yce, Tha', 'openings', ' with th', 't regard', ' we are ', 'you to s', 'e volume', 'ificatio', 'our time', 'eceive a', 'eciate y', 're about', ' encoura', 'not repl', 'n for th', 'reciate ', 'We have ', 'are Deve', '.Thank y', ' ensure ', 'be in to', ' not be ', 'that you', ' your in', 'ications', ' we appr', 'our resu', 'ncerely,', 'ou the b', 'the posi', 'yce,Than', 'ill not ', 'backgrou', 'your res', 'ortunity', 'ards,The', ' out to ', 'k you fo', ' you for', ' Thank y', 'our appl', ' and exp', 'ckground', 'Sincerel', 'nk you f', 'ng team ', 'e inform', 'u would ', 'ill cont', 'you woul', 'e positi', 'er oppor', ', Thank ', ' Amazon.', ' questio', 'ou would', 'ntereste', 'ssessmen', 'ou are n', 'ation an', ' be revi', ' joining', 'sh you t', ' there i', 'complete', 'eviewing', ' message', 'Student ', 'cruiters', 'tware En', 'lease re', 'ndidates', 'qualific', 'e,Thank ', 'ontainer', 'ng this ', 'learn mo', 'kground ', 'ish you ', 'opportun', 'ed your ', ' know th', 'e about ', ' are not', 'consider', 'ease not', 'rest in ', ' team wi', 'e contac', 'you the ', 'ere is a', 'question', 'our inte', ' more ab', 'ur resum', 'om/caree', 'followin', 'he time ', 'informat', 'ftware E', 'you have', 'ftware D', 'l be in ', 'team wil', 'Hi Royce', ' the bes', 'ormation', ' persona', ' forward', 'like to ', 'ear Royc', 'in your ', 'll not b', 'ct you t', 'cations,', 'intervie', 'e to the', 'hank you', 'experien', 'uestions', 'pdate yo', 'mploymen', 'nternshi', 'g Intern', 'ule an i', ' your qu', ' your pr', 'mmer 202', 'osition ', ' confirm', 't you to', 'ing Team', ' Interns', 'iate you', ' for you', 'lopment ', 'ill be r', 'e Schult', 'tware De', 'ciate yo', 'e apprec', 'e Engine', 've recei', 'andidate', 'r career', 'preciate', ' https:/', 'careers ', 'our care', 'our qual', 'o Royce,', ' your ca', ' has bee', 'tact you', 'perience', 'te your ', 'ge you t', ' an inte', 'next ste', '. If the', '. Please', 'tion and', 'ed for t', ' next st', ' opening', 'terest i', 'u are no', ' the rol', 'llowing ', 'to sched', 'onsider ', 'will rev', 're is a ', 'edule an', 'ware Eng', ' and wil', 'l be rev', 'employme', ' availab', '.Sincere', '.com/car', ' will co', ' you can', 's://www.', ' not rep', 'ruiters ', 'and will', 'pplicati', 'your int', 'provide ', ' applica', 'hedule a', 'Developm', ' Amazon ', 'omplete ', 'neering ', 'you for ', ' volume ', ' review ', 'ume of a', 'e in tou', 'h you th', 'we will ', 'ore abou', 'for the ', 'Internsh', ' please ', 'ttps://t', 'mer 2020', 'egards,T', 'this ema', ' If you ', 'the role', 'bmitted ', ' career ', 'ting you', 'ations, ', 'ur candi', ' opportu', 'ar Royce', 'pportuni', 'lication', 'am will ', ' to lear', 'osition,', 're Devel', 'wing you', 'he team ', 'velopmen', 'erested ', 'e follow', 'e Develo', 'nsiderat', 'lease no', 'uring th', ' you wil', 'date you', 'u for yo', ' reviewi', ' one of ', 'for your', 'll be re', 'will be ', 'Royce,Th', 's email ', 'your qua', 'n touch ', 'Dear Roy', 'applicat', 'ting tea', ' learn m', 'ew your ', 'e, we wi', 'r applic', 'e do not', 'in touch', 'the time', '. If you', 'are not ', 'ngineer ', 'viewing ', 'g team w', ' to you ', 'urage yo', 'ubmitted', 'wish you', 'didates ', 'volume o', 'rtunity ', 'Software', 'out our ', 'to this ', ' in the ', 'r qualif', ' of luck', ' the pos', 'we recei', 'If you a', 'n more a', ' Schultz', 'age you ', 'eview yo', ', we wil', 'plicatio', 'position', 'ideratio', 'the team', 'f you ar', 'apprecia', 'ived you', ' positio', 'encourag', 'if there', 'oyce,Tha', 'r Royce,', 'sition, ', 'ation fo', ' continu', 'd will b', 'xt steps', ' you the', 'ing our ', ' to this', 'he best ', 'you are ', 'Summer 2', 'you can ', 'e encour', ' Royce S', 'e of app', ' backgro', ' Program', ' our tea', ' provide', 'rage you', 'ps://www', 'sessment', 'or this ', ' your ti', 'ase do n', 'an inter', ' Royce, ', 'here is ', 'iting Te', 'our team', ' appreci', ' during ', 'uiting T', 'business', 'ntact yo', ' and we ', 'forward ', 'e receiv', 'ecruitin', ' you wou', 'earn mor', 'ing team', 'requirem', ' reach o', 'Please n', ' the tim', 'contact ', 'with you', ' a good ', 'm will r', 'portunit', 'update y', 'com/care', 'will con', ' this em', 'or apply', 'eived yo', 'ntern - ', 'ou have ', 'yce Schu', 'tps://ww', 'ring the', 'nterview', 'u the be', 'incerely', 'r resume', 'oftware ', ' to the ', 'loyment ', 'your exp', 'ring Int', ' for the', 'tion of ', 'ing the ', ' we enco', 'or your ', 'ase note', 'ollowing', ' Royce,T', '       H', ' resume ', 's Recrui', 'r candid', ' if you ', ' Develop', 'chedule ', 'ewing yo', 'ering In', ' of the ', '.       ', 'at this ', 'has been', 'reviewin', ' with yo', 'with the', 'me of ap', 'm/career', 'ur time ', 'rn more ', 'ceived y', 'oyce, Th', ' on our ', ' experie', 'your tim', 'ployment', ' candida', 'ce,Thank', '       T', ' your re', 'd like t', ' status ', ' in your', 'that we ', ' screen ', 'received', ' receive', 'ineering', 'ontinue ', ' be in t', 'mplete t', 'ication ', ' contact', 'f you do', 'e of our', 'h out to', 're Engin', 'elopment', 'dule an ', 'ware Dev', 'n and wi', 'l review', ' we rece', 'deration', 'o comple', ' Please ', 'ce, Than', ' to sche', 'during t', ' that we', 'e you to', ' Enginee', ' you hav', 'iting te', 'e, Thank', 'review y', 'e your i', ' wish yo', 'ach out ', ', please', 'onsidera', ' within ', 'is email', 'receive ', 'equireme', 'schedule', ' that yo', 'ch out t', ' complet', 'he follo', 'joining ', 'ngineeri', 'lease do', 'cations ', 'you will', 'ttps://w', ' schedul', ' will no', 'formatio', 'ontact y', 's of the', 'ncourage', ' will re', 'ing your', 'lo Royce', 'the foll', 'continue', 'our cand', 'ion and ', 'ur caree', ' employm', ' the tea', ' followi', ' conside', '.Please ', 'terview ', ' your ap', 'ummer 20', 'arn more', ' Softwar', 'f applic', 'Please d', 'rmation ', 'on and w', 'nformati', 'he posit', 'ng your ', 'mation t', 'for this', ' interes', 'gards,Th', ' qualifi', 'Intern -', 'est of l', 'quiremen', 'rtunitie', 'ruiting ', 'll conta', 'Royce, T', 'ill be i', 'irements', 'cation a', 'tunities', 'ernship ', 'oyce Sch', ' busines', 'lificati', 'fication', 'ne of ou', 'to compl', ' like to', 'courage ', 'r intere', 'interest', 'ourage y', 'of appli', 'w your a', 'ate your', 'ot reply'}\n"
     ]
    }
   ],
   "source": [
    "print(len(myHash))\n",
    "print(myHash)"
   ]
  },
  {
   "cell_type": "code",
   "execution_count": 22,
   "metadata": {
    "scrolled": true
   },
   "outputs": [
    {
     "name": "stdout",
     "output_type": "stream",
     "text": [
      "181\n",
      "{' will be', 'our appl', 'hat you ', 'able to ', 'nk you f', 'ng team ', 'portunit', 'you for ', ' review ', 'your app', 'unities ', 'eived yo', 'ou have ', ' Intern ', 'eam will', 'we will ', 'ore abou', 'more abo', 'for the ', 'i Royce,', ' please ', ' to the ', 'oftware ', 'ved your', ' for the', 'ualifica', 'ing the ', 'candidat', 'ion for ', 'or your ', ' you to ', ' opportu', 'nterest ', 'tware En', 'xperienc', 'ur appli', 'pportuni', 'lication', ' Royce,T', 'am will ', 'https://', 'ou for y', 'qualific', 'Recruiti', 'are Engi', 'e,Thank ', 'his emai', 'nd will ', 'opportun', 'ed your ', 'u for yo', ' of the ', 'e about ', 'consider', 'on for t', 'cruiting', 'r your i', 'ceived y', 'rest in ', 'eceived ', 'ortuniti', 'cation f', 'for your', 'will be ', 'Royce,Th', ' experie', 'applicat', 'our inte', ' of our ', ' more ab', ' candida', 'ce,Thank', 'r applic', 'informat', 'received', 'alificat', ' receive', 'ftware E', 'you have', 'Hi Royce', 'will not', 'ormation', 'ication ', ' contact', ' we will', ' you are', 'Software', 'Engineer', 're Engin', ' in the ', 'ank you ', ' Please ', 'hank you', 'experien', ' you hav', 'ur inter', ' Enginee', 'nternshi', 'e your i', ', please', 'd your a', 'is email', 'position', 'plicatio', 'tion for', ',Thank y', ' that yo', 'apprecia', 'ppreciat', ' Recruit', 'iate you', ' for you', ' positio', 'ived you', 'o learn ', 'ciate yo', 'cations ', 'Thank yo', 'oyce,Tha', 'e Engine', 've recei', 'andidate', 'formatio', ' will no', 'preciate', 'ation fo', ' https:/', ' will re', 'ing your', 'ternship', 'you are ', 'ion and ', 'erest in', ' your ca', 'k you fo', ' require', ' informa', 'perience', 'te your ', ' conside', 'ificatio', ' your ap', 'tion and', 'eciate y', ' Softwar', 're about', 'rmation ', 'n for th', 'reciate ', 'nformati', 'ng your ', ' interes', 'terest i', ' qualifi', 'that you', 'ruiting ', 'rtunitie', ' your in', 'ications', ' appreci', 'yce,Than', 'tunities', 'cation a', 'ware Eng', ' and wil', 'fication', 'lificati', 'e receiv', 'ecruitin', 'ill not ', 'r intere', 'ing team', 'interest', 'and will', 'pplicati', 'your int', 'contact ', ' applica', 'ate your', ' you for', ' Thank y'}\n"
     ]
    }
   ],
   "source": [
    "myHash.filter(.3)\n",
    "print(len(myHash))\n",
    "print(myHash)"
   ]
  },
  {
   "cell_type": "markdown",
   "metadata": {},
   "source": [
    "### Evaluating the hash\n",
    "Let's see how messages in the group compare to the hash"
   ]
  },
  {
   "cell_type": "code",
   "execution_count": 23,
   "metadata": {},
   "outputs": [
    {
     "name": "stdout",
     "output_type": "stream",
     "text": [
      "83\r"
     ]
    },
    {
     "data": {
      "text/plain": [
       "(array([ 6.,  7., 14., 10., 17., 14.,  2.,  2.,  5.,  7.]),\n",
       " array([0.3038674 , 0.34530387, 0.38674033, 0.4281768 , 0.46961326,\n",
       "        0.51104972, 0.55248619, 0.59392265, 0.63535912, 0.67679558,\n",
       "        0.71823204]),\n",
       " <a list of 10 Patch objects>)"
      ]
     },
     "execution_count": 23,
     "metadata": {},
     "output_type": "execute_result"
    },
    {
     "data": {
      "image/png": "[encoded data removed]",
      "text/plain": [
       "<Figure size 432x288 with 1 Axes>"
      ]
     },
     "metadata": {
      "needs_background": "light"
     },
     "output_type": "display_data"
    }
   ],
   "source": [
    "scores = []\n",
    "for i, message in enumerate(messages):\n",
    "    print(i, end='\\r')\n",
    "    content = G.messages.parseMessage(message)\n",
    "    s = myHash.sim(content)\n",
    "    scores.append(s)\n",
    "plt.hist(scores)"
   ]
  },
  {
   "cell_type": "code",
   "execution_count": 24,
   "metadata": {
    "scrolled": true
   },
   "outputs": [
    {
     "name": "stdout",
     "output_type": "stream",
     "text": [
      "\n",
      "Hello Royce!\n",
      "\n",
      "Thank you for your interest in Amazon and for taking the time to complete the\n",
      "onli\n",
      "\n",
      "Dear Royce\n",
      "Thank you for your interest in 2020 Summer Analyst - Technology - Software Engineering -\n",
      "\n",
      "Hi Royce,\n",
      "\n",
      "Thank you for your interest in the Data Scientist, Intern 2020 role; your application \n",
      "\n",
      "Hi Royce,\n",
      "\n",
      "Thank you for your interest in Khan Academy! We appreciate the time you spent on your \n",
      "\n",
      "Dear Royce,\n",
      "\n",
      "Thank you for giving us the opportunity to consider you for the role. We have review\n"
     ]
    }
   ],
   "source": [
    "ranks = np.argsort(scores)\n",
    "\n",
    "for i in ranks[:5]:\n",
    "    print(G.messages.readMessage(messages[i])[:100])"
   ]
  },
  {
   "cell_type": "code",
   "execution_count": 25,
   "metadata": {
    "scrolled": true
   },
   "outputs": [
    {
     "name": "stdout",
     "output_type": "stream",
     "text": [
      "\n",
      "Hello Royce,\n",
      "\n",
      " Thank you for your interest in joining the team at Tesla. We’ve received your appl\n",
      "\n",
      "Hello Royce,\n",
      "\n",
      " Thank you for your interest in joining the team at Tesla. We’ve received your appl\n",
      "\n",
      "Hello Royce,\n",
      "\n",
      " Thank you for your interest in joining the team at Tesla. We’ve received your appl\n",
      "\n",
      "Hello Royce,\n",
      "\n",
      " Thank you for your interest in joining the team at Tesla. We’ve received your appl\n",
      "\n",
      "Hello Royce,\n",
      "\n",
      " Thank you for your interest in joining the team at Tesla. We’ve received your appl\n"
     ]
    }
   ],
   "source": [
    "for i in ranks[-5:]:\n",
    "    print(G.messages.readMessage(messages[i])[:100])"
   ]
  },
  {
   "cell_type": "markdown",
   "metadata": {},
   "source": [
    "### Huh, that might be a problem\n",
    "This method is very sensative to initialization. It will favor 'template' emails that are literally identical in large chunks of their content."
   ]
  },
  {
   "cell_type": "markdown",
   "metadata": {},
   "source": [
    "### Identifying new messages\n",
    "Now that we've done the hard part by sampling lots of examples of a label, matching the label to a new message is pretty easy."
   ]
  },
  {
   "cell_type": "code",
   "execution_count": 30,
   "metadata": {},
   "outputs": [
    {
     "name": "stdout",
     "output_type": "stream",
     "text": [
      "Hi Royce,Thank you so much for your time and strong interest in PlayStation. Unfortunately, we have \n",
      "Hi Royce,Thanks for submitting your application to GitHub! Your information has been personally revi\n",
      "To view this email as a web page, click here.---------------------------------------- http://click.s\n",
      "Hello Royce,Thank you for your interest in the role at Lyft! At this time, we will not be able to mo\n",
      "99\r"
     ]
    }
   ],
   "source": [
    "for i in range(100):\n",
    "    print(i,end='\\r')\n",
    "    message = G.messages.popMessage()\n",
    "    content = G.messages.parseMessage(message)\n",
    "    s = myHash.sim(content)\n",
    "    if s > .3:\n",
    "        print(content[:100])"
   ]
  },
  {
   "cell_type": "code",
   "execution_count": null,
   "metadata": {},
   "outputs": [],
   "source": []
  }
 ],
 "metadata": {
  "kernelspec": {
   "display_name": "Python 3",
   "language": "python",
   "name": "python3"
  },
  "language_info": {
   "codemirror_mode": {
    "name": "ipython",
    "version": 3
   },
   "file_extension": ".py",
   "mimetype": "text/x-python",
   "name": "python",
   "nbconvert_exporter": "python",
   "pygments_lexer": "ipython3",
   "version": "3.7.5"
  }
 },
 "nbformat": 4,
 "nbformat_minor": 2
}
